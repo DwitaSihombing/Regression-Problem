{
  "nbformat": 4,
  "nbformat_minor": 0,
  "metadata": {
    "colab": {
      "provenance": []
    },
    "kernelspec": {
      "name": "python3",
      "display_name": "Python 3"
    },
    "language_info": {
      "name": "python"
    }
  },
  "cells": [
    {
      "cell_type": "markdown",
      "source": [
        "# Kelompok 5"
      ],
      "metadata": {
        "id": "GlAggt_Fkxsq"
      }
    },
    {
      "cell_type": "markdown",
      "source": [
        "* Ignatia Hutagalung\t\t\t12S19043\n",
        "* Dwita Sihombing\t\t\t12S19055\n",
        "* Putri Yohana Rajagukguk\t\t12S19056"
      ],
      "metadata": {
        "id": "yNB1eSH_k0Fs"
      }
    },
    {
      "cell_type": "markdown",
      "source": [
        "## Mengumpulkan Data"
      ],
      "metadata": {
        "id": "jNjg5vEHlMM_"
      }
    },
    {
      "cell_type": "code",
      "execution_count": 1,
      "metadata": {
        "id": "Nex6iuXTKnU2"
      },
      "outputs": [],
      "source": [
        "import matplotlib.pyplot as plt\n",
        "import pandas as pd\n",
        "import pylab as pl\n",
        "import numpy as np\n",
        "import seaborn as sns\n",
        "%matplotlib inline"
      ]
    },
    {
      "cell_type": "code",
      "source": [
        "case_cost_prediction_train = pd.read_csv(\"./case_cost_prediction_train.csv\")"
      ],
      "metadata": {
        "id": "glVqsScgRSyf"
      },
      "execution_count": 9,
      "outputs": []
    },
    {
      "cell_type": "markdown",
      "source": [
        "# Menelaah Data "
      ],
      "metadata": {
        "id": "Bby5LbYMlQMI"
      }
    },
    {
      "cell_type": "code",
      "source": [
        "#melihat dataset\n",
        "case_cost_prediction_train"
      ],
      "metadata": {
        "colab": {
          "base_uri": "https://localhost:8080/",
          "height": 661
        },
        "id": "zbyC6w82hR3a",
        "outputId": "eff8cdc6-18b2-4ec4-9f96-f75995f1876d"
      },
      "execution_count": 10,
      "outputs": [
        {
          "output_type": "execute_result",
          "data": {
            "text/plain": [
              "       row_id         tglpelayanan  kddati2  tkp  peserta  a  b  c  cb  d  \\\n",
              "0           1  2014-04-01 00:00:00      332   40   179530  0  0  1   0  1   \n",
              "1           2  2016-11-01 00:00:00       54   40   104782  0  1  0   0  0   \n",
              "2           3  2016-05-01 00:00:00      323   30   280645  0  0  1   0  0   \n",
              "3           4  2018-11-01 00:00:00      318   40   178685  0  1  0   0  0   \n",
              "4           5  2019-10-01 00:00:00      150   30  1199321  1  0  1   0  0   \n",
              "...       ...                  ...      ...  ...      ... .. .. ..  .. ..   \n",
              "57966   57967  2019-03-01 00:00:00      241   40   157213  0  0  1   0  0   \n",
              "57967   57968  2019-09-01 00:00:00      338   30   402173  0  0  1   0  0   \n",
              "57968   57969  2016-06-01 00:00:00      241   40    99401  0  0  1   0  0   \n",
              "57969   57970  2018-01-01 00:00:00      147   40   509495  0  0  1   0  0   \n",
              "57970   57971  2016-09-01 00:00:00      204   30   770169  0  1  1   0  0   \n",
              "\n",
              "       ...  kp  kt  ku  s  sa  sb  sc  sd   case     unit_cost  \n",
              "0      ...   0   0   0  0   0   0   0   0    266  3.597440e+06  \n",
              "1      ...   0   0   1  0   0   0   1   1   2453  4.951008e+06  \n",
              "2      ...   0   0   0  0   0   0   0   0   1690  1.984208e+05  \n",
              "3      ...   0   0   0  0   0   0   0   3   1321  4.008756e+06  \n",
              "4      ...   1   0   0  0   0   1   0   5  73056  3.072272e+05  \n",
              "...    ...  ..  ..  .. ..  ..  ..  ..  ..    ...           ...  \n",
              "57966  ...   0   0   0  0   0   0   0   0    410  3.443332e+06  \n",
              "57967  ...   0   0   0  0   0   0   0   0   8272  2.128621e+05  \n",
              "57968  ...   0   0   0  0   0   0   0   0    294  3.028611e+06  \n",
              "57969  ...   0   0   0  0   0   0   2   0   1983  3.629365e+06  \n",
              "57970  ...   0   0   0  0   0   1   2   1  16679  2.956852e+05  \n",
              "\n",
              "[57971 rows x 36 columns]"
            ],
            "text/html": [
              "\n",
              "  <div id=\"df-8f035ae4-e975-472e-b271-c21361640825\">\n",
              "    <div class=\"colab-df-container\">\n",
              "      <div>\n",
              "<style scoped>\n",
              "    .dataframe tbody tr th:only-of-type {\n",
              "        vertical-align: middle;\n",
              "    }\n",
              "\n",
              "    .dataframe tbody tr th {\n",
              "        vertical-align: top;\n",
              "    }\n",
              "\n",
              "    .dataframe thead th {\n",
              "        text-align: right;\n",
              "    }\n",
              "</style>\n",
              "<table border=\"1\" class=\"dataframe\">\n",
              "  <thead>\n",
              "    <tr style=\"text-align: right;\">\n",
              "      <th></th>\n",
              "      <th>row_id</th>\n",
              "      <th>tglpelayanan</th>\n",
              "      <th>kddati2</th>\n",
              "      <th>tkp</th>\n",
              "      <th>peserta</th>\n",
              "      <th>a</th>\n",
              "      <th>b</th>\n",
              "      <th>c</th>\n",
              "      <th>cb</th>\n",
              "      <th>d</th>\n",
              "      <th>...</th>\n",
              "      <th>kp</th>\n",
              "      <th>kt</th>\n",
              "      <th>ku</th>\n",
              "      <th>s</th>\n",
              "      <th>sa</th>\n",
              "      <th>sb</th>\n",
              "      <th>sc</th>\n",
              "      <th>sd</th>\n",
              "      <th>case</th>\n",
              "      <th>unit_cost</th>\n",
              "    </tr>\n",
              "  </thead>\n",
              "  <tbody>\n",
              "    <tr>\n",
              "      <th>0</th>\n",
              "      <td>1</td>\n",
              "      <td>2014-04-01 00:00:00</td>\n",
              "      <td>332</td>\n",
              "      <td>40</td>\n",
              "      <td>179530</td>\n",
              "      <td>0</td>\n",
              "      <td>0</td>\n",
              "      <td>1</td>\n",
              "      <td>0</td>\n",
              "      <td>1</td>\n",
              "      <td>...</td>\n",
              "      <td>0</td>\n",
              "      <td>0</td>\n",
              "      <td>0</td>\n",
              "      <td>0</td>\n",
              "      <td>0</td>\n",
              "      <td>0</td>\n",
              "      <td>0</td>\n",
              "      <td>0</td>\n",
              "      <td>266</td>\n",
              "      <td>3.597440e+06</td>\n",
              "    </tr>\n",
              "    <tr>\n",
              "      <th>1</th>\n",
              "      <td>2</td>\n",
              "      <td>2016-11-01 00:00:00</td>\n",
              "      <td>54</td>\n",
              "      <td>40</td>\n",
              "      <td>104782</td>\n",
              "      <td>0</td>\n",
              "      <td>1</td>\n",
              "      <td>0</td>\n",
              "      <td>0</td>\n",
              "      <td>0</td>\n",
              "      <td>...</td>\n",
              "      <td>0</td>\n",
              "      <td>0</td>\n",
              "      <td>1</td>\n",
              "      <td>0</td>\n",
              "      <td>0</td>\n",
              "      <td>0</td>\n",
              "      <td>1</td>\n",
              "      <td>1</td>\n",
              "      <td>2453</td>\n",
              "      <td>4.951008e+06</td>\n",
              "    </tr>\n",
              "    <tr>\n",
              "      <th>2</th>\n",
              "      <td>3</td>\n",
              "      <td>2016-05-01 00:00:00</td>\n",
              "      <td>323</td>\n",
              "      <td>30</td>\n",
              "      <td>280645</td>\n",
              "      <td>0</td>\n",
              "      <td>0</td>\n",
              "      <td>1</td>\n",
              "      <td>0</td>\n",
              "      <td>0</td>\n",
              "      <td>...</td>\n",
              "      <td>0</td>\n",
              "      <td>0</td>\n",
              "      <td>0</td>\n",
              "      <td>0</td>\n",
              "      <td>0</td>\n",
              "      <td>0</td>\n",
              "      <td>0</td>\n",
              "      <td>0</td>\n",
              "      <td>1690</td>\n",
              "      <td>1.984208e+05</td>\n",
              "    </tr>\n",
              "    <tr>\n",
              "      <th>3</th>\n",
              "      <td>4</td>\n",
              "      <td>2018-11-01 00:00:00</td>\n",
              "      <td>318</td>\n",
              "      <td>40</td>\n",
              "      <td>178685</td>\n",
              "      <td>0</td>\n",
              "      <td>1</td>\n",
              "      <td>0</td>\n",
              "      <td>0</td>\n",
              "      <td>0</td>\n",
              "      <td>...</td>\n",
              "      <td>0</td>\n",
              "      <td>0</td>\n",
              "      <td>0</td>\n",
              "      <td>0</td>\n",
              "      <td>0</td>\n",
              "      <td>0</td>\n",
              "      <td>0</td>\n",
              "      <td>3</td>\n",
              "      <td>1321</td>\n",
              "      <td>4.008756e+06</td>\n",
              "    </tr>\n",
              "    <tr>\n",
              "      <th>4</th>\n",
              "      <td>5</td>\n",
              "      <td>2019-10-01 00:00:00</td>\n",
              "      <td>150</td>\n",
              "      <td>30</td>\n",
              "      <td>1199321</td>\n",
              "      <td>1</td>\n",
              "      <td>0</td>\n",
              "      <td>1</td>\n",
              "      <td>0</td>\n",
              "      <td>0</td>\n",
              "      <td>...</td>\n",
              "      <td>1</td>\n",
              "      <td>0</td>\n",
              "      <td>0</td>\n",
              "      <td>0</td>\n",
              "      <td>0</td>\n",
              "      <td>1</td>\n",
              "      <td>0</td>\n",
              "      <td>5</td>\n",
              "      <td>73056</td>\n",
              "      <td>3.072272e+05</td>\n",
              "    </tr>\n",
              "    <tr>\n",
              "      <th>...</th>\n",
              "      <td>...</td>\n",
              "      <td>...</td>\n",
              "      <td>...</td>\n",
              "      <td>...</td>\n",
              "      <td>...</td>\n",
              "      <td>...</td>\n",
              "      <td>...</td>\n",
              "      <td>...</td>\n",
              "      <td>...</td>\n",
              "      <td>...</td>\n",
              "      <td>...</td>\n",
              "      <td>...</td>\n",
              "      <td>...</td>\n",
              "      <td>...</td>\n",
              "      <td>...</td>\n",
              "      <td>...</td>\n",
              "      <td>...</td>\n",
              "      <td>...</td>\n",
              "      <td>...</td>\n",
              "      <td>...</td>\n",
              "      <td>...</td>\n",
              "    </tr>\n",
              "    <tr>\n",
              "      <th>57966</th>\n",
              "      <td>57967</td>\n",
              "      <td>2019-03-01 00:00:00</td>\n",
              "      <td>241</td>\n",
              "      <td>40</td>\n",
              "      <td>157213</td>\n",
              "      <td>0</td>\n",
              "      <td>0</td>\n",
              "      <td>1</td>\n",
              "      <td>0</td>\n",
              "      <td>0</td>\n",
              "      <td>...</td>\n",
              "      <td>0</td>\n",
              "      <td>0</td>\n",
              "      <td>0</td>\n",
              "      <td>0</td>\n",
              "      <td>0</td>\n",
              "      <td>0</td>\n",
              "      <td>0</td>\n",
              "      <td>0</td>\n",
              "      <td>410</td>\n",
              "      <td>3.443332e+06</td>\n",
              "    </tr>\n",
              "    <tr>\n",
              "      <th>57967</th>\n",
              "      <td>57968</td>\n",
              "      <td>2019-09-01 00:00:00</td>\n",
              "      <td>338</td>\n",
              "      <td>30</td>\n",
              "      <td>402173</td>\n",
              "      <td>0</td>\n",
              "      <td>0</td>\n",
              "      <td>1</td>\n",
              "      <td>0</td>\n",
              "      <td>0</td>\n",
              "      <td>...</td>\n",
              "      <td>0</td>\n",
              "      <td>0</td>\n",
              "      <td>0</td>\n",
              "      <td>0</td>\n",
              "      <td>0</td>\n",
              "      <td>0</td>\n",
              "      <td>0</td>\n",
              "      <td>0</td>\n",
              "      <td>8272</td>\n",
              "      <td>2.128621e+05</td>\n",
              "    </tr>\n",
              "    <tr>\n",
              "      <th>57968</th>\n",
              "      <td>57969</td>\n",
              "      <td>2016-06-01 00:00:00</td>\n",
              "      <td>241</td>\n",
              "      <td>40</td>\n",
              "      <td>99401</td>\n",
              "      <td>0</td>\n",
              "      <td>0</td>\n",
              "      <td>1</td>\n",
              "      <td>0</td>\n",
              "      <td>0</td>\n",
              "      <td>...</td>\n",
              "      <td>0</td>\n",
              "      <td>0</td>\n",
              "      <td>0</td>\n",
              "      <td>0</td>\n",
              "      <td>0</td>\n",
              "      <td>0</td>\n",
              "      <td>0</td>\n",
              "      <td>0</td>\n",
              "      <td>294</td>\n",
              "      <td>3.028611e+06</td>\n",
              "    </tr>\n",
              "    <tr>\n",
              "      <th>57969</th>\n",
              "      <td>57970</td>\n",
              "      <td>2018-01-01 00:00:00</td>\n",
              "      <td>147</td>\n",
              "      <td>40</td>\n",
              "      <td>509495</td>\n",
              "      <td>0</td>\n",
              "      <td>0</td>\n",
              "      <td>1</td>\n",
              "      <td>0</td>\n",
              "      <td>0</td>\n",
              "      <td>...</td>\n",
              "      <td>0</td>\n",
              "      <td>0</td>\n",
              "      <td>0</td>\n",
              "      <td>0</td>\n",
              "      <td>0</td>\n",
              "      <td>0</td>\n",
              "      <td>2</td>\n",
              "      <td>0</td>\n",
              "      <td>1983</td>\n",
              "      <td>3.629365e+06</td>\n",
              "    </tr>\n",
              "    <tr>\n",
              "      <th>57970</th>\n",
              "      <td>57971</td>\n",
              "      <td>2016-09-01 00:00:00</td>\n",
              "      <td>204</td>\n",
              "      <td>30</td>\n",
              "      <td>770169</td>\n",
              "      <td>0</td>\n",
              "      <td>1</td>\n",
              "      <td>1</td>\n",
              "      <td>0</td>\n",
              "      <td>0</td>\n",
              "      <td>...</td>\n",
              "      <td>0</td>\n",
              "      <td>0</td>\n",
              "      <td>0</td>\n",
              "      <td>0</td>\n",
              "      <td>0</td>\n",
              "      <td>1</td>\n",
              "      <td>2</td>\n",
              "      <td>1</td>\n",
              "      <td>16679</td>\n",
              "      <td>2.956852e+05</td>\n",
              "    </tr>\n",
              "  </tbody>\n",
              "</table>\n",
              "<p>57971 rows × 36 columns</p>\n",
              "</div>\n",
              "      <button class=\"colab-df-convert\" onclick=\"convertToInteractive('df-8f035ae4-e975-472e-b271-c21361640825')\"\n",
              "              title=\"Convert this dataframe to an interactive table.\"\n",
              "              style=\"display:none;\">\n",
              "        \n",
              "  <svg xmlns=\"http://www.w3.org/2000/svg\" height=\"24px\"viewBox=\"0 0 24 24\"\n",
              "       width=\"24px\">\n",
              "    <path d=\"M0 0h24v24H0V0z\" fill=\"none\"/>\n",
              "    <path d=\"M18.56 5.44l.94 2.06.94-2.06 2.06-.94-2.06-.94-.94-2.06-.94 2.06-2.06.94zm-11 1L8.5 8.5l.94-2.06 2.06-.94-2.06-.94L8.5 2.5l-.94 2.06-2.06.94zm10 10l.94 2.06.94-2.06 2.06-.94-2.06-.94-.94-2.06-.94 2.06-2.06.94z\"/><path d=\"M17.41 7.96l-1.37-1.37c-.4-.4-.92-.59-1.43-.59-.52 0-1.04.2-1.43.59L10.3 9.45l-7.72 7.72c-.78.78-.78 2.05 0 2.83L4 21.41c.39.39.9.59 1.41.59.51 0 1.02-.2 1.41-.59l7.78-7.78 2.81-2.81c.8-.78.8-2.07 0-2.86zM5.41 20L4 18.59l7.72-7.72 1.47 1.35L5.41 20z\"/>\n",
              "  </svg>\n",
              "      </button>\n",
              "      \n",
              "  <style>\n",
              "    .colab-df-container {\n",
              "      display:flex;\n",
              "      flex-wrap:wrap;\n",
              "      gap: 12px;\n",
              "    }\n",
              "\n",
              "    .colab-df-convert {\n",
              "      background-color: #E8F0FE;\n",
              "      border: none;\n",
              "      border-radius: 50%;\n",
              "      cursor: pointer;\n",
              "      display: none;\n",
              "      fill: #1967D2;\n",
              "      height: 32px;\n",
              "      padding: 0 0 0 0;\n",
              "      width: 32px;\n",
              "    }\n",
              "\n",
              "    .colab-df-convert:hover {\n",
              "      background-color: #E2EBFA;\n",
              "      box-shadow: 0px 1px 2px rgba(60, 64, 67, 0.3), 0px 1px 3px 1px rgba(60, 64, 67, 0.15);\n",
              "      fill: #174EA6;\n",
              "    }\n",
              "\n",
              "    [theme=dark] .colab-df-convert {\n",
              "      background-color: #3B4455;\n",
              "      fill: #D2E3FC;\n",
              "    }\n",
              "\n",
              "    [theme=dark] .colab-df-convert:hover {\n",
              "      background-color: #434B5C;\n",
              "      box-shadow: 0px 1px 3px 1px rgba(0, 0, 0, 0.15);\n",
              "      filter: drop-shadow(0px 1px 2px rgba(0, 0, 0, 0.3));\n",
              "      fill: #FFFFFF;\n",
              "    }\n",
              "  </style>\n",
              "\n",
              "      <script>\n",
              "        const buttonEl =\n",
              "          document.querySelector('#df-8f035ae4-e975-472e-b271-c21361640825 button.colab-df-convert');\n",
              "        buttonEl.style.display =\n",
              "          google.colab.kernel.accessAllowed ? 'block' : 'none';\n",
              "\n",
              "        async function convertToInteractive(key) {\n",
              "          const element = document.querySelector('#df-8f035ae4-e975-472e-b271-c21361640825');\n",
              "          const dataTable =\n",
              "            await google.colab.kernel.invokeFunction('convertToInteractive',\n",
              "                                                     [key], {});\n",
              "          if (!dataTable) return;\n",
              "\n",
              "          const docLinkHtml = 'Like what you see? Visit the ' +\n",
              "            '<a target=\"_blank\" href=https://colab.research.google.com/notebooks/data_table.ipynb>data table notebook</a>'\n",
              "            + ' to learn more about interactive tables.';\n",
              "          element.innerHTML = '';\n",
              "          dataTable['output_type'] = 'display_data';\n",
              "          await google.colab.output.renderOutput(dataTable, element);\n",
              "          const docLink = document.createElement('div');\n",
              "          docLink.innerHTML = docLinkHtml;\n",
              "          element.appendChild(docLink);\n",
              "        }\n",
              "      </script>\n",
              "    </div>\n",
              "  </div>\n",
              "  "
            ]
          },
          "metadata": {},
          "execution_count": 10
        }
      ]
    },
    {
      "cell_type": "code",
      "source": [
        "case_cost_prediction_train.info()"
      ],
      "metadata": {
        "colab": {
          "base_uri": "https://localhost:8080/"
        },
        "id": "VNweZMeFibl8",
        "outputId": "ec1bc889-c786-4df9-ea43-caae1431432b"
      },
      "execution_count": 11,
      "outputs": [
        {
          "output_type": "stream",
          "name": "stdout",
          "text": [
            "<class 'pandas.core.frame.DataFrame'>\n",
            "RangeIndex: 57971 entries, 0 to 57970\n",
            "Data columns (total 36 columns):\n",
            " #   Column        Non-Null Count  Dtype  \n",
            "---  ------        --------------  -----  \n",
            " 0   row_id        57971 non-null  int64  \n",
            " 1   tglpelayanan  57971 non-null  object \n",
            " 2   kddati2       57971 non-null  int64  \n",
            " 3   tkp           57971 non-null  int64  \n",
            " 4   peserta       57971 non-null  int64  \n",
            " 5   a             57971 non-null  int64  \n",
            " 6   b             57971 non-null  int64  \n",
            " 7   c             57971 non-null  int64  \n",
            " 8   cb            57971 non-null  int64  \n",
            " 9   d             57971 non-null  int64  \n",
            " 10  ds            57971 non-null  int64  \n",
            " 11  gd            57971 non-null  int64  \n",
            " 12  hd            57971 non-null  int64  \n",
            " 13  i1            57971 non-null  int64  \n",
            " 14  i2            57971 non-null  int64  \n",
            " 15  i3            57971 non-null  int64  \n",
            " 16  i4            57971 non-null  int64  \n",
            " 17  kb            57971 non-null  int64  \n",
            " 18  kc            57971 non-null  int64  \n",
            " 19  kg            57971 non-null  int64  \n",
            " 20  ki            57971 non-null  int64  \n",
            " 21  kj            57971 non-null  int64  \n",
            " 22  kk            57971 non-null  int64  \n",
            " 23  kl            57971 non-null  int64  \n",
            " 24  km            57971 non-null  int64  \n",
            " 25  ko            57971 non-null  int64  \n",
            " 26  kp            57971 non-null  int64  \n",
            " 27  kt            57971 non-null  int64  \n",
            " 28  ku            57971 non-null  int64  \n",
            " 29  s             57971 non-null  int64  \n",
            " 30  sa            57971 non-null  int64  \n",
            " 31  sb            57971 non-null  int64  \n",
            " 32  sc            57971 non-null  int64  \n",
            " 33  sd            57971 non-null  int64  \n",
            " 34  case          57971 non-null  int64  \n",
            " 35  unit_cost     57971 non-null  float64\n",
            "dtypes: float64(1), int64(34), object(1)\n",
            "memory usage: 15.9+ MB\n"
          ]
        }
      ]
    },
    {
      "cell_type": "code",
      "source": [
        "case_cost_prediction_train.head()"
      ],
      "metadata": {
        "colab": {
          "base_uri": "https://localhost:8080/",
          "height": 386
        },
        "id": "SBTfH9t7ifdO",
        "outputId": "77d1303f-65a8-437d-939d-335e40af3010"
      },
      "execution_count": 12,
      "outputs": [
        {
          "output_type": "execute_result",
          "data": {
            "text/plain": [
              "   row_id         tglpelayanan  kddati2  tkp  peserta  a  b  c  cb  d  ...  \\\n",
              "0       1  2014-04-01 00:00:00      332   40   179530  0  0  1   0  1  ...   \n",
              "1       2  2016-11-01 00:00:00       54   40   104782  0  1  0   0  0  ...   \n",
              "2       3  2016-05-01 00:00:00      323   30   280645  0  0  1   0  0  ...   \n",
              "3       4  2018-11-01 00:00:00      318   40   178685  0  1  0   0  0  ...   \n",
              "4       5  2019-10-01 00:00:00      150   30  1199321  1  0  1   0  0  ...   \n",
              "\n",
              "   kp  kt  ku  s  sa  sb  sc  sd   case     unit_cost  \n",
              "0   0   0   0  0   0   0   0   0    266  3.597440e+06  \n",
              "1   0   0   1  0   0   0   1   1   2453  4.951008e+06  \n",
              "2   0   0   0  0   0   0   0   0   1690  1.984208e+05  \n",
              "3   0   0   0  0   0   0   0   3   1321  4.008756e+06  \n",
              "4   1   0   0  0   0   1   0   5  73056  3.072272e+05  \n",
              "\n",
              "[5 rows x 36 columns]"
            ],
            "text/html": [
              "\n",
              "  <div id=\"df-a3869740-f2ad-41e8-9fca-05a85facd666\">\n",
              "    <div class=\"colab-df-container\">\n",
              "      <div>\n",
              "<style scoped>\n",
              "    .dataframe tbody tr th:only-of-type {\n",
              "        vertical-align: middle;\n",
              "    }\n",
              "\n",
              "    .dataframe tbody tr th {\n",
              "        vertical-align: top;\n",
              "    }\n",
              "\n",
              "    .dataframe thead th {\n",
              "        text-align: right;\n",
              "    }\n",
              "</style>\n",
              "<table border=\"1\" class=\"dataframe\">\n",
              "  <thead>\n",
              "    <tr style=\"text-align: right;\">\n",
              "      <th></th>\n",
              "      <th>row_id</th>\n",
              "      <th>tglpelayanan</th>\n",
              "      <th>kddati2</th>\n",
              "      <th>tkp</th>\n",
              "      <th>peserta</th>\n",
              "      <th>a</th>\n",
              "      <th>b</th>\n",
              "      <th>c</th>\n",
              "      <th>cb</th>\n",
              "      <th>d</th>\n",
              "      <th>...</th>\n",
              "      <th>kp</th>\n",
              "      <th>kt</th>\n",
              "      <th>ku</th>\n",
              "      <th>s</th>\n",
              "      <th>sa</th>\n",
              "      <th>sb</th>\n",
              "      <th>sc</th>\n",
              "      <th>sd</th>\n",
              "      <th>case</th>\n",
              "      <th>unit_cost</th>\n",
              "    </tr>\n",
              "  </thead>\n",
              "  <tbody>\n",
              "    <tr>\n",
              "      <th>0</th>\n",
              "      <td>1</td>\n",
              "      <td>2014-04-01 00:00:00</td>\n",
              "      <td>332</td>\n",
              "      <td>40</td>\n",
              "      <td>179530</td>\n",
              "      <td>0</td>\n",
              "      <td>0</td>\n",
              "      <td>1</td>\n",
              "      <td>0</td>\n",
              "      <td>1</td>\n",
              "      <td>...</td>\n",
              "      <td>0</td>\n",
              "      <td>0</td>\n",
              "      <td>0</td>\n",
              "      <td>0</td>\n",
              "      <td>0</td>\n",
              "      <td>0</td>\n",
              "      <td>0</td>\n",
              "      <td>0</td>\n",
              "      <td>266</td>\n",
              "      <td>3.597440e+06</td>\n",
              "    </tr>\n",
              "    <tr>\n",
              "      <th>1</th>\n",
              "      <td>2</td>\n",
              "      <td>2016-11-01 00:00:00</td>\n",
              "      <td>54</td>\n",
              "      <td>40</td>\n",
              "      <td>104782</td>\n",
              "      <td>0</td>\n",
              "      <td>1</td>\n",
              "      <td>0</td>\n",
              "      <td>0</td>\n",
              "      <td>0</td>\n",
              "      <td>...</td>\n",
              "      <td>0</td>\n",
              "      <td>0</td>\n",
              "      <td>1</td>\n",
              "      <td>0</td>\n",
              "      <td>0</td>\n",
              "      <td>0</td>\n",
              "      <td>1</td>\n",
              "      <td>1</td>\n",
              "      <td>2453</td>\n",
              "      <td>4.951008e+06</td>\n",
              "    </tr>\n",
              "    <tr>\n",
              "      <th>2</th>\n",
              "      <td>3</td>\n",
              "      <td>2016-05-01 00:00:00</td>\n",
              "      <td>323</td>\n",
              "      <td>30</td>\n",
              "      <td>280645</td>\n",
              "      <td>0</td>\n",
              "      <td>0</td>\n",
              "      <td>1</td>\n",
              "      <td>0</td>\n",
              "      <td>0</td>\n",
              "      <td>...</td>\n",
              "      <td>0</td>\n",
              "      <td>0</td>\n",
              "      <td>0</td>\n",
              "      <td>0</td>\n",
              "      <td>0</td>\n",
              "      <td>0</td>\n",
              "      <td>0</td>\n",
              "      <td>0</td>\n",
              "      <td>1690</td>\n",
              "      <td>1.984208e+05</td>\n",
              "    </tr>\n",
              "    <tr>\n",
              "      <th>3</th>\n",
              "      <td>4</td>\n",
              "      <td>2018-11-01 00:00:00</td>\n",
              "      <td>318</td>\n",
              "      <td>40</td>\n",
              "      <td>178685</td>\n",
              "      <td>0</td>\n",
              "      <td>1</td>\n",
              "      <td>0</td>\n",
              "      <td>0</td>\n",
              "      <td>0</td>\n",
              "      <td>...</td>\n",
              "      <td>0</td>\n",
              "      <td>0</td>\n",
              "      <td>0</td>\n",
              "      <td>0</td>\n",
              "      <td>0</td>\n",
              "      <td>0</td>\n",
              "      <td>0</td>\n",
              "      <td>3</td>\n",
              "      <td>1321</td>\n",
              "      <td>4.008756e+06</td>\n",
              "    </tr>\n",
              "    <tr>\n",
              "      <th>4</th>\n",
              "      <td>5</td>\n",
              "      <td>2019-10-01 00:00:00</td>\n",
              "      <td>150</td>\n",
              "      <td>30</td>\n",
              "      <td>1199321</td>\n",
              "      <td>1</td>\n",
              "      <td>0</td>\n",
              "      <td>1</td>\n",
              "      <td>0</td>\n",
              "      <td>0</td>\n",
              "      <td>...</td>\n",
              "      <td>1</td>\n",
              "      <td>0</td>\n",
              "      <td>0</td>\n",
              "      <td>0</td>\n",
              "      <td>0</td>\n",
              "      <td>1</td>\n",
              "      <td>0</td>\n",
              "      <td>5</td>\n",
              "      <td>73056</td>\n",
              "      <td>3.072272e+05</td>\n",
              "    </tr>\n",
              "  </tbody>\n",
              "</table>\n",
              "<p>5 rows × 36 columns</p>\n",
              "</div>\n",
              "      <button class=\"colab-df-convert\" onclick=\"convertToInteractive('df-a3869740-f2ad-41e8-9fca-05a85facd666')\"\n",
              "              title=\"Convert this dataframe to an interactive table.\"\n",
              "              style=\"display:none;\">\n",
              "        \n",
              "  <svg xmlns=\"http://www.w3.org/2000/svg\" height=\"24px\"viewBox=\"0 0 24 24\"\n",
              "       width=\"24px\">\n",
              "    <path d=\"M0 0h24v24H0V0z\" fill=\"none\"/>\n",
              "    <path d=\"M18.56 5.44l.94 2.06.94-2.06 2.06-.94-2.06-.94-.94-2.06-.94 2.06-2.06.94zm-11 1L8.5 8.5l.94-2.06 2.06-.94-2.06-.94L8.5 2.5l-.94 2.06-2.06.94zm10 10l.94 2.06.94-2.06 2.06-.94-2.06-.94-.94-2.06-.94 2.06-2.06.94z\"/><path d=\"M17.41 7.96l-1.37-1.37c-.4-.4-.92-.59-1.43-.59-.52 0-1.04.2-1.43.59L10.3 9.45l-7.72 7.72c-.78.78-.78 2.05 0 2.83L4 21.41c.39.39.9.59 1.41.59.51 0 1.02-.2 1.41-.59l7.78-7.78 2.81-2.81c.8-.78.8-2.07 0-2.86zM5.41 20L4 18.59l7.72-7.72 1.47 1.35L5.41 20z\"/>\n",
              "  </svg>\n",
              "      </button>\n",
              "      \n",
              "  <style>\n",
              "    .colab-df-container {\n",
              "      display:flex;\n",
              "      flex-wrap:wrap;\n",
              "      gap: 12px;\n",
              "    }\n",
              "\n",
              "    .colab-df-convert {\n",
              "      background-color: #E8F0FE;\n",
              "      border: none;\n",
              "      border-radius: 50%;\n",
              "      cursor: pointer;\n",
              "      display: none;\n",
              "      fill: #1967D2;\n",
              "      height: 32px;\n",
              "      padding: 0 0 0 0;\n",
              "      width: 32px;\n",
              "    }\n",
              "\n",
              "    .colab-df-convert:hover {\n",
              "      background-color: #E2EBFA;\n",
              "      box-shadow: 0px 1px 2px rgba(60, 64, 67, 0.3), 0px 1px 3px 1px rgba(60, 64, 67, 0.15);\n",
              "      fill: #174EA6;\n",
              "    }\n",
              "\n",
              "    [theme=dark] .colab-df-convert {\n",
              "      background-color: #3B4455;\n",
              "      fill: #D2E3FC;\n",
              "    }\n",
              "\n",
              "    [theme=dark] .colab-df-convert:hover {\n",
              "      background-color: #434B5C;\n",
              "      box-shadow: 0px 1px 3px 1px rgba(0, 0, 0, 0.15);\n",
              "      filter: drop-shadow(0px 1px 2px rgba(0, 0, 0, 0.3));\n",
              "      fill: #FFFFFF;\n",
              "    }\n",
              "  </style>\n",
              "\n",
              "      <script>\n",
              "        const buttonEl =\n",
              "          document.querySelector('#df-a3869740-f2ad-41e8-9fca-05a85facd666 button.colab-df-convert');\n",
              "        buttonEl.style.display =\n",
              "          google.colab.kernel.accessAllowed ? 'block' : 'none';\n",
              "\n",
              "        async function convertToInteractive(key) {\n",
              "          const element = document.querySelector('#df-a3869740-f2ad-41e8-9fca-05a85facd666');\n",
              "          const dataTable =\n",
              "            await google.colab.kernel.invokeFunction('convertToInteractive',\n",
              "                                                     [key], {});\n",
              "          if (!dataTable) return;\n",
              "\n",
              "          const docLinkHtml = 'Like what you see? Visit the ' +\n",
              "            '<a target=\"_blank\" href=https://colab.research.google.com/notebooks/data_table.ipynb>data table notebook</a>'\n",
              "            + ' to learn more about interactive tables.';\n",
              "          element.innerHTML = '';\n",
              "          dataTable['output_type'] = 'display_data';\n",
              "          await google.colab.output.renderOutput(dataTable, element);\n",
              "          const docLink = document.createElement('div');\n",
              "          docLink.innerHTML = docLinkHtml;\n",
              "          element.appendChild(docLink);\n",
              "        }\n",
              "      </script>\n",
              "    </div>\n",
              "  </div>\n",
              "  "
            ]
          },
          "metadata": {},
          "execution_count": 12
        }
      ]
    },
    {
      "cell_type": "markdown",
      "source": [
        "## Analisis Data"
      ],
      "metadata": {
        "id": "ArDLHbImlY88"
      }
    },
    {
      "cell_type": "code",
      "source": [
        "case_cost_prediction_train.columns"
      ],
      "metadata": {
        "colab": {
          "base_uri": "https://localhost:8080/"
        },
        "id": "oXqHATeUikXx",
        "outputId": "de1a588a-099e-4761-9085-1f9f5fe7bf63"
      },
      "execution_count": 13,
      "outputs": [
        {
          "output_type": "execute_result",
          "data": {
            "text/plain": [
              "Index(['row_id', 'tglpelayanan', 'kddati2', 'tkp', 'peserta', 'a', 'b', 'c',\n",
              "       'cb', 'd', 'ds', 'gd', 'hd', 'i1', 'i2', 'i3', 'i4', 'kb', 'kc', 'kg',\n",
              "       'ki', 'kj', 'kk', 'kl', 'km', 'ko', 'kp', 'kt', 'ku', 's', 'sa', 'sb',\n",
              "       'sc', 'sd', 'case', 'unit_cost'],\n",
              "      dtype='object')"
            ]
          },
          "metadata": {},
          "execution_count": 13
        }
      ]
    },
    {
      "cell_type": "code",
      "source": [
        "numerical_vars = ['row_id', 'tglpelayanan', 'kddati2', 'peserta','a', 'b', 'c', 'cb', 'd', 'ds', 'gd', 'hd', 'i1', 'i2', 'i3', 'i4', 'kb', 'kc', 'kg', 'kj', 'kk', 'km', 'ko', 'kp', 'kt', 'ku', 's', 'sa', 'sb', 'sc', 'sd', 'case', 'unit_cost']"
      ],
      "metadata": {
        "id": "V9tK7LcRioBU"
      },
      "execution_count": 14,
      "outputs": []
    },
    {
      "cell_type": "code",
      "source": [
        "case_cost_prediction_train.shape"
      ],
      "metadata": {
        "colab": {
          "base_uri": "https://localhost:8080/"
        },
        "id": "2sksIG4qisQW",
        "outputId": "e42e836a-4460-433e-ddde-1721fc0beb32"
      },
      "execution_count": 15,
      "outputs": [
        {
          "output_type": "execute_result",
          "data": {
            "text/plain": [
              "(57971, 36)"
            ]
          },
          "metadata": {},
          "execution_count": 15
        }
      ]
    },
    {
      "cell_type": "markdown",
      "source": [
        "## Memvalidasi Data"
      ],
      "metadata": {
        "id": "L2nACKZCiuzD"
      }
    },
    {
      "cell_type": "markdown",
      "source": [
        "## Atribut Utama"
      ],
      "metadata": {
        "id": "75t0q3UYi1i-"
      }
    },
    {
      "cell_type": "code",
      "source": [
        "case_cost_prediction_train['kddati2'].describe()"
      ],
      "metadata": {
        "id": "Ouo2G_x0Ko14",
        "colab": {
          "base_uri": "https://localhost:8080/"
        },
        "outputId": "e1c1920e-878e-4eb0-b9ed-7b4acdfbede5"
      },
      "execution_count": 17,
      "outputs": [
        {
          "output_type": "execute_result",
          "data": {
            "text/plain": [
              "count    57971.000000\n",
              "mean       246.423125\n",
              "std        143.447935\n",
              "min          1.000000\n",
              "25%        125.000000\n",
              "50%        243.000000\n",
              "75%        362.000000\n",
              "max        528.000000\n",
              "Name: kddati2, dtype: float64"
            ]
          },
          "metadata": {},
          "execution_count": 17
        }
      ]
    },
    {
      "cell_type": "code",
      "source": [
        "case_cost_prediction_train['kddati2'].hist(edgecolor='black', bins=20);"
      ],
      "metadata": {
        "colab": {
          "base_uri": "https://localhost:8080/",
          "height": 265
        },
        "id": "kkp3gWhrjKNn",
        "outputId": "dae8715a-4fd9-4e79-d088-34e89578cb33"
      },
      "execution_count": 20,
      "outputs": [
        {
          "output_type": "display_data",
          "data": {
            "text/plain": [
              "<Figure size 432x288 with 1 Axes>"
            ],
            "image/png": "[encoded data removed]"
          },
          "metadata": {
            "needs_background": "light"
          }
        }
      ]
    },
    {
      "cell_type": "code",
      "source": [
        "case_cost_prediction_train['peserta'].describe()"
      ],
      "metadata": {
        "id": "hPX9B0WWQDmi",
        "colab": {
          "base_uri": "https://localhost:8080/"
        },
        "outputId": "b09352fb-2128-4f3e-aeae-b77e8cbe48dd"
      },
      "execution_count": 21,
      "outputs": [
        {
          "output_type": "execute_result",
          "data": {
            "text/plain": [
              "count    5.797100e+04\n",
              "mean     3.562209e+05\n",
              "std      4.120323e+05\n",
              "min      8.000000e+00\n",
              "25%      1.127735e+05\n",
              "50%      1.975800e+05\n",
              "75%      4.386935e+05\n",
              "max      3.328509e+06\n",
              "Name: peserta, dtype: float64"
            ]
          },
          "metadata": {},
          "execution_count": 21
        }
      ]
    },
    {
      "cell_type": "code",
      "source": [
        "case_cost_prediction_train['peserta'].hist(edgecolor='black', bins=20);"
      ],
      "metadata": {
        "colab": {
          "base_uri": "https://localhost:8080/",
          "height": 278
        },
        "id": "h5s6helgjSEo",
        "outputId": "41f13a88-090e-47e4-fd75-890676a04c8d"
      },
      "execution_count": 22,
      "outputs": [
        {
          "output_type": "display_data",
          "data": {
            "text/plain": [
              "<Figure size 432x288 with 1 Axes>"
            ],
            "image/png": "[encoded data removed]"
          },
          "metadata": {
            "needs_background": "light"
          }
        }
      ]
    },
    {
      "cell_type": "code",
      "source": [
        "case_cost_prediction_train['case'].describe()"
      ],
      "metadata": {
        "id": "zuybMAO7RIqE",
        "colab": {
          "base_uri": "https://localhost:8080/"
        },
        "outputId": "82d6542b-0af1-4fa5-eba9-f83aba3c3409"
      },
      "execution_count": 23,
      "outputs": [
        {
          "output_type": "execute_result",
          "data": {
            "text/plain": [
              "count     57971.000000\n",
              "mean       6539.418451\n",
              "std       17607.280021\n",
              "min           1.000000\n",
              "25%         424.000000\n",
              "50%        1359.000000\n",
              "75%        4583.000000\n",
              "max      333441.000000\n",
              "Name: case, dtype: float64"
            ]
          },
          "metadata": {},
          "execution_count": 23
        }
      ]
    },
    {
      "cell_type": "code",
      "source": [
        "case_cost_prediction_train['case'].hist(edgecolor='black', bins=20);"
      ],
      "metadata": {
        "colab": {
          "base_uri": "https://localhost:8080/",
          "height": 265
        },
        "id": "U_zEbVkgjZet",
        "outputId": "1f9da770-c97b-4086-f499-d6ba63a835ef"
      },
      "execution_count": 24,
      "outputs": [
        {
          "output_type": "display_data",
          "data": {
            "text/plain": [
              "<Figure size 432x288 with 1 Axes>"
            ],
            "image/png": "[encoded data removed]"
          },
          "metadata": {
            "needs_background": "light"
          }
        }
      ]
    },
    {
      "cell_type": "code",
      "source": [
        "case_cost_prediction_train['unit_cost'].describe()"
      ],
      "metadata": {
        "id": "FqiKNbHSRLzj",
        "colab": {
          "base_uri": "https://localhost:8080/"
        },
        "outputId": "773358d0-e827-49bf-d909-8afa6a42a8e9"
      },
      "execution_count": 26,
      "outputs": [
        {
          "output_type": "execute_result",
          "data": {
            "text/plain": [
              "count    5.797100e+04\n",
              "mean     1.961092e+06\n",
              "std      1.889367e+06\n",
              "min      1.000000e+05\n",
              "25%      2.336742e+05\n",
              "50%      6.547994e+05\n",
              "75%      3.531702e+06\n",
              "max      2.690550e+07\n",
              "Name: unit_cost, dtype: float64"
            ]
          },
          "metadata": {},
          "execution_count": 26
        }
      ]
    },
    {
      "cell_type": "code",
      "source": [
        "case_cost_prediction_train['unit_cost'].hist(edgecolor='black', bins=20);"
      ],
      "metadata": {
        "colab": {
          "base_uri": "https://localhost:8080/",
          "height": 278
        },
        "id": "CrRER6Gejrkx",
        "outputId": "0b7aeddb-b248-47d3-c030-d593d11ed3a3"
      },
      "execution_count": 27,
      "outputs": [
        {
          "output_type": "display_data",
          "data": {
            "text/plain": [
              "<Figure size 432x288 with 1 Axes>"
            ],
            "image/png": "[encoded data removed]"
          },
          "metadata": {
            "needs_background": "light"
          }
        }
      ]
    },
    {
      "cell_type": "markdown",
      "source": [
        "# Variabel Numerikal"
      ],
      "metadata": {
        "id": "aAf9pMt2jxgv"
      }
    },
    {
      "cell_type": "code",
      "source": [
        "case_cost_prediction_train[numerical_vars].describe()"
      ],
      "metadata": {
        "colab": {
          "base_uri": "https://localhost:8080/",
          "height": 394
        },
        "id": "9bxCbtOYj2zm",
        "outputId": "1d0b378c-df5b-40bd-e609-accbb85e35f1"
      },
      "execution_count": 28,
      "outputs": [
        {
          "output_type": "execute_result",
          "data": {
            "text/plain": [
              "             row_id       kddati2       peserta             a             b  \\\n",
              "count  57971.000000  57971.000000  5.797100e+04  57971.000000  57971.000000   \n",
              "mean   28986.000000    246.423125  3.562209e+05      0.041538      0.388574   \n",
              "std    16734.930565    143.447935  4.120323e+05      0.210390      0.660382   \n",
              "min        1.000000      1.000000  8.000000e+00      0.000000      0.000000   \n",
              "25%    14493.500000    125.000000  1.127735e+05      0.000000      0.000000   \n",
              "50%    28986.000000    243.000000  1.975800e+05      0.000000      0.000000   \n",
              "75%    43478.500000    362.000000  4.386935e+05      0.000000      1.000000   \n",
              "max    57971.000000    528.000000  3.328509e+06      2.000000      8.000000   \n",
              "\n",
              "                  c            cb             d       ds            gd  ...  \\\n",
              "count  57971.000000  57971.000000  57971.000000  57971.0  57971.000000  ...   \n",
              "mean       0.788894      0.000380      0.281710      0.0      0.046109  ...   \n",
              "std        0.679786      0.019477      0.595284      0.0      0.327766  ...   \n",
              "min        0.000000      0.000000      0.000000      0.0      0.000000  ...   \n",
              "25%        0.000000      0.000000      0.000000      0.0      0.000000  ...   \n",
              "50%        1.000000      0.000000      0.000000      0.0      0.000000  ...   \n",
              "75%        1.000000      0.000000      0.000000      0.0      0.000000  ...   \n",
              "max        6.000000      1.000000      5.000000      0.0     10.000000  ...   \n",
              "\n",
              "                 kp            kt            ku             s            sa  \\\n",
              "count  57971.000000  57971.000000  57971.000000  57971.000000  57971.000000   \n",
              "mean       0.039899      0.004330      0.001829      0.004123      0.002018   \n",
              "std        0.210092      0.065659      0.042722      0.082443      0.044880   \n",
              "min        0.000000      0.000000      0.000000      0.000000      0.000000   \n",
              "25%        0.000000      0.000000      0.000000      0.000000      0.000000   \n",
              "50%        0.000000      0.000000      0.000000      0.000000      0.000000   \n",
              "75%        0.000000      0.000000      0.000000      0.000000      0.000000   \n",
              "max        2.000000      1.000000      1.000000      5.000000      1.000000   \n",
              "\n",
              "                 sb            sc            sd           case     unit_cost  \n",
              "count  57971.000000  57971.000000  57971.000000   57971.000000  5.797100e+04  \n",
              "mean       0.228476      0.953028      0.644943    6539.418451  1.961092e+06  \n",
              "std        0.925357      2.225974      1.234201   17607.280021  1.889367e+06  \n",
              "min        0.000000      0.000000      0.000000       1.000000  1.000000e+05  \n",
              "25%        0.000000      0.000000      0.000000     424.000000  2.336742e+05  \n",
              "50%        0.000000      0.000000      0.000000    1359.000000  6.547994e+05  \n",
              "75%        0.000000      1.000000      1.000000    4583.000000  3.531702e+06  \n",
              "max        9.000000     25.000000     10.000000  333441.000000  2.690550e+07  \n",
              "\n",
              "[8 rows x 32 columns]"
            ],
            "text/html": [
              "\n",
              "  <div id=\"df-674b4d9f-aea5-4adb-98b5-dd2ffe5aebd2\">\n",
              "    <div class=\"colab-df-container\">\n",
              "      <div>\n",
              "<style scoped>\n",
              "    .dataframe tbody tr th:only-of-type {\n",
              "        vertical-align: middle;\n",
              "    }\n",
              "\n",
              "    .dataframe tbody tr th {\n",
              "        vertical-align: top;\n",
              "    }\n",
              "\n",
              "    .dataframe thead th {\n",
              "        text-align: right;\n",
              "    }\n",
              "</style>\n",
              "<table border=\"1\" class=\"dataframe\">\n",
              "  <thead>\n",
              "    <tr style=\"text-align: right;\">\n",
              "      <th></th>\n",
              "      <th>row_id</th>\n",
              "      <th>kddati2</th>\n",
              "      <th>peserta</th>\n",
              "      <th>a</th>\n",
              "      <th>b</th>\n",
              "      <th>c</th>\n",
              "      <th>cb</th>\n",
              "      <th>d</th>\n",
              "      <th>ds</th>\n",
              "      <th>gd</th>\n",
              "      <th>...</th>\n",
              "      <th>kp</th>\n",
              "      <th>kt</th>\n",
              "      <th>ku</th>\n",
              "      <th>s</th>\n",
              "      <th>sa</th>\n",
              "      <th>sb</th>\n",
              "      <th>sc</th>\n",
              "      <th>sd</th>\n",
              "      <th>case</th>\n",
              "      <th>unit_cost</th>\n",
              "    </tr>\n",
              "  </thead>\n",
              "  <tbody>\n",
              "    <tr>\n",
              "      <th>count</th>\n",
              "      <td>57971.000000</td>\n",
              "      <td>57971.000000</td>\n",
              "      <td>5.797100e+04</td>\n",
              "      <td>57971.000000</td>\n",
              "      <td>57971.000000</td>\n",
              "      <td>57971.000000</td>\n",
              "      <td>57971.000000</td>\n",
              "      <td>57971.000000</td>\n",
              "      <td>57971.0</td>\n",
              "      <td>57971.000000</td>\n",
              "      <td>...</td>\n",
              "      <td>57971.000000</td>\n",
              "      <td>57971.000000</td>\n",
              "      <td>57971.000000</td>\n",
              "      <td>57971.000000</td>\n",
              "      <td>57971.000000</td>\n",
              "      <td>57971.000000</td>\n",
              "      <td>57971.000000</td>\n",
              "      <td>57971.000000</td>\n",
              "      <td>57971.000000</td>\n",
              "      <td>5.797100e+04</td>\n",
              "    </tr>\n",
              "    <tr>\n",
              "      <th>mean</th>\n",
              "      <td>28986.000000</td>\n",
              "      <td>246.423125</td>\n",
              "      <td>3.562209e+05</td>\n",
              "      <td>0.041538</td>\n",
              "      <td>0.388574</td>\n",
              "      <td>0.788894</td>\n",
              "      <td>0.000380</td>\n",
              "      <td>0.281710</td>\n",
              "      <td>0.0</td>\n",
              "      <td>0.046109</td>\n",
              "      <td>...</td>\n",
              "      <td>0.039899</td>\n",
              "      <td>0.004330</td>\n",
              "      <td>0.001829</td>\n",
              "      <td>0.004123</td>\n",
              "      <td>0.002018</td>\n",
              "      <td>0.228476</td>\n",
              "      <td>0.953028</td>\n",
              "      <td>0.644943</td>\n",
              "      <td>6539.418451</td>\n",
              "      <td>1.961092e+06</td>\n",
              "    </tr>\n",
              "    <tr>\n",
              "      <th>std</th>\n",
              "      <td>16734.930565</td>\n",
              "      <td>143.447935</td>\n",
              "      <td>4.120323e+05</td>\n",
              "      <td>0.210390</td>\n",
              "      <td>0.660382</td>\n",
              "      <td>0.679786</td>\n",
              "      <td>0.019477</td>\n",
              "      <td>0.595284</td>\n",
              "      <td>0.0</td>\n",
              "      <td>0.327766</td>\n",
              "      <td>...</td>\n",
              "      <td>0.210092</td>\n",
              "      <td>0.065659</td>\n",
              "      <td>0.042722</td>\n",
              "      <td>0.082443</td>\n",
              "      <td>0.044880</td>\n",
              "      <td>0.925357</td>\n",
              "      <td>2.225974</td>\n",
              "      <td>1.234201</td>\n",
              "      <td>17607.280021</td>\n",
              "      <td>1.889367e+06</td>\n",
              "    </tr>\n",
              "    <tr>\n",
              "      <th>min</th>\n",
              "      <td>1.000000</td>\n",
              "      <td>1.000000</td>\n",
              "      <td>8.000000e+00</td>\n",
              "      <td>0.000000</td>\n",
              "      <td>0.000000</td>\n",
              "      <td>0.000000</td>\n",
              "      <td>0.000000</td>\n",
              "      <td>0.000000</td>\n",
              "      <td>0.0</td>\n",
              "      <td>0.000000</td>\n",
              "      <td>...</td>\n",
              "      <td>0.000000</td>\n",
              "      <td>0.000000</td>\n",
              "      <td>0.000000</td>\n",
              "      <td>0.000000</td>\n",
              "      <td>0.000000</td>\n",
              "      <td>0.000000</td>\n",
              "      <td>0.000000</td>\n",
              "      <td>0.000000</td>\n",
              "      <td>1.000000</td>\n",
              "      <td>1.000000e+05</td>\n",
              "    </tr>\n",
              "    <tr>\n",
              "      <th>25%</th>\n",
              "      <td>14493.500000</td>\n",
              "      <td>125.000000</td>\n",
              "      <td>1.127735e+05</td>\n",
              "      <td>0.000000</td>\n",
              "      <td>0.000000</td>\n",
              "      <td>0.000000</td>\n",
              "      <td>0.000000</td>\n",
              "      <td>0.000000</td>\n",
              "      <td>0.0</td>\n",
              "      <td>0.000000</td>\n",
              "      <td>...</td>\n",
              "      <td>0.000000</td>\n",
              "      <td>0.000000</td>\n",
              "      <td>0.000000</td>\n",
              "      <td>0.000000</td>\n",
              "      <td>0.000000</td>\n",
              "      <td>0.000000</td>\n",
              "      <td>0.000000</td>\n",
              "      <td>0.000000</td>\n",
              "      <td>424.000000</td>\n",
              "      <td>2.336742e+05</td>\n",
              "    </tr>\n",
              "    <tr>\n",
              "      <th>50%</th>\n",
              "      <td>28986.000000</td>\n",
              "      <td>243.000000</td>\n",
              "      <td>1.975800e+05</td>\n",
              "      <td>0.000000</td>\n",
              "      <td>0.000000</td>\n",
              "      <td>1.000000</td>\n",
              "      <td>0.000000</td>\n",
              "      <td>0.000000</td>\n",
              "      <td>0.0</td>\n",
              "      <td>0.000000</td>\n",
              "      <td>...</td>\n",
              "      <td>0.000000</td>\n",
              "      <td>0.000000</td>\n",
              "      <td>0.000000</td>\n",
              "      <td>0.000000</td>\n",
              "      <td>0.000000</td>\n",
              "      <td>0.000000</td>\n",
              "      <td>0.000000</td>\n",
              "      <td>0.000000</td>\n",
              "      <td>1359.000000</td>\n",
              "      <td>6.547994e+05</td>\n",
              "    </tr>\n",
              "    <tr>\n",
              "      <th>75%</th>\n",
              "      <td>43478.500000</td>\n",
              "      <td>362.000000</td>\n",
              "      <td>4.386935e+05</td>\n",
              "      <td>0.000000</td>\n",
              "      <td>1.000000</td>\n",
              "      <td>1.000000</td>\n",
              "      <td>0.000000</td>\n",
              "      <td>0.000000</td>\n",
              "      <td>0.0</td>\n",
              "      <td>0.000000</td>\n",
              "      <td>...</td>\n",
              "      <td>0.000000</td>\n",
              "      <td>0.000000</td>\n",
              "      <td>0.000000</td>\n",
              "      <td>0.000000</td>\n",
              "      <td>0.000000</td>\n",
              "      <td>0.000000</td>\n",
              "      <td>1.000000</td>\n",
              "      <td>1.000000</td>\n",
              "      <td>4583.000000</td>\n",
              "      <td>3.531702e+06</td>\n",
              "    </tr>\n",
              "    <tr>\n",
              "      <th>max</th>\n",
              "      <td>57971.000000</td>\n",
              "      <td>528.000000</td>\n",
              "      <td>3.328509e+06</td>\n",
              "      <td>2.000000</td>\n",
              "      <td>8.000000</td>\n",
              "      <td>6.000000</td>\n",
              "      <td>1.000000</td>\n",
              "      <td>5.000000</td>\n",
              "      <td>0.0</td>\n",
              "      <td>10.000000</td>\n",
              "      <td>...</td>\n",
              "      <td>2.000000</td>\n",
              "      <td>1.000000</td>\n",
              "      <td>1.000000</td>\n",
              "      <td>5.000000</td>\n",
              "      <td>1.000000</td>\n",
              "      <td>9.000000</td>\n",
              "      <td>25.000000</td>\n",
              "      <td>10.000000</td>\n",
              "      <td>333441.000000</td>\n",
              "      <td>2.690550e+07</td>\n",
              "    </tr>\n",
              "  </tbody>\n",
              "</table>\n",
              "<p>8 rows × 32 columns</p>\n",
              "</div>\n",
              "      <button class=\"colab-df-convert\" onclick=\"convertToInteractive('df-674b4d9f-aea5-4adb-98b5-dd2ffe5aebd2')\"\n",
              "              title=\"Convert this dataframe to an interactive table.\"\n",
              "              style=\"display:none;\">\n",
              "        \n",
              "  <svg xmlns=\"http://www.w3.org/2000/svg\" height=\"24px\"viewBox=\"0 0 24 24\"\n",
              "       width=\"24px\">\n",
              "    <path d=\"M0 0h24v24H0V0z\" fill=\"none\"/>\n",
              "    <path d=\"M18.56 5.44l.94 2.06.94-2.06 2.06-.94-2.06-.94-.94-2.06-.94 2.06-2.06.94zm-11 1L8.5 8.5l.94-2.06 2.06-.94-2.06-.94L8.5 2.5l-.94 2.06-2.06.94zm10 10l.94 2.06.94-2.06 2.06-.94-2.06-.94-.94-2.06-.94 2.06-2.06.94z\"/><path d=\"M17.41 7.96l-1.37-1.37c-.4-.4-.92-.59-1.43-.59-.52 0-1.04.2-1.43.59L10.3 9.45l-7.72 7.72c-.78.78-.78 2.05 0 2.83L4 21.41c.39.39.9.59 1.41.59.51 0 1.02-.2 1.41-.59l7.78-7.78 2.81-2.81c.8-.78.8-2.07 0-2.86zM5.41 20L4 18.59l7.72-7.72 1.47 1.35L5.41 20z\"/>\n",
              "  </svg>\n",
              "      </button>\n",
              "      \n",
              "  <style>\n",
              "    .colab-df-container {\n",
              "      display:flex;\n",
              "      flex-wrap:wrap;\n",
              "      gap: 12px;\n",
              "    }\n",
              "\n",
              "    .colab-df-convert {\n",
              "      background-color: #E8F0FE;\n",
              "      border: none;\n",
              "      border-radius: 50%;\n",
              "      cursor: pointer;\n",
              "      display: none;\n",
              "      fill: #1967D2;\n",
              "      height: 32px;\n",
              "      padding: 0 0 0 0;\n",
              "      width: 32px;\n",
              "    }\n",
              "\n",
              "    .colab-df-convert:hover {\n",
              "      background-color: #E2EBFA;\n",
              "      box-shadow: 0px 1px 2px rgba(60, 64, 67, 0.3), 0px 1px 3px 1px rgba(60, 64, 67, 0.15);\n",
              "      fill: #174EA6;\n",
              "    }\n",
              "\n",
              "    [theme=dark] .colab-df-convert {\n",
              "      background-color: #3B4455;\n",
              "      fill: #D2E3FC;\n",
              "    }\n",
              "\n",
              "    [theme=dark] .colab-df-convert:hover {\n",
              "      background-color: #434B5C;\n",
              "      box-shadow: 0px 1px 3px 1px rgba(0, 0, 0, 0.15);\n",
              "      filter: drop-shadow(0px 1px 2px rgba(0, 0, 0, 0.3));\n",
              "      fill: #FFFFFF;\n",
              "    }\n",
              "  </style>\n",
              "\n",
              "      <script>\n",
              "        const buttonEl =\n",
              "          document.querySelector('#df-674b4d9f-aea5-4adb-98b5-dd2ffe5aebd2 button.colab-df-convert');\n",
              "        buttonEl.style.display =\n",
              "          google.colab.kernel.accessAllowed ? 'block' : 'none';\n",
              "\n",
              "        async function convertToInteractive(key) {\n",
              "          const element = document.querySelector('#df-674b4d9f-aea5-4adb-98b5-dd2ffe5aebd2');\n",
              "          const dataTable =\n",
              "            await google.colab.kernel.invokeFunction('convertToInteractive',\n",
              "                                                     [key], {});\n",
              "          if (!dataTable) return;\n",
              "\n",
              "          const docLinkHtml = 'Like what you see? Visit the ' +\n",
              "            '<a target=\"_blank\" href=https://colab.research.google.com/notebooks/data_table.ipynb>data table notebook</a>'\n",
              "            + ' to learn more about interactive tables.';\n",
              "          element.innerHTML = '';\n",
              "          dataTable['output_type'] = 'display_data';\n",
              "          await google.colab.output.renderOutput(dataTable, element);\n",
              "          const docLink = document.createElement('div');\n",
              "          docLink.innerHTML = docLinkHtml;\n",
              "          element.appendChild(docLink);\n",
              "        }\n",
              "      </script>\n",
              "    </div>\n",
              "  </div>\n",
              "  "
            ]
          },
          "metadata": {},
          "execution_count": 28
        }
      ]
    },
    {
      "cell_type": "code",
      "source": [
        "case_cost_prediction_train[numerical_vars].hist(edgecolor='black', bins=15, figsize=(16, 15), layout = (10, 10));"
      ],
      "metadata": {
        "colab": {
          "base_uri": "https://localhost:8080/",
          "height": 272
        },
        "id": "cFLEv56bj-LR",
        "outputId": "6b69153a-3758-4b04-ee13-508a91122fd5"
      },
      "execution_count": 29,
      "outputs": [
        {
          "output_type": "display_data",
          "data": {
            "text/plain": [
              "<Figure size 1152x1080 with 100 Axes>"
            ],
            "image/png": "[encoded data removed]"
          },
          "metadata": {
            "needs_background": "light"
          }
        }
      ]
    },
    {
      "cell_type": "code",
      "source": [
        "corr = case_cost_prediction_train.iloc[:,:20].corr()\n",
        "# Generate a mask for the upper triangle\n",
        "mask = np.zeros_like(corr, dtype=np.bool)\n",
        "mask[np.triu_indices_from(mask, k=1)] = True\n",
        "\n",
        "# Set up the matplotlib figure\n",
        "f, ax = plt.subplots(figsize=(15, 11))\n",
        "\n",
        "# Generate a custom diverging colormap\n",
        "cmap = sns.diverging_palette(220, 10, as_cmap=True)\n",
        "\n",
        "# Draw the heatmap with the mask and correct aspect ratio\n",
        "sns.heatmap(corr, mask=mask, cmap=cmap,annot=True,  center=0,\n",
        "            square=True, linewidths=.5, cbar_kws={\"shrink\": .9})\n",
        "ax.set_xticklabels(ax.get_xticklabels(), rotation=40, ha=\"right\")\n",
        "ax.set_title('Correlation matrix of 20 Atributes', fontsize=20)\n",
        "plt.tight_layout()"
      ],
      "metadata": {
        "colab": {
          "base_uri": "https://localhost:8080/",
          "height": 661
        },
        "id": "DmeVu54tkJtz",
        "outputId": "e577eaa5-6302-49d2-95ac-8b20f368e0b3"
      },
      "execution_count": 31,
      "outputs": [
        {
          "output_type": "stream",
          "name": "stderr",
          "text": [
            "<ipython-input-31-be9f77fde7f8>:3: DeprecationWarning: `np.bool` is a deprecated alias for the builtin `bool`. To silence this warning, use `bool` by itself. Doing this will not modify any behavior and is safe. If you specifically wanted the numpy scalar type, use `np.bool_` here.\n",
            "Deprecated in NumPy 1.20; for more details and guidance: https://numpy.org/devdocs/release/1.20.0-notes.html#deprecations\n",
            "  mask = np.zeros_like(corr, dtype=np.bool)\n"
          ]
        },
        {
          "output_type": "display_data",
          "data": {
            "text/plain": [
              "<Figure size 1080x792 with 2 Axes>"
            ],
            "image/png": "[encoded data removed]"
          },
          "metadata": {
            "needs_background": "light"
          }
        }
      ]
    },
    {
      "cell_type": "code",
      "source": [],
      "metadata": {
        "id": "SPHdOAFwNnQ1"
      },
      "execution_count": null,
      "outputs": []
    }
  ]
}