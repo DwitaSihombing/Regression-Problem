{
  "cells": [
    {
      "cell_type": "markdown",
      "id": "ca5bbd96",
      "metadata": {
        "id": "ca5bbd96"
      },
      "source": [
        "# Regression Problem from Case and Cost Prediction using Random Forest"
      ]
    },
    {
      "cell_type": "markdown",
      "id": "2514917b",
      "metadata": {
        "id": "2514917b"
      },
      "source": [
        "Nama Kelompok 5 : \n",
        "* Ignatia Hutagalung\t\t\t12S19043\n",
        "* Dwita Sihombing\t\t\t12S19055\n",
        "* Putri Yohana Rajagukguk\t\t12S19056"
      ]
    },
    {
      "cell_type": "markdown",
      "id": "6850c180",
      "metadata": {
        "id": "6850c180"
      },
      "source": [
        "# Data Understanding"
      ]
    },
    {
      "cell_type": "markdown",
      "id": "a329b250",
      "metadata": {
        "id": "a329b250"
      },
      "source": [
        "Mengumpulkan Data"
      ]
    },
    {
      "cell_type": "code",
      "execution_count": 1,
      "id": "12a51561",
      "metadata": {
        "id": "12a51561"
      },
      "outputs": [],
      "source": [
        "#Importing necessary Libraries\n",
        "import pandas as pd\n",
        "import numpy as np\n",
        "import matplotlib.pyplot as plt\n",
        "import datetime\n",
        "import seaborn as sns\n",
        "from sklearn.ensemble import RandomForestClassifier\n",
        "from sklearn.ensemble import AdaBoostClassifier\n",
        "from sklearn.model_selection import RandomizedSearchCV"
      ]
    },
    {
      "cell_type": "code",
      "execution_count": 2,
      "id": "80954d71",
      "metadata": {
        "id": "80954d71"
      },
      "outputs": [],
      "source": [
        "casecostprediction = pd.read_csv(\"./case_cost_prediction_train.csv\")\n"
      ]
    },
    {
      "cell_type": "markdown",
      "id": "4ecf7ef1",
      "metadata": {
        "id": "4ecf7ef1"
      },
      "source": [
        "- Output dibawah merupakan output yang dihasilkan berdasarkan data sebelum dilakukan drop feature. Jadi masih data original"
      ]
    },
    {
      "cell_type": "markdown",
      "id": "28e75d2f",
      "metadata": {
        "id": "28e75d2f"
      },
      "source": [
        "Menelaah Data"
      ]
    },
    {
      "cell_type": "code",
      "execution_count": 3,
      "id": "5aebd560",
      "metadata": {
        "colab": {
          "base_uri": "https://localhost:8080/",
          "height": 424
        },
        "id": "5aebd560",
        "outputId": "f92b6365-55ca-413c-f939-1ae409cb835d"
      },
      "outputs": [
        {
          "output_type": "execute_result",
          "data": {
            "text/plain": [
              "       row_id         tglpelayanan  kddati2  tkp  peserta  a  b  c  cb  d  \\\n",
              "0           1  2014-04-01 00:00:00      332   40   179530  0  0  1   0  1   \n",
              "1           2  2016-11-01 00:00:00       54   40   104782  0  1  0   0  0   \n",
              "2           3  2016-05-01 00:00:00      323   30   280645  0  0  1   0  0   \n",
              "3           4  2018-11-01 00:00:00      318   40   178685  0  1  0   0  0   \n",
              "4           5  2019-10-01 00:00:00      150   30  1199321  1  0  1   0  0   \n",
              "...       ...                  ...      ...  ...      ... .. .. ..  .. ..   \n",
              "57966   57967  2019-03-01 00:00:00      241   40   157213  0  0  1   0  0   \n",
              "57967   57968  2019-09-01 00:00:00      338   30   402173  0  0  1   0  0   \n",
              "57968   57969  2016-06-01 00:00:00      241   40    99401  0  0  1   0  0   \n",
              "57969   57970  2018-01-01 00:00:00      147   40   509495  0  0  1   0  0   \n",
              "57970   57971  2016-09-01 00:00:00      204   30   770169  0  1  1   0  0   \n",
              "\n",
              "       ...  kp  kt  ku  s  sa  sb  sc  sd   case     unit_cost  \n",
              "0      ...   0   0   0  0   0   0   0   0    266  3.597440e+06  \n",
              "1      ...   0   0   1  0   0   0   1   1   2453  4.951008e+06  \n",
              "2      ...   0   0   0  0   0   0   0   0   1690  1.984208e+05  \n",
              "3      ...   0   0   0  0   0   0   0   3   1321  4.008756e+06  \n",
              "4      ...   1   0   0  0   0   1   0   5  73056  3.072272e+05  \n",
              "...    ...  ..  ..  .. ..  ..  ..  ..  ..    ...           ...  \n",
              "57966  ...   0   0   0  0   0   0   0   0    410  3.443332e+06  \n",
              "57967  ...   0   0   0  0   0   0   0   0   8272  2.128621e+05  \n",
              "57968  ...   0   0   0  0   0   0   0   0    294  3.028611e+06  \n",
              "57969  ...   0   0   0  0   0   0   2   0   1983  3.629365e+06  \n",
              "57970  ...   0   0   0  0   0   1   2   1  16679  2.956852e+05  \n",
              "\n",
              "[57971 rows x 36 columns]"
            ],
            "text/html": [
              "\n",
              "  <div id=\"df-0e8e82b0-d264-49ca-a924-c03c2ec95b6a\">\n",
              "    <div class=\"colab-df-container\">\n",
              "      <div>\n",
              "<style scoped>\n",
              "    .dataframe tbody tr th:only-of-type {\n",
              "        vertical-align: middle;\n",
              "    }\n",
              "\n",
              "    .dataframe tbody tr th {\n",
              "        vertical-align: top;\n",
              "    }\n",
              "\n",
              "    .dataframe thead th {\n",
              "        text-align: right;\n",
              "    }\n",
              "</style>\n",
              "<table border=\"1\" class=\"dataframe\">\n",
              "  <thead>\n",
              "    <tr style=\"text-align: right;\">\n",
              "      <th></th>\n",
              "      <th>row_id</th>\n",
              "      <th>tglpelayanan</th>\n",
              "      <th>kddati2</th>\n",
              "      <th>tkp</th>\n",
              "      <th>peserta</th>\n",
              "      <th>a</th>\n",
              "      <th>b</th>\n",
              "      <th>c</th>\n",
              "      <th>cb</th>\n",
              "      <th>d</th>\n",
              "      <th>...</th>\n",
              "      <th>kp</th>\n",
              "      <th>kt</th>\n",
              "      <th>ku</th>\n",
              "      <th>s</th>\n",
              "      <th>sa</th>\n",
              "      <th>sb</th>\n",
              "      <th>sc</th>\n",
              "      <th>sd</th>\n",
              "      <th>case</th>\n",
              "      <th>unit_cost</th>\n",
              "    </tr>\n",
              "  </thead>\n",
              "  <tbody>\n",
              "    <tr>\n",
              "      <th>0</th>\n",
              "      <td>1</td>\n",
              "      <td>2014-04-01 00:00:00</td>\n",
              "      <td>332</td>\n",
              "      <td>40</td>\n",
              "      <td>179530</td>\n",
              "      <td>0</td>\n",
              "      <td>0</td>\n",
              "      <td>1</td>\n",
              "      <td>0</td>\n",
              "      <td>1</td>\n",
              "      <td>...</td>\n",
              "      <td>0</td>\n",
              "      <td>0</td>\n",
              "      <td>0</td>\n",
              "      <td>0</td>\n",
              "      <td>0</td>\n",
              "      <td>0</td>\n",
              "      <td>0</td>\n",
              "      <td>0</td>\n",
              "      <td>266</td>\n",
              "      <td>3.597440e+06</td>\n",
              "    </tr>\n",
              "    <tr>\n",
              "      <th>1</th>\n",
              "      <td>2</td>\n",
              "      <td>2016-11-01 00:00:00</td>\n",
              "      <td>54</td>\n",
              "      <td>40</td>\n",
              "      <td>104782</td>\n",
              "      <td>0</td>\n",
              "      <td>1</td>\n",
              "      <td>0</td>\n",
              "      <td>0</td>\n",
              "      <td>0</td>\n",
              "      <td>...</td>\n",
              "      <td>0</td>\n",
              "      <td>0</td>\n",
              "      <td>1</td>\n",
              "      <td>0</td>\n",
              "      <td>0</td>\n",
              "      <td>0</td>\n",
              "      <td>1</td>\n",
              "      <td>1</td>\n",
              "      <td>2453</td>\n",
              "      <td>4.951008e+06</td>\n",
              "    </tr>\n",
              "    <tr>\n",
              "      <th>2</th>\n",
              "      <td>3</td>\n",
              "      <td>2016-05-01 00:00:00</td>\n",
              "      <td>323</td>\n",
              "      <td>30</td>\n",
              "      <td>280645</td>\n",
              "      <td>0</td>\n",
              "      <td>0</td>\n",
              "      <td>1</td>\n",
              "      <td>0</td>\n",
              "      <td>0</td>\n",
              "      <td>...</td>\n",
              "      <td>0</td>\n",
              "      <td>0</td>\n",
              "      <td>0</td>\n",
              "      <td>0</td>\n",
              "      <td>0</td>\n",
              "      <td>0</td>\n",
              "      <td>0</td>\n",
              "      <td>0</td>\n",
              "      <td>1690</td>\n",
              "      <td>1.984208e+05</td>\n",
              "    </tr>\n",
              "    <tr>\n",
              "      <th>3</th>\n",
              "      <td>4</td>\n",
              "      <td>2018-11-01 00:00:00</td>\n",
              "      <td>318</td>\n",
              "      <td>40</td>\n",
              "      <td>178685</td>\n",
              "      <td>0</td>\n",
              "      <td>1</td>\n",
              "      <td>0</td>\n",
              "      <td>0</td>\n",
              "      <td>0</td>\n",
              "      <td>...</td>\n",
              "      <td>0</td>\n",
              "      <td>0</td>\n",
              "      <td>0</td>\n",
              "      <td>0</td>\n",
              "      <td>0</td>\n",
              "      <td>0</td>\n",
              "      <td>0</td>\n",
              "      <td>3</td>\n",
              "      <td>1321</td>\n",
              "      <td>4.008756e+06</td>\n",
              "    </tr>\n",
              "    <tr>\n",
              "      <th>4</th>\n",
              "      <td>5</td>\n",
              "      <td>2019-10-01 00:00:00</td>\n",
              "      <td>150</td>\n",
              "      <td>30</td>\n",
              "      <td>1199321</td>\n",
              "      <td>1</td>\n",
              "      <td>0</td>\n",
              "      <td>1</td>\n",
              "      <td>0</td>\n",
              "      <td>0</td>\n",
              "      <td>...</td>\n",
              "      <td>1</td>\n",
              "      <td>0</td>\n",
              "      <td>0</td>\n",
              "      <td>0</td>\n",
              "      <td>0</td>\n",
              "      <td>1</td>\n",
              "      <td>0</td>\n",
              "      <td>5</td>\n",
              "      <td>73056</td>\n",
              "      <td>3.072272e+05</td>\n",
              "    </tr>\n",
              "    <tr>\n",
              "      <th>...</th>\n",
              "      <td>...</td>\n",
              "      <td>...</td>\n",
              "      <td>...</td>\n",
              "      <td>...</td>\n",
              "      <td>...</td>\n",
              "      <td>...</td>\n",
              "      <td>...</td>\n",
              "      <td>...</td>\n",
              "      <td>...</td>\n",
              "      <td>...</td>\n",
              "      <td>...</td>\n",
              "      <td>...</td>\n",
              "      <td>...</td>\n",
              "      <td>...</td>\n",
              "      <td>...</td>\n",
              "      <td>...</td>\n",
              "      <td>...</td>\n",
              "      <td>...</td>\n",
              "      <td>...</td>\n",
              "      <td>...</td>\n",
              "      <td>...</td>\n",
              "    </tr>\n",
              "    <tr>\n",
              "      <th>57966</th>\n",
              "      <td>57967</td>\n",
              "      <td>2019-03-01 00:00:00</td>\n",
              "      <td>241</td>\n",
              "      <td>40</td>\n",
              "      <td>157213</td>\n",
              "      <td>0</td>\n",
              "      <td>0</td>\n",
              "      <td>1</td>\n",
              "      <td>0</td>\n",
              "      <td>0</td>\n",
              "      <td>...</td>\n",
              "      <td>0</td>\n",
              "      <td>0</td>\n",
              "      <td>0</td>\n",
              "      <td>0</td>\n",
              "      <td>0</td>\n",
              "      <td>0</td>\n",
              "      <td>0</td>\n",
              "      <td>0</td>\n",
              "      <td>410</td>\n",
              "      <td>3.443332e+06</td>\n",
              "    </tr>\n",
              "    <tr>\n",
              "      <th>57967</th>\n",
              "      <td>57968</td>\n",
              "      <td>2019-09-01 00:00:00</td>\n",
              "      <td>338</td>\n",
              "      <td>30</td>\n",
              "      <td>402173</td>\n",
              "      <td>0</td>\n",
              "      <td>0</td>\n",
              "      <td>1</td>\n",
              "      <td>0</td>\n",
              "      <td>0</td>\n",
              "      <td>...</td>\n",
              "      <td>0</td>\n",
              "      <td>0</td>\n",
              "      <td>0</td>\n",
              "      <td>0</td>\n",
              "      <td>0</td>\n",
              "      <td>0</td>\n",
              "      <td>0</td>\n",
              "      <td>0</td>\n",
              "      <td>8272</td>\n",
              "      <td>2.128621e+05</td>\n",
              "    </tr>\n",
              "    <tr>\n",
              "      <th>57968</th>\n",
              "      <td>57969</td>\n",
              "      <td>2016-06-01 00:00:00</td>\n",
              "      <td>241</td>\n",
              "      <td>40</td>\n",
              "      <td>99401</td>\n",
              "      <td>0</td>\n",
              "      <td>0</td>\n",
              "      <td>1</td>\n",
              "      <td>0</td>\n",
              "      <td>0</td>\n",
              "      <td>...</td>\n",
              "      <td>0</td>\n",
              "      <td>0</td>\n",
              "      <td>0</td>\n",
              "      <td>0</td>\n",
              "      <td>0</td>\n",
              "      <td>0</td>\n",
              "      <td>0</td>\n",
              "      <td>0</td>\n",
              "      <td>294</td>\n",
              "      <td>3.028611e+06</td>\n",
              "    </tr>\n",
              "    <tr>\n",
              "      <th>57969</th>\n",
              "      <td>57970</td>\n",
              "      <td>2018-01-01 00:00:00</td>\n",
              "      <td>147</td>\n",
              "      <td>40</td>\n",
              "      <td>509495</td>\n",
              "      <td>0</td>\n",
              "      <td>0</td>\n",
              "      <td>1</td>\n",
              "      <td>0</td>\n",
              "      <td>0</td>\n",
              "      <td>...</td>\n",
              "      <td>0</td>\n",
              "      <td>0</td>\n",
              "      <td>0</td>\n",
              "      <td>0</td>\n",
              "      <td>0</td>\n",
              "      <td>0</td>\n",
              "      <td>2</td>\n",
              "      <td>0</td>\n",
              "      <td>1983</td>\n",
              "      <td>3.629365e+06</td>\n",
              "    </tr>\n",
              "    <tr>\n",
              "      <th>57970</th>\n",
              "      <td>57971</td>\n",
              "      <td>2016-09-01 00:00:00</td>\n",
              "      <td>204</td>\n",
              "      <td>30</td>\n",
              "      <td>770169</td>\n",
              "      <td>0</td>\n",
              "      <td>1</td>\n",
              "      <td>1</td>\n",
              "      <td>0</td>\n",
              "      <td>0</td>\n",
              "      <td>...</td>\n",
              "      <td>0</td>\n",
              "      <td>0</td>\n",
              "      <td>0</td>\n",
              "      <td>0</td>\n",
              "      <td>0</td>\n",
              "      <td>1</td>\n",
              "      <td>2</td>\n",
              "      <td>1</td>\n",
              "      <td>16679</td>\n",
              "      <td>2.956852e+05</td>\n",
              "    </tr>\n",
              "  </tbody>\n",
              "</table>\n",
              "<p>57971 rows × 36 columns</p>\n",
              "</div>\n",
              "      <button class=\"colab-df-convert\" onclick=\"convertToInteractive('df-0e8e82b0-d264-49ca-a924-c03c2ec95b6a')\"\n",
              "              title=\"Convert this dataframe to an interactive table.\"\n",
              "              style=\"display:none;\">\n",
              "        \n",
              "  <svg xmlns=\"http://www.w3.org/2000/svg\" height=\"24px\"viewBox=\"0 0 24 24\"\n",
              "       width=\"24px\">\n",
              "    <path d=\"M0 0h24v24H0V0z\" fill=\"none\"/>\n",
              "    <path d=\"M18.56 5.44l.94 2.06.94-2.06 2.06-.94-2.06-.94-.94-2.06-.94 2.06-2.06.94zm-11 1L8.5 8.5l.94-2.06 2.06-.94-2.06-.94L8.5 2.5l-.94 2.06-2.06.94zm10 10l.94 2.06.94-2.06 2.06-.94-2.06-.94-.94-2.06-.94 2.06-2.06.94z\"/><path d=\"M17.41 7.96l-1.37-1.37c-.4-.4-.92-.59-1.43-.59-.52 0-1.04.2-1.43.59L10.3 9.45l-7.72 7.72c-.78.78-.78 2.05 0 2.83L4 21.41c.39.39.9.59 1.41.59.51 0 1.02-.2 1.41-.59l7.78-7.78 2.81-2.81c.8-.78.8-2.07 0-2.86zM5.41 20L4 18.59l7.72-7.72 1.47 1.35L5.41 20z\"/>\n",
              "  </svg>\n",
              "      </button>\n",
              "      \n",
              "  <style>\n",
              "    .colab-df-container {\n",
              "      display:flex;\n",
              "      flex-wrap:wrap;\n",
              "      gap: 12px;\n",
              "    }\n",
              "\n",
              "    .colab-df-convert {\n",
              "      background-color: #E8F0FE;\n",
              "      border: none;\n",
              "      border-radius: 50%;\n",
              "      cursor: pointer;\n",
              "      display: none;\n",
              "      fill: #1967D2;\n",
              "      height: 32px;\n",
              "      padding: 0 0 0 0;\n",
              "      width: 32px;\n",
              "    }\n",
              "\n",
              "    .colab-df-convert:hover {\n",
              "      background-color: #E2EBFA;\n",
              "      box-shadow: 0px 1px 2px rgba(60, 64, 67, 0.3), 0px 1px 3px 1px rgba(60, 64, 67, 0.15);\n",
              "      fill: #174EA6;\n",
              "    }\n",
              "\n",
              "    [theme=dark] .colab-df-convert {\n",
              "      background-color: #3B4455;\n",
              "      fill: #D2E3FC;\n",
              "    }\n",
              "\n",
              "    [theme=dark] .colab-df-convert:hover {\n",
              "      background-color: #434B5C;\n",
              "      box-shadow: 0px 1px 3px 1px rgba(0, 0, 0, 0.15);\n",
              "      filter: drop-shadow(0px 1px 2px rgba(0, 0, 0, 0.3));\n",
              "      fill: #FFFFFF;\n",
              "    }\n",
              "  </style>\n",
              "\n",
              "      <script>\n",
              "        const buttonEl =\n",
              "          document.querySelector('#df-0e8e82b0-d264-49ca-a924-c03c2ec95b6a button.colab-df-convert');\n",
              "        buttonEl.style.display =\n",
              "          google.colab.kernel.accessAllowed ? 'block' : 'none';\n",
              "\n",
              "        async function convertToInteractive(key) {\n",
              "          const element = document.querySelector('#df-0e8e82b0-d264-49ca-a924-c03c2ec95b6a');\n",
              "          const dataTable =\n",
              "            await google.colab.kernel.invokeFunction('convertToInteractive',\n",
              "                                                     [key], {});\n",
              "          if (!dataTable) return;\n",
              "\n",
              "          const docLinkHtml = 'Like what you see? Visit the ' +\n",
              "            '<a target=\"_blank\" href=https://colab.research.google.com/notebooks/data_table.ipynb>data table notebook</a>'\n",
              "            + ' to learn more about interactive tables.';\n",
              "          element.innerHTML = '';\n",
              "          dataTable['output_type'] = 'display_data';\n",
              "          await google.colab.output.renderOutput(dataTable, element);\n",
              "          const docLink = document.createElement('div');\n",
              "          docLink.innerHTML = docLinkHtml;\n",
              "          element.appendChild(docLink);\n",
              "        }\n",
              "      </script>\n",
              "    </div>\n",
              "  </div>\n",
              "  "
            ]
          },
          "metadata": {},
          "execution_count": 3
        }
      ],
      "source": [
        "casecostprediction"
      ]
    },
    {
      "cell_type": "code",
      "execution_count": 4,
      "id": "d1451ce1",
      "metadata": {
        "colab": {
          "base_uri": "https://localhost:8080/"
        },
        "id": "d1451ce1",
        "outputId": "1a07d857-e4ec-48bc-8f79-3583217e1bd5"
      },
      "outputs": [
        {
          "output_type": "stream",
          "name": "stdout",
          "text": [
            "<class 'pandas.core.frame.DataFrame'>\n",
            "RangeIndex: 57971 entries, 0 to 57970\n",
            "Data columns (total 36 columns):\n",
            " #   Column        Non-Null Count  Dtype  \n",
            "---  ------        --------------  -----  \n",
            " 0   row_id        57971 non-null  int64  \n",
            " 1   tglpelayanan  57971 non-null  object \n",
            " 2   kddati2       57971 non-null  int64  \n",
            " 3   tkp           57971 non-null  int64  \n",
            " 4   peserta       57971 non-null  int64  \n",
            " 5   a             57971 non-null  int64  \n",
            " 6   b             57971 non-null  int64  \n",
            " 7   c             57971 non-null  int64  \n",
            " 8   cb            57971 non-null  int64  \n",
            " 9   d             57971 non-null  int64  \n",
            " 10  ds            57971 non-null  int64  \n",
            " 11  gd            57971 non-null  int64  \n",
            " 12  hd            57971 non-null  int64  \n",
            " 13  i1            57971 non-null  int64  \n",
            " 14  i2            57971 non-null  int64  \n",
            " 15  i3            57971 non-null  int64  \n",
            " 16  i4            57971 non-null  int64  \n",
            " 17  kb            57971 non-null  int64  \n",
            " 18  kc            57971 non-null  int64  \n",
            " 19  kg            57971 non-null  int64  \n",
            " 20  ki            57971 non-null  int64  \n",
            " 21  kj            57971 non-null  int64  \n",
            " 22  kk            57971 non-null  int64  \n",
            " 23  kl            57971 non-null  int64  \n",
            " 24  km            57971 non-null  int64  \n",
            " 25  ko            57971 non-null  int64  \n",
            " 26  kp            57971 non-null  int64  \n",
            " 27  kt            57971 non-null  int64  \n",
            " 28  ku            57971 non-null  int64  \n",
            " 29  s             57971 non-null  int64  \n",
            " 30  sa            57971 non-null  int64  \n",
            " 31  sb            57971 non-null  int64  \n",
            " 32  sc            57971 non-null  int64  \n",
            " 33  sd            57971 non-null  int64  \n",
            " 34  case          57971 non-null  int64  \n",
            " 35  unit_cost     57971 non-null  float64\n",
            "dtypes: float64(1), int64(34), object(1)\n",
            "memory usage: 15.9+ MB\n"
          ]
        }
      ],
      "source": [
        "casecostprediction.info()"
      ]
    },
    {
      "cell_type": "markdown",
      "id": "4c3dd8f4",
      "metadata": {
        "id": "4c3dd8f4"
      },
      "source": [
        "Analisis Data"
      ]
    },
    {
      "cell_type": "code",
      "execution_count": 5,
      "id": "17f1a64a",
      "metadata": {
        "id": "17f1a64a"
      },
      "outputs": [],
      "source": [
        "numerical_vars = ['row_id', 'tglpelayanan', 'kddati2', 'peserta','a', 'b', 'c', 'cb', 'd', 'ds', 'gd', 'hd', 'i1', 'i2', 'i3', 'i4', 'kb', 'kc', 'kg', 'kj', 'kk', 'km', 'ko', 'kp', 'kt', 'ku', 's', 'sa', 'sb', 'sc', 'sd', 'case', 'unit_cost']"
      ]
    },
    {
      "cell_type": "code",
      "execution_count": 6,
      "id": "20734f44",
      "metadata": {
        "colab": {
          "base_uri": "https://localhost:8080/"
        },
        "id": "20734f44",
        "outputId": "6e79d15e-dfbf-47ed-ab07-59aac2ca60b2"
      },
      "outputs": [
        {
          "output_type": "execute_result",
          "data": {
            "text/plain": [
              "Index(['row_id', 'tglpelayanan', 'kddati2', 'tkp', 'peserta', 'a', 'b', 'c',\n",
              "       'cb', 'd', 'ds', 'gd', 'hd', 'i1', 'i2', 'i3', 'i4', 'kb', 'kc', 'kg',\n",
              "       'ki', 'kj', 'kk', 'kl', 'km', 'ko', 'kp', 'kt', 'ku', 's', 'sa', 'sb',\n",
              "       'sc', 'sd', 'case', 'unit_cost'],\n",
              "      dtype='object')"
            ]
          },
          "metadata": {},
          "execution_count": 6
        }
      ],
      "source": [
        "casecostprediction.columns"
      ]
    },
    {
      "cell_type": "code",
      "execution_count": 7,
      "id": "82da93ee",
      "metadata": {
        "colab": {
          "base_uri": "https://localhost:8080/"
        },
        "id": "82da93ee",
        "outputId": "1a97514b-e08b-416b-f2bb-06754c95ecbe"
      },
      "outputs": [
        {
          "output_type": "execute_result",
          "data": {
            "text/plain": [
              "(57971, 36)"
            ]
          },
          "metadata": {},
          "execution_count": 7
        }
      ],
      "source": [
        "casecostprediction.shape"
      ]
    },
    {
      "cell_type": "markdown",
      "id": "c440db94",
      "metadata": {
        "id": "c440db94"
      },
      "source": [
        "Memvalidasi Data"
      ]
    },
    {
      "cell_type": "markdown",
      "id": "0f853a49",
      "metadata": {
        "id": "0f853a49"
      },
      "source": [
        "- Pada tahap validasi data ini akan dilakukan drop feature feature yang tidak relevan dari data yang akan digunakan dalam menyelesaikan proyek ini."
      ]
    },
    {
      "cell_type": "code",
      "execution_count": 8,
      "id": "600b3dad",
      "metadata": {
        "colab": {
          "base_uri": "https://localhost:8080/"
        },
        "id": "600b3dad",
        "outputId": "0652aade-81d9-40c1-f860-e17ee63999a9"
      },
      "outputs": [
        {
          "output_type": "stream",
          "name": "stdout",
          "text": [
            "              tglpelayanan  kddati2  tkp  peserta   case     unit_cost\n",
            "0      2014-04-01 00:00:00      332   40   179530    266  3.597440e+06\n",
            "1      2016-11-01 00:00:00       54   40   104782   2453  4.951008e+06\n",
            "2      2016-05-01 00:00:00      323   30   280645   1690  1.984208e+05\n",
            "3      2018-11-01 00:00:00      318   40   178685   1321  4.008756e+06\n",
            "4      2019-10-01 00:00:00      150   30  1199321  73056  3.072272e+05\n",
            "...                    ...      ...  ...      ...    ...           ...\n",
            "57966  2019-03-01 00:00:00      241   40   157213    410  3.443332e+06\n",
            "57967  2019-09-01 00:00:00      338   30   402173   8272  2.128621e+05\n",
            "57968  2016-06-01 00:00:00      241   40    99401    294  3.028611e+06\n",
            "57969  2018-01-01 00:00:00      147   40   509495   1983  3.629365e+06\n",
            "57970  2016-09-01 00:00:00      204   30   770169  16679  2.956852e+05\n",
            "\n",
            "[57971 rows x 6 columns]\n"
          ]
        }
      ],
      "source": [
        "casecostprediction = casecostprediction.drop(['row_id', 'a', 'b', 'c', 'cb', 'd', 'ds', 'gd', 'hd', 'i1', 'i2', 'i3', 'i4', 'kb', 'kc', 'kg', 'ki', 'kj', 'kk', 'kl', 'km', 'ko', 'kp', 'kt', 'ku', 's', 'sa', 'sb','sc', 'sd'],axis=1)\n",
        "print(casecostprediction)\n"
      ]
    },
    {
      "cell_type": "markdown",
      "id": "bf9f965c",
      "metadata": {
        "id": "bf9f965c"
      },
      "source": [
        "- Atribut Utama"
      ]
    },
    {
      "cell_type": "code",
      "execution_count": 9,
      "id": "e4ab02f1",
      "metadata": {
        "colab": {
          "base_uri": "https://localhost:8080/"
        },
        "id": "e4ab02f1",
        "outputId": "3596f88d-6d9c-4e20-e98d-706bb0433b9b"
      },
      "outputs": [
        {
          "output_type": "execute_result",
          "data": {
            "text/plain": [
              "count     57971.000000\n",
              "mean       6539.418451\n",
              "std       17607.280021\n",
              "min           1.000000\n",
              "25%         424.000000\n",
              "50%        1359.000000\n",
              "75%        4583.000000\n",
              "max      333441.000000\n",
              "Name: case, dtype: float64"
            ]
          },
          "metadata": {},
          "execution_count": 9
        }
      ],
      "source": [
        "casecostprediction['case'].describe()"
      ]
    },
    {
      "cell_type": "code",
      "execution_count": 10,
      "id": "ea9dbc1d",
      "metadata": {
        "colab": {
          "base_uri": "https://localhost:8080/",
          "height": 265
        },
        "id": "ea9dbc1d",
        "outputId": "a6bb9c58-565b-404d-ef24-27f558f4bf72"
      },
      "outputs": [
        {
          "output_type": "display_data",
          "data": {
            "text/plain": [
              "<Figure size 432x288 with 1 Axes>"
            ],
            "image/png": "[encoded data removed]"
          },
          "metadata": {
            "needs_background": "light"
          }
        }
      ],
      "source": [
        "casecostprediction['case'].hist(edgecolor='black', bins=20);"
      ]
    },
    {
      "cell_type": "code",
      "execution_count": 11,
      "id": "9f922320",
      "metadata": {
        "colab": {
          "base_uri": "https://localhost:8080/"
        },
        "id": "9f922320",
        "outputId": "54d22a23-3027-4763-f5a3-87938b49d427"
      },
      "outputs": [
        {
          "output_type": "execute_result",
          "data": {
            "text/plain": [
              "count    5.797100e+04\n",
              "mean     1.961092e+06\n",
              "std      1.889367e+06\n",
              "min      1.000000e+05\n",
              "25%      2.336742e+05\n",
              "50%      6.547994e+05\n",
              "75%      3.531702e+06\n",
              "max      2.690550e+07\n",
              "Name: unit_cost, dtype: float64"
            ]
          },
          "metadata": {},
          "execution_count": 11
        }
      ],
      "source": [
        "casecostprediction['unit_cost'].describe()"
      ]
    },
    {
      "cell_type": "code",
      "execution_count": 12,
      "id": "ff5043e1",
      "metadata": {
        "colab": {
          "base_uri": "https://localhost:8080/",
          "height": 278
        },
        "id": "ff5043e1",
        "outputId": "15feff82-546c-403b-87d8-76ad7a046975"
      },
      "outputs": [
        {
          "output_type": "display_data",
          "data": {
            "text/plain": [
              "<Figure size 432x288 with 1 Axes>"
            ],
            "image/png": "[encoded data removed]"
          },
          "metadata": {
            "needs_background": "light"
          }
        }
      ],
      "source": [
        "casecostprediction['unit_cost'].hist(edgecolor='black', bins=20);"
      ]
    },
    {
      "cell_type": "code",
      "execution_count": 13,
      "id": "a5587529",
      "metadata": {
        "colab": {
          "base_uri": "https://localhost:8080/"
        },
        "id": "a5587529",
        "outputId": "67fde531-fd27-442f-fe12-a4018f08c97a"
      },
      "outputs": [
        {
          "output_type": "execute_result",
          "data": {
            "text/plain": [
              "count    57971.000000\n",
              "mean       246.423125\n",
              "std        143.447935\n",
              "min          1.000000\n",
              "25%        125.000000\n",
              "50%        243.000000\n",
              "75%        362.000000\n",
              "max        528.000000\n",
              "Name: kddati2, dtype: float64"
            ]
          },
          "metadata": {},
          "execution_count": 13
        }
      ],
      "source": [
        "casecostprediction['kddati2'].describe()"
      ]
    },
    {
      "cell_type": "code",
      "execution_count": 14,
      "id": "bbbb9da7",
      "metadata": {
        "colab": {
          "base_uri": "https://localhost:8080/",
          "height": 265
        },
        "id": "bbbb9da7",
        "outputId": "dc7bd855-c0ff-4242-88e9-7b2ff1536121"
      },
      "outputs": [
        {
          "output_type": "display_data",
          "data": {
            "text/plain": [
              "<Figure size 432x288 with 1 Axes>"
            ],
            "image/png": "[encoded data removed]"
          },
          "metadata": {
            "needs_background": "light"
          }
        }
      ],
      "source": [
        "casecostprediction['kddati2'].hist(edgecolor='black', bins=20);"
      ]
    },
    {
      "cell_type": "code",
      "execution_count": 15,
      "id": "eaa2a841",
      "metadata": {
        "colab": {
          "base_uri": "https://localhost:8080/"
        },
        "id": "eaa2a841",
        "outputId": "ee6af918-4cf5-4b78-e3b0-6432796256f5"
      },
      "outputs": [
        {
          "output_type": "execute_result",
          "data": {
            "text/plain": [
              "count    5.797100e+04\n",
              "mean     3.562209e+05\n",
              "std      4.120323e+05\n",
              "min      8.000000e+00\n",
              "25%      1.127735e+05\n",
              "50%      1.975800e+05\n",
              "75%      4.386935e+05\n",
              "max      3.328509e+06\n",
              "Name: peserta, dtype: float64"
            ]
          },
          "metadata": {},
          "execution_count": 15
        }
      ],
      "source": [
        "casecostprediction['peserta'].describe()"
      ]
    },
    {
      "cell_type": "code",
      "execution_count": 16,
      "id": "17eb2dee",
      "metadata": {
        "colab": {
          "base_uri": "https://localhost:8080/",
          "height": 278
        },
        "id": "17eb2dee",
        "outputId": "44c398c4-bdd1-4fc5-f7b4-f0feb2ae84e6"
      },
      "outputs": [
        {
          "output_type": "display_data",
          "data": {
            "text/plain": [
              "<Figure size 432x288 with 1 Axes>"
            ],
            "image/png": "[encoded data removed]"
          },
          "metadata": {
            "needs_background": "light"
          }
        }
      ],
      "source": [
        "casecostprediction['peserta'].hist(edgecolor='black', bins=20);"
      ]
    },
    {
      "cell_type": "code",
      "execution_count": 17,
      "id": "c9638a11",
      "metadata": {
        "colab": {
          "base_uri": "https://localhost:8080/"
        },
        "id": "c9638a11",
        "outputId": "97e4b8db-5560-4dc2-8209-c81f12c26d84"
      },
      "outputs": [
        {
          "output_type": "execute_result",
          "data": {
            "text/plain": [
              "count    57971.000000\n",
              "mean        34.990081\n",
              "std          5.000033\n",
              "min         30.000000\n",
              "25%         30.000000\n",
              "50%         30.000000\n",
              "75%         40.000000\n",
              "max         40.000000\n",
              "Name: tkp, dtype: float64"
            ]
          },
          "metadata": {},
          "execution_count": 17
        }
      ],
      "source": [
        "casecostprediction['tkp'].describe()"
      ]
    },
    {
      "cell_type": "code",
      "execution_count": 18,
      "id": "25620430",
      "metadata": {
        "colab": {
          "base_uri": "https://localhost:8080/",
          "height": 266
        },
        "id": "25620430",
        "outputId": "f51e6bbf-2df8-40fe-f704-fbd522c44fa7"
      },
      "outputs": [
        {
          "output_type": "display_data",
          "data": {
            "text/plain": [
              "<Figure size 432x288 with 1 Axes>"
            ],
            "image/png": "[encoded data removed]"
          },
          "metadata": {
            "needs_background": "light"
          }
        }
      ],
      "source": [
        "casecostprediction['tkp'].hist(edgecolor='black', bins=20);"
      ]
    },
    {
      "cell_type": "code",
      "execution_count": 19,
      "id": "3486cb79",
      "metadata": {
        "colab": {
          "base_uri": "https://localhost:8080/"
        },
        "id": "3486cb79",
        "outputId": "3eba8260-e57f-47f9-e77d-108ae21c0ab5"
      },
      "outputs": [
        {
          "output_type": "execute_result",
          "data": {
            "text/plain": [
              "count                   57971\n",
              "unique                     90\n",
              "top       2017-07-01 00:00:00\n",
              "freq                      715\n",
              "Name: tglpelayanan, dtype: object"
            ]
          },
          "metadata": {},
          "execution_count": 19
        }
      ],
      "source": [
        "casecostprediction['tglpelayanan'].describe()"
      ]
    },
    {
      "cell_type": "code",
      "execution_count": 20,
      "id": "23a46117",
      "metadata": {
        "colab": {
          "base_uri": "https://localhost:8080/",
          "height": 265
        },
        "id": "23a46117",
        "outputId": "24027194-bad3-4cdd-d007-872bccc7a2a1"
      },
      "outputs": [
        {
          "output_type": "display_data",
          "data": {
            "text/plain": [
              "<Figure size 432x288 with 1 Axes>"
            ],
            "image/png": "[encoded data removed]"
          },
          "metadata": {
            "needs_background": "light"
          }
        }
      ],
      "source": [
        "casecostprediction['tglpelayanan'].hist(edgecolor='black', bins=20);"
      ]
    },
    {
      "cell_type": "markdown",
      "id": "349e50bc",
      "metadata": {
        "id": "349e50bc"
      },
      "source": [
        "- Kesimpulan yang dapat diambil dari atribut utama adalah bahwa pada tglpelayanan (2014-04-01 00:00:00) masih bertype object, sehingga ini perlu diubah menjadi nilai angka untuk memudahkan "
      ]
    },
    {
      "cell_type": "code",
      "execution_count": 21,
      "id": "8b2e5bf5",
      "metadata": {
        "colab": {
          "base_uri": "https://localhost:8080/",
          "height": 613
        },
        "id": "8b2e5bf5",
        "outputId": "74ce3652-75a0-4399-d278-9b989e91f403"
      },
      "outputs": [
        {
          "output_type": "execute_result",
          "data": {
            "text/plain": [
              "<matplotlib.axes._subplots.AxesSubplot at 0x7f9448399490>"
            ]
          },
          "metadata": {},
          "execution_count": 21
        },
        {
          "output_type": "display_data",
          "data": {
            "text/plain": [
              "<Figure size 1440x720 with 2 Axes>"
            ],
            "image/png": "[encoded data removed]"
          },
          "metadata": {
            "needs_background": "light"
          }
        }
      ],
      "source": [
        "plt.figure(figsize=(20,10))\n",
        "sns.heatmap(casecostprediction.corr(), annot=True, linewidth = 1.5, cmap='coolwarm')\n"
      ]
    },
    {
      "cell_type": "markdown",
      "id": "e89cd941",
      "metadata": {
        "id": "e89cd941"
      },
      "source": [
        "# DATA PREPARATION"
      ]
    },
    {
      "cell_type": "markdown",
      "id": "d7ea44c8",
      "metadata": {
        "id": "d7ea44c8"
      },
      "source": [
        "Memilah Data"
      ]
    },
    {
      "cell_type": "markdown",
      "id": "8df19dd4",
      "metadata": {
        "id": "8df19dd4"
      },
      "source": [
        "- Setelah feature-feature yang didrop sebelumnya, sehingga dihasilkanlah data dengan feature tglpelayanan, kddati2, tkp, peserta, case dan unit_cost\n",
        "- kemudian memilah data pada data preparation kami mengecek missing value "
      ]
    },
    {
      "cell_type": "code",
      "execution_count": 22,
      "id": "17a9d188",
      "metadata": {
        "colab": {
          "base_uri": "https://localhost:8080/",
          "height": 0
        },
        "id": "17a9d188",
        "outputId": "0d0dbee6-5ee9-4cb1-e877-2e2dd4a135b8"
      },
      "outputs": [
        {
          "output_type": "execute_result",
          "data": {
            "text/plain": [
              "       tglpelayanan  kddati2    tkp  peserta   case  unit_cost\n",
              "0             False    False  False    False  False      False\n",
              "1             False    False  False    False  False      False\n",
              "2             False    False  False    False  False      False\n",
              "3             False    False  False    False  False      False\n",
              "4             False    False  False    False  False      False\n",
              "...             ...      ...    ...      ...    ...        ...\n",
              "57966         False    False  False    False  False      False\n",
              "57967         False    False  False    False  False      False\n",
              "57968         False    False  False    False  False      False\n",
              "57969         False    False  False    False  False      False\n",
              "57970         False    False  False    False  False      False\n",
              "\n",
              "[57971 rows x 6 columns]"
            ],
            "text/html": [
              "\n",
              "  <div id=\"df-2c9e552b-0ad8-4ea1-8043-9090a16c008f\">\n",
              "    <div class=\"colab-df-container\">\n",
              "      <div>\n",
              "<style scoped>\n",
              "    .dataframe tbody tr th:only-of-type {\n",
              "        vertical-align: middle;\n",
              "    }\n",
              "\n",
              "    .dataframe tbody tr th {\n",
              "        vertical-align: top;\n",
              "    }\n",
              "\n",
              "    .dataframe thead th {\n",
              "        text-align: right;\n",
              "    }\n",
              "</style>\n",
              "<table border=\"1\" class=\"dataframe\">\n",
              "  <thead>\n",
              "    <tr style=\"text-align: right;\">\n",
              "      <th></th>\n",
              "      <th>tglpelayanan</th>\n",
              "      <th>kddati2</th>\n",
              "      <th>tkp</th>\n",
              "      <th>peserta</th>\n",
              "      <th>case</th>\n",
              "      <th>unit_cost</th>\n",
              "    </tr>\n",
              "  </thead>\n",
              "  <tbody>\n",
              "    <tr>\n",
              "      <th>0</th>\n",
              "      <td>False</td>\n",
              "      <td>False</td>\n",
              "      <td>False</td>\n",
              "      <td>False</td>\n",
              "      <td>False</td>\n",
              "      <td>False</td>\n",
              "    </tr>\n",
              "    <tr>\n",
              "      <th>1</th>\n",
              "      <td>False</td>\n",
              "      <td>False</td>\n",
              "      <td>False</td>\n",
              "      <td>False</td>\n",
              "      <td>False</td>\n",
              "      <td>False</td>\n",
              "    </tr>\n",
              "    <tr>\n",
              "      <th>2</th>\n",
              "      <td>False</td>\n",
              "      <td>False</td>\n",
              "      <td>False</td>\n",
              "      <td>False</td>\n",
              "      <td>False</td>\n",
              "      <td>False</td>\n",
              "    </tr>\n",
              "    <tr>\n",
              "      <th>3</th>\n",
              "      <td>False</td>\n",
              "      <td>False</td>\n",
              "      <td>False</td>\n",
              "      <td>False</td>\n",
              "      <td>False</td>\n",
              "      <td>False</td>\n",
              "    </tr>\n",
              "    <tr>\n",
              "      <th>4</th>\n",
              "      <td>False</td>\n",
              "      <td>False</td>\n",
              "      <td>False</td>\n",
              "      <td>False</td>\n",
              "      <td>False</td>\n",
              "      <td>False</td>\n",
              "    </tr>\n",
              "    <tr>\n",
              "      <th>...</th>\n",
              "      <td>...</td>\n",
              "      <td>...</td>\n",
              "      <td>...</td>\n",
              "      <td>...</td>\n",
              "      <td>...</td>\n",
              "      <td>...</td>\n",
              "    </tr>\n",
              "    <tr>\n",
              "      <th>57966</th>\n",
              "      <td>False</td>\n",
              "      <td>False</td>\n",
              "      <td>False</td>\n",
              "      <td>False</td>\n",
              "      <td>False</td>\n",
              "      <td>False</td>\n",
              "    </tr>\n",
              "    <tr>\n",
              "      <th>57967</th>\n",
              "      <td>False</td>\n",
              "      <td>False</td>\n",
              "      <td>False</td>\n",
              "      <td>False</td>\n",
              "      <td>False</td>\n",
              "      <td>False</td>\n",
              "    </tr>\n",
              "    <tr>\n",
              "      <th>57968</th>\n",
              "      <td>False</td>\n",
              "      <td>False</td>\n",
              "      <td>False</td>\n",
              "      <td>False</td>\n",
              "      <td>False</td>\n",
              "      <td>False</td>\n",
              "    </tr>\n",
              "    <tr>\n",
              "      <th>57969</th>\n",
              "      <td>False</td>\n",
              "      <td>False</td>\n",
              "      <td>False</td>\n",
              "      <td>False</td>\n",
              "      <td>False</td>\n",
              "      <td>False</td>\n",
              "    </tr>\n",
              "    <tr>\n",
              "      <th>57970</th>\n",
              "      <td>False</td>\n",
              "      <td>False</td>\n",
              "      <td>False</td>\n",
              "      <td>False</td>\n",
              "      <td>False</td>\n",
              "      <td>False</td>\n",
              "    </tr>\n",
              "  </tbody>\n",
              "</table>\n",
              "<p>57971 rows × 6 columns</p>\n",
              "</div>\n",
              "      <button class=\"colab-df-convert\" onclick=\"convertToInteractive('df-2c9e552b-0ad8-4ea1-8043-9090a16c008f')\"\n",
              "              title=\"Convert this dataframe to an interactive table.\"\n",
              "              style=\"display:none;\">\n",
              "        \n",
              "  <svg xmlns=\"http://www.w3.org/2000/svg\" height=\"24px\"viewBox=\"0 0 24 24\"\n",
              "       width=\"24px\">\n",
              "    <path d=\"M0 0h24v24H0V0z\" fill=\"none\"/>\n",
              "    <path d=\"M18.56 5.44l.94 2.06.94-2.06 2.06-.94-2.06-.94-.94-2.06-.94 2.06-2.06.94zm-11 1L8.5 8.5l.94-2.06 2.06-.94-2.06-.94L8.5 2.5l-.94 2.06-2.06.94zm10 10l.94 2.06.94-2.06 2.06-.94-2.06-.94-.94-2.06-.94 2.06-2.06.94z\"/><path d=\"M17.41 7.96l-1.37-1.37c-.4-.4-.92-.59-1.43-.59-.52 0-1.04.2-1.43.59L10.3 9.45l-7.72 7.72c-.78.78-.78 2.05 0 2.83L4 21.41c.39.39.9.59 1.41.59.51 0 1.02-.2 1.41-.59l7.78-7.78 2.81-2.81c.8-.78.8-2.07 0-2.86zM5.41 20L4 18.59l7.72-7.72 1.47 1.35L5.41 20z\"/>\n",
              "  </svg>\n",
              "      </button>\n",
              "      \n",
              "  <style>\n",
              "    .colab-df-container {\n",
              "      display:flex;\n",
              "      flex-wrap:wrap;\n",
              "      gap: 12px;\n",
              "    }\n",
              "\n",
              "    .colab-df-convert {\n",
              "      background-color: #E8F0FE;\n",
              "      border: none;\n",
              "      border-radius: 50%;\n",
              "      cursor: pointer;\n",
              "      display: none;\n",
              "      fill: #1967D2;\n",
              "      height: 32px;\n",
              "      padding: 0 0 0 0;\n",
              "      width: 32px;\n",
              "    }\n",
              "\n",
              "    .colab-df-convert:hover {\n",
              "      background-color: #E2EBFA;\n",
              "      box-shadow: 0px 1px 2px rgba(60, 64, 67, 0.3), 0px 1px 3px 1px rgba(60, 64, 67, 0.15);\n",
              "      fill: #174EA6;\n",
              "    }\n",
              "\n",
              "    [theme=dark] .colab-df-convert {\n",
              "      background-color: #3B4455;\n",
              "      fill: #D2E3FC;\n",
              "    }\n",
              "\n",
              "    [theme=dark] .colab-df-convert:hover {\n",
              "      background-color: #434B5C;\n",
              "      box-shadow: 0px 1px 3px 1px rgba(0, 0, 0, 0.15);\n",
              "      filter: drop-shadow(0px 1px 2px rgba(0, 0, 0, 0.3));\n",
              "      fill: #FFFFFF;\n",
              "    }\n",
              "  </style>\n",
              "\n",
              "      <script>\n",
              "        const buttonEl =\n",
              "          document.querySelector('#df-2c9e552b-0ad8-4ea1-8043-9090a16c008f button.colab-df-convert');\n",
              "        buttonEl.style.display =\n",
              "          google.colab.kernel.accessAllowed ? 'block' : 'none';\n",
              "\n",
              "        async function convertToInteractive(key) {\n",
              "          const element = document.querySelector('#df-2c9e552b-0ad8-4ea1-8043-9090a16c008f');\n",
              "          const dataTable =\n",
              "            await google.colab.kernel.invokeFunction('convertToInteractive',\n",
              "                                                     [key], {});\n",
              "          if (!dataTable) return;\n",
              "\n",
              "          const docLinkHtml = 'Like what you see? Visit the ' +\n",
              "            '<a target=\"_blank\" href=https://colab.research.google.com/notebooks/data_table.ipynb>data table notebook</a>'\n",
              "            + ' to learn more about interactive tables.';\n",
              "          element.innerHTML = '';\n",
              "          dataTable['output_type'] = 'display_data';\n",
              "          await google.colab.output.renderOutput(dataTable, element);\n",
              "          const docLink = document.createElement('div');\n",
              "          docLink.innerHTML = docLinkHtml;\n",
              "          element.appendChild(docLink);\n",
              "        }\n",
              "      </script>\n",
              "    </div>\n",
              "  </div>\n",
              "  "
            ]
          },
          "metadata": {},
          "execution_count": 22
        }
      ],
      "source": [
        "casecostprediction.isnull()"
      ]
    },
    {
      "cell_type": "markdown",
      "id": "4b4db10a",
      "metadata": {
        "id": "4b4db10a"
      },
      "source": [
        "- False = tidak terdapat missing value True = mengandung missing value, sehingga dari output dapat kita ketahui jika data tidak memiliki missing value.\n",
        "- untuk data cleaning telah dihasilkan data tanpa missing value sehingga bernilai null"
      ]
    },
    {
      "cell_type": "code",
      "execution_count": 23,
      "id": "a0ac82db",
      "metadata": {
        "colab": {
          "base_uri": "https://localhost:8080/"
        },
        "id": "a0ac82db",
        "outputId": "89f7cbb5-9f19-4024-b4e7-ce94f69b8533"
      },
      "outputs": [
        {
          "output_type": "execute_result",
          "data": {
            "text/plain": [
              "tglpelayanan    0\n",
              "kddati2         0\n",
              "tkp             0\n",
              "peserta         0\n",
              "case            0\n",
              "unit_cost       0\n",
              "dtype: int64"
            ]
          },
          "metadata": {},
          "execution_count": 23
        }
      ],
      "source": [
        "casecostprediction.isnull().sum()"
      ]
    },
    {
      "cell_type": "code",
      "execution_count": 24,
      "id": "bbad008e",
      "metadata": {
        "colab": {
          "base_uri": "https://localhost:8080/"
        },
        "id": "bbad008e",
        "outputId": "d63dd49b-0bc5-4368-94a3-130839a0ae1e"
      },
      "outputs": [
        {
          "output_type": "execute_result",
          "data": {
            "text/plain": [
              "tglpelayanan       90\n",
              "kddati2           490\n",
              "tkp                 2\n",
              "peserta         36517\n",
              "case            15332\n",
              "unit_cost       57945\n",
              "dtype: int64"
            ]
          },
          "metadata": {},
          "execution_count": 24
        }
      ],
      "source": [
        "casecostprediction.nunique()"
      ]
    },
    {
      "cell_type": "markdown",
      "id": "cff59ad8",
      "metadata": {
        "id": "cff59ad8"
      },
      "source": [
        "# Mengkonstruksi Data"
      ]
    },
    {
      "cell_type": "markdown",
      "id": "3f86852b",
      "metadata": {
        "id": "3f86852b"
      },
      "source": [
        "- Berdasarkan telaah data yang telah dilakukan sebelumnya, diketahui tidak ada data numerik. Namun pada data atribute tanggal pelayanan diperlukan transformasi mengubah tanggal jadi angka yang akan dilakukan menggunakan label encoding"
      ]
    },
    {
      "cell_type": "code",
      "execution_count": 25,
      "id": "7fd7f79e",
      "metadata": {
        "colab": {
          "base_uri": "https://localhost:8080/",
          "height": 0
        },
        "id": "7fd7f79e",
        "outputId": "010c0899-7cf5-4fe1-b190-144915fb1381"
      },
      "outputs": [
        {
          "output_type": "execute_result",
          "data": {
            "text/plain": [
              "              tglpelayanan  kddati2  tkp  peserta   case     unit_cost\n",
              "0      2014-04-01 00:00:00      332   40   179530    266  3.597440e+06\n",
              "1      2016-11-01 00:00:00       54   40   104782   2453  4.951008e+06\n",
              "2      2016-05-01 00:00:00      323   30   280645   1690  1.984208e+05\n",
              "3      2018-11-01 00:00:00      318   40   178685   1321  4.008756e+06\n",
              "4      2019-10-01 00:00:00      150   30  1199321  73056  3.072272e+05\n",
              "...                    ...      ...  ...      ...    ...           ...\n",
              "57966  2019-03-01 00:00:00      241   40   157213    410  3.443332e+06\n",
              "57967  2019-09-01 00:00:00      338   30   402173   8272  2.128621e+05\n",
              "57968  2016-06-01 00:00:00      241   40    99401    294  3.028611e+06\n",
              "57969  2018-01-01 00:00:00      147   40   509495   1983  3.629365e+06\n",
              "57970  2016-09-01 00:00:00      204   30   770169  16679  2.956852e+05\n",
              "\n",
              "[57971 rows x 6 columns]"
            ],
            "text/html": [
              "\n",
              "  <div id=\"df-cf4e5982-9773-4a97-a688-43fca7208766\">\n",
              "    <div class=\"colab-df-container\">\n",
              "      <div>\n",
              "<style scoped>\n",
              "    .dataframe tbody tr th:only-of-type {\n",
              "        vertical-align: middle;\n",
              "    }\n",
              "\n",
              "    .dataframe tbody tr th {\n",
              "        vertical-align: top;\n",
              "    }\n",
              "\n",
              "    .dataframe thead th {\n",
              "        text-align: right;\n",
              "    }\n",
              "</style>\n",
              "<table border=\"1\" class=\"dataframe\">\n",
              "  <thead>\n",
              "    <tr style=\"text-align: right;\">\n",
              "      <th></th>\n",
              "      <th>tglpelayanan</th>\n",
              "      <th>kddati2</th>\n",
              "      <th>tkp</th>\n",
              "      <th>peserta</th>\n",
              "      <th>case</th>\n",
              "      <th>unit_cost</th>\n",
              "    </tr>\n",
              "  </thead>\n",
              "  <tbody>\n",
              "    <tr>\n",
              "      <th>0</th>\n",
              "      <td>2014-04-01 00:00:00</td>\n",
              "      <td>332</td>\n",
              "      <td>40</td>\n",
              "      <td>179530</td>\n",
              "      <td>266</td>\n",
              "      <td>3.597440e+06</td>\n",
              "    </tr>\n",
              "    <tr>\n",
              "      <th>1</th>\n",
              "      <td>2016-11-01 00:00:00</td>\n",
              "      <td>54</td>\n",
              "      <td>40</td>\n",
              "      <td>104782</td>\n",
              "      <td>2453</td>\n",
              "      <td>4.951008e+06</td>\n",
              "    </tr>\n",
              "    <tr>\n",
              "      <th>2</th>\n",
              "      <td>2016-05-01 00:00:00</td>\n",
              "      <td>323</td>\n",
              "      <td>30</td>\n",
              "      <td>280645</td>\n",
              "      <td>1690</td>\n",
              "      <td>1.984208e+05</td>\n",
              "    </tr>\n",
              "    <tr>\n",
              "      <th>3</th>\n",
              "      <td>2018-11-01 00:00:00</td>\n",
              "      <td>318</td>\n",
              "      <td>40</td>\n",
              "      <td>178685</td>\n",
              "      <td>1321</td>\n",
              "      <td>4.008756e+06</td>\n",
              "    </tr>\n",
              "    <tr>\n",
              "      <th>4</th>\n",
              "      <td>2019-10-01 00:00:00</td>\n",
              "      <td>150</td>\n",
              "      <td>30</td>\n",
              "      <td>1199321</td>\n",
              "      <td>73056</td>\n",
              "      <td>3.072272e+05</td>\n",
              "    </tr>\n",
              "    <tr>\n",
              "      <th>...</th>\n",
              "      <td>...</td>\n",
              "      <td>...</td>\n",
              "      <td>...</td>\n",
              "      <td>...</td>\n",
              "      <td>...</td>\n",
              "      <td>...</td>\n",
              "    </tr>\n",
              "    <tr>\n",
              "      <th>57966</th>\n",
              "      <td>2019-03-01 00:00:00</td>\n",
              "      <td>241</td>\n",
              "      <td>40</td>\n",
              "      <td>157213</td>\n",
              "      <td>410</td>\n",
              "      <td>3.443332e+06</td>\n",
              "    </tr>\n",
              "    <tr>\n",
              "      <th>57967</th>\n",
              "      <td>2019-09-01 00:00:00</td>\n",
              "      <td>338</td>\n",
              "      <td>30</td>\n",
              "      <td>402173</td>\n",
              "      <td>8272</td>\n",
              "      <td>2.128621e+05</td>\n",
              "    </tr>\n",
              "    <tr>\n",
              "      <th>57968</th>\n",
              "      <td>2016-06-01 00:00:00</td>\n",
              "      <td>241</td>\n",
              "      <td>40</td>\n",
              "      <td>99401</td>\n",
              "      <td>294</td>\n",
              "      <td>3.028611e+06</td>\n",
              "    </tr>\n",
              "    <tr>\n",
              "      <th>57969</th>\n",
              "      <td>2018-01-01 00:00:00</td>\n",
              "      <td>147</td>\n",
              "      <td>40</td>\n",
              "      <td>509495</td>\n",
              "      <td>1983</td>\n",
              "      <td>3.629365e+06</td>\n",
              "    </tr>\n",
              "    <tr>\n",
              "      <th>57970</th>\n",
              "      <td>2016-09-01 00:00:00</td>\n",
              "      <td>204</td>\n",
              "      <td>30</td>\n",
              "      <td>770169</td>\n",
              "      <td>16679</td>\n",
              "      <td>2.956852e+05</td>\n",
              "    </tr>\n",
              "  </tbody>\n",
              "</table>\n",
              "<p>57971 rows × 6 columns</p>\n",
              "</div>\n",
              "      <button class=\"colab-df-convert\" onclick=\"convertToInteractive('df-cf4e5982-9773-4a97-a688-43fca7208766')\"\n",
              "              title=\"Convert this dataframe to an interactive table.\"\n",
              "              style=\"display:none;\">\n",
              "        \n",
              "  <svg xmlns=\"http://www.w3.org/2000/svg\" height=\"24px\"viewBox=\"0 0 24 24\"\n",
              "       width=\"24px\">\n",
              "    <path d=\"M0 0h24v24H0V0z\" fill=\"none\"/>\n",
              "    <path d=\"M18.56 5.44l.94 2.06.94-2.06 2.06-.94-2.06-.94-.94-2.06-.94 2.06-2.06.94zm-11 1L8.5 8.5l.94-2.06 2.06-.94-2.06-.94L8.5 2.5l-.94 2.06-2.06.94zm10 10l.94 2.06.94-2.06 2.06-.94-2.06-.94-.94-2.06-.94 2.06-2.06.94z\"/><path d=\"M17.41 7.96l-1.37-1.37c-.4-.4-.92-.59-1.43-.59-.52 0-1.04.2-1.43.59L10.3 9.45l-7.72 7.72c-.78.78-.78 2.05 0 2.83L4 21.41c.39.39.9.59 1.41.59.51 0 1.02-.2 1.41-.59l7.78-7.78 2.81-2.81c.8-.78.8-2.07 0-2.86zM5.41 20L4 18.59l7.72-7.72 1.47 1.35L5.41 20z\"/>\n",
              "  </svg>\n",
              "      </button>\n",
              "      \n",
              "  <style>\n",
              "    .colab-df-container {\n",
              "      display:flex;\n",
              "      flex-wrap:wrap;\n",
              "      gap: 12px;\n",
              "    }\n",
              "\n",
              "    .colab-df-convert {\n",
              "      background-color: #E8F0FE;\n",
              "      border: none;\n",
              "      border-radius: 50%;\n",
              "      cursor: pointer;\n",
              "      display: none;\n",
              "      fill: #1967D2;\n",
              "      height: 32px;\n",
              "      padding: 0 0 0 0;\n",
              "      width: 32px;\n",
              "    }\n",
              "\n",
              "    .colab-df-convert:hover {\n",
              "      background-color: #E2EBFA;\n",
              "      box-shadow: 0px 1px 2px rgba(60, 64, 67, 0.3), 0px 1px 3px 1px rgba(60, 64, 67, 0.15);\n",
              "      fill: #174EA6;\n",
              "    }\n",
              "\n",
              "    [theme=dark] .colab-df-convert {\n",
              "      background-color: #3B4455;\n",
              "      fill: #D2E3FC;\n",
              "    }\n",
              "\n",
              "    [theme=dark] .colab-df-convert:hover {\n",
              "      background-color: #434B5C;\n",
              "      box-shadow: 0px 1px 3px 1px rgba(0, 0, 0, 0.15);\n",
              "      filter: drop-shadow(0px 1px 2px rgba(0, 0, 0, 0.3));\n",
              "      fill: #FFFFFF;\n",
              "    }\n",
              "  </style>\n",
              "\n",
              "      <script>\n",
              "        const buttonEl =\n",
              "          document.querySelector('#df-cf4e5982-9773-4a97-a688-43fca7208766 button.colab-df-convert');\n",
              "        buttonEl.style.display =\n",
              "          google.colab.kernel.accessAllowed ? 'block' : 'none';\n",
              "\n",
              "        async function convertToInteractive(key) {\n",
              "          const element = document.querySelector('#df-cf4e5982-9773-4a97-a688-43fca7208766');\n",
              "          const dataTable =\n",
              "            await google.colab.kernel.invokeFunction('convertToInteractive',\n",
              "                                                     [key], {});\n",
              "          if (!dataTable) return;\n",
              "\n",
              "          const docLinkHtml = 'Like what you see? Visit the ' +\n",
              "            '<a target=\"_blank\" href=https://colab.research.google.com/notebooks/data_table.ipynb>data table notebook</a>'\n",
              "            + ' to learn more about interactive tables.';\n",
              "          element.innerHTML = '';\n",
              "          dataTable['output_type'] = 'display_data';\n",
              "          await google.colab.output.renderOutput(dataTable, element);\n",
              "          const docLink = document.createElement('div');\n",
              "          docLink.innerHTML = docLinkHtml;\n",
              "          element.appendChild(docLink);\n",
              "        }\n",
              "      </script>\n",
              "    </div>\n",
              "  </div>\n",
              "  "
            ]
          },
          "metadata": {},
          "execution_count": 25
        }
      ],
      "source": [
        "casecostprediction"
      ]
    },
    {
      "cell_type": "code",
      "execution_count": 26,
      "id": "dfa0f5c0",
      "metadata": {
        "id": "dfa0f5c0"
      },
      "outputs": [],
      "source": [
        "#merubah nilai tglpelayanan dengan label encoding\n",
        "from sklearn.preprocessing import LabelEncoder"
      ]
    },
    {
      "cell_type": "code",
      "execution_count": 27,
      "id": "c8695bbb",
      "metadata": {
        "id": "c8695bbb"
      },
      "outputs": [],
      "source": [
        "encoder = LabelEncoder()"
      ]
    },
    {
      "cell_type": "code",
      "execution_count": 28,
      "id": "e1cd337f",
      "metadata": {
        "id": "e1cd337f"
      },
      "outputs": [],
      "source": [
        "casecostprediction['tglpelayanan'] = encoder.fit_transform(casecostprediction['tglpelayanan'])"
      ]
    },
    {
      "cell_type": "code",
      "execution_count": 29,
      "id": "58daad6c",
      "metadata": {
        "colab": {
          "base_uri": "https://localhost:8080/",
          "height": 0
        },
        "id": "58daad6c",
        "outputId": "8b1f413e-dcb0-4c5d-864d-74e6b1a1f815"
      },
      "outputs": [
        {
          "output_type": "execute_result",
          "data": {
            "text/plain": [
              "       tglpelayanan  kddati2  tkp  peserta   case     unit_cost\n",
              "0                 3      332   40   179530    266  3.597440e+06\n",
              "1                34       54   40   104782   2453  4.951008e+06\n",
              "2                28      323   30   280645   1690  1.984208e+05\n",
              "3                58      318   40   178685   1321  4.008756e+06\n",
              "4                69      150   30  1199321  73056  3.072272e+05\n",
              "...             ...      ...  ...      ...    ...           ...\n",
              "57966            62      241   40   157213    410  3.443332e+06\n",
              "57967            68      338   30   402173   8272  2.128621e+05\n",
              "57968            29      241   40    99401    294  3.028611e+06\n",
              "57969            48      147   40   509495   1983  3.629365e+06\n",
              "57970            32      204   30   770169  16679  2.956852e+05\n",
              "\n",
              "[57971 rows x 6 columns]"
            ],
            "text/html": [
              "\n",
              "  <div id=\"df-96ca1457-e4ee-4f97-9156-dcd0049670f6\">\n",
              "    <div class=\"colab-df-container\">\n",
              "      <div>\n",
              "<style scoped>\n",
              "    .dataframe tbody tr th:only-of-type {\n",
              "        vertical-align: middle;\n",
              "    }\n",
              "\n",
              "    .dataframe tbody tr th {\n",
              "        vertical-align: top;\n",
              "    }\n",
              "\n",
              "    .dataframe thead th {\n",
              "        text-align: right;\n",
              "    }\n",
              "</style>\n",
              "<table border=\"1\" class=\"dataframe\">\n",
              "  <thead>\n",
              "    <tr style=\"text-align: right;\">\n",
              "      <th></th>\n",
              "      <th>tglpelayanan</th>\n",
              "      <th>kddati2</th>\n",
              "      <th>tkp</th>\n",
              "      <th>peserta</th>\n",
              "      <th>case</th>\n",
              "      <th>unit_cost</th>\n",
              "    </tr>\n",
              "  </thead>\n",
              "  <tbody>\n",
              "    <tr>\n",
              "      <th>0</th>\n",
              "      <td>3</td>\n",
              "      <td>332</td>\n",
              "      <td>40</td>\n",
              "      <td>179530</td>\n",
              "      <td>266</td>\n",
              "      <td>3.597440e+06</td>\n",
              "    </tr>\n",
              "    <tr>\n",
              "      <th>1</th>\n",
              "      <td>34</td>\n",
              "      <td>54</td>\n",
              "      <td>40</td>\n",
              "      <td>104782</td>\n",
              "      <td>2453</td>\n",
              "      <td>4.951008e+06</td>\n",
              "    </tr>\n",
              "    <tr>\n",
              "      <th>2</th>\n",
              "      <td>28</td>\n",
              "      <td>323</td>\n",
              "      <td>30</td>\n",
              "      <td>280645</td>\n",
              "      <td>1690</td>\n",
              "      <td>1.984208e+05</td>\n",
              "    </tr>\n",
              "    <tr>\n",
              "      <th>3</th>\n",
              "      <td>58</td>\n",
              "      <td>318</td>\n",
              "      <td>40</td>\n",
              "      <td>178685</td>\n",
              "      <td>1321</td>\n",
              "      <td>4.008756e+06</td>\n",
              "    </tr>\n",
              "    <tr>\n",
              "      <th>4</th>\n",
              "      <td>69</td>\n",
              "      <td>150</td>\n",
              "      <td>30</td>\n",
              "      <td>1199321</td>\n",
              "      <td>73056</td>\n",
              "      <td>3.072272e+05</td>\n",
              "    </tr>\n",
              "    <tr>\n",
              "      <th>...</th>\n",
              "      <td>...</td>\n",
              "      <td>...</td>\n",
              "      <td>...</td>\n",
              "      <td>...</td>\n",
              "      <td>...</td>\n",
              "      <td>...</td>\n",
              "    </tr>\n",
              "    <tr>\n",
              "      <th>57966</th>\n",
              "      <td>62</td>\n",
              "      <td>241</td>\n",
              "      <td>40</td>\n",
              "      <td>157213</td>\n",
              "      <td>410</td>\n",
              "      <td>3.443332e+06</td>\n",
              "    </tr>\n",
              "    <tr>\n",
              "      <th>57967</th>\n",
              "      <td>68</td>\n",
              "      <td>338</td>\n",
              "      <td>30</td>\n",
              "      <td>402173</td>\n",
              "      <td>8272</td>\n",
              "      <td>2.128621e+05</td>\n",
              "    </tr>\n",
              "    <tr>\n",
              "      <th>57968</th>\n",
              "      <td>29</td>\n",
              "      <td>241</td>\n",
              "      <td>40</td>\n",
              "      <td>99401</td>\n",
              "      <td>294</td>\n",
              "      <td>3.028611e+06</td>\n",
              "    </tr>\n",
              "    <tr>\n",
              "      <th>57969</th>\n",
              "      <td>48</td>\n",
              "      <td>147</td>\n",
              "      <td>40</td>\n",
              "      <td>509495</td>\n",
              "      <td>1983</td>\n",
              "      <td>3.629365e+06</td>\n",
              "    </tr>\n",
              "    <tr>\n",
              "      <th>57970</th>\n",
              "      <td>32</td>\n",
              "      <td>204</td>\n",
              "      <td>30</td>\n",
              "      <td>770169</td>\n",
              "      <td>16679</td>\n",
              "      <td>2.956852e+05</td>\n",
              "    </tr>\n",
              "  </tbody>\n",
              "</table>\n",
              "<p>57971 rows × 6 columns</p>\n",
              "</div>\n",
              "      <button class=\"colab-df-convert\" onclick=\"convertToInteractive('df-96ca1457-e4ee-4f97-9156-dcd0049670f6')\"\n",
              "              title=\"Convert this dataframe to an interactive table.\"\n",
              "              style=\"display:none;\">\n",
              "        \n",
              "  <svg xmlns=\"http://www.w3.org/2000/svg\" height=\"24px\"viewBox=\"0 0 24 24\"\n",
              "       width=\"24px\">\n",
              "    <path d=\"M0 0h24v24H0V0z\" fill=\"none\"/>\n",
              "    <path d=\"M18.56 5.44l.94 2.06.94-2.06 2.06-.94-2.06-.94-.94-2.06-.94 2.06-2.06.94zm-11 1L8.5 8.5l.94-2.06 2.06-.94-2.06-.94L8.5 2.5l-.94 2.06-2.06.94zm10 10l.94 2.06.94-2.06 2.06-.94-2.06-.94-.94-2.06-.94 2.06-2.06.94z\"/><path d=\"M17.41 7.96l-1.37-1.37c-.4-.4-.92-.59-1.43-.59-.52 0-1.04.2-1.43.59L10.3 9.45l-7.72 7.72c-.78.78-.78 2.05 0 2.83L4 21.41c.39.39.9.59 1.41.59.51 0 1.02-.2 1.41-.59l7.78-7.78 2.81-2.81c.8-.78.8-2.07 0-2.86zM5.41 20L4 18.59l7.72-7.72 1.47 1.35L5.41 20z\"/>\n",
              "  </svg>\n",
              "      </button>\n",
              "      \n",
              "  <style>\n",
              "    .colab-df-container {\n",
              "      display:flex;\n",
              "      flex-wrap:wrap;\n",
              "      gap: 12px;\n",
              "    }\n",
              "\n",
              "    .colab-df-convert {\n",
              "      background-color: #E8F0FE;\n",
              "      border: none;\n",
              "      border-radius: 50%;\n",
              "      cursor: pointer;\n",
              "      display: none;\n",
              "      fill: #1967D2;\n",
              "      height: 32px;\n",
              "      padding: 0 0 0 0;\n",
              "      width: 32px;\n",
              "    }\n",
              "\n",
              "    .colab-df-convert:hover {\n",
              "      background-color: #E2EBFA;\n",
              "      box-shadow: 0px 1px 2px rgba(60, 64, 67, 0.3), 0px 1px 3px 1px rgba(60, 64, 67, 0.15);\n",
              "      fill: #174EA6;\n",
              "    }\n",
              "\n",
              "    [theme=dark] .colab-df-convert {\n",
              "      background-color: #3B4455;\n",
              "      fill: #D2E3FC;\n",
              "    }\n",
              "\n",
              "    [theme=dark] .colab-df-convert:hover {\n",
              "      background-color: #434B5C;\n",
              "      box-shadow: 0px 1px 3px 1px rgba(0, 0, 0, 0.15);\n",
              "      filter: drop-shadow(0px 1px 2px rgba(0, 0, 0, 0.3));\n",
              "      fill: #FFFFFF;\n",
              "    }\n",
              "  </style>\n",
              "\n",
              "      <script>\n",
              "        const buttonEl =\n",
              "          document.querySelector('#df-96ca1457-e4ee-4f97-9156-dcd0049670f6 button.colab-df-convert');\n",
              "        buttonEl.style.display =\n",
              "          google.colab.kernel.accessAllowed ? 'block' : 'none';\n",
              "\n",
              "        async function convertToInteractive(key) {\n",
              "          const element = document.querySelector('#df-96ca1457-e4ee-4f97-9156-dcd0049670f6');\n",
              "          const dataTable =\n",
              "            await google.colab.kernel.invokeFunction('convertToInteractive',\n",
              "                                                     [key], {});\n",
              "          if (!dataTable) return;\n",
              "\n",
              "          const docLinkHtml = 'Like what you see? Visit the ' +\n",
              "            '<a target=\"_blank\" href=https://colab.research.google.com/notebooks/data_table.ipynb>data table notebook</a>'\n",
              "            + ' to learn more about interactive tables.';\n",
              "          element.innerHTML = '';\n",
              "          dataTable['output_type'] = 'display_data';\n",
              "          await google.colab.output.renderOutput(dataTable, element);\n",
              "          const docLink = document.createElement('div');\n",
              "          docLink.innerHTML = docLinkHtml;\n",
              "          element.appendChild(docLink);\n",
              "        }\n",
              "      </script>\n",
              "    </div>\n",
              "  </div>\n",
              "  "
            ]
          },
          "metadata": {},
          "execution_count": 29
        }
      ],
      "source": [
        "casecostprediction"
      ]
    },
    {
      "cell_type": "markdown",
      "id": "e30bc95a",
      "metadata": {
        "id": "e30bc95a"
      },
      "source": [
        "- berdasarkan output dapat kita perhatikan tglpelayanan diubah menjadi angka"
      ]
    },
    {
      "cell_type": "code",
      "execution_count": 30,
      "id": "822c9230",
      "metadata": {
        "colab": {
          "base_uri": "https://localhost:8080/",
          "height": 0
        },
        "id": "822c9230",
        "outputId": "453ea699-b72f-47c2-8b60-76cd705c085b"
      },
      "outputs": [
        {
          "output_type": "execute_result",
          "data": {
            "text/plain": [
              "<matplotlib.axes._subplots.AxesSubplot at 0x7f94489aaee0>"
            ]
          },
          "metadata": {},
          "execution_count": 30
        },
        {
          "output_type": "display_data",
          "data": {
            "text/plain": [
              "<Figure size 720x720 with 2 Axes>"
            ],
            "image/png": "[encoded data removed]"
          },
          "metadata": {
            "needs_background": "light"
          }
        }
      ],
      "source": [
        "plt.figure(figsize=(10,10))\n",
        "sns.heatmap(casecostprediction.corr(), annot=True, linewidth = 1.5, cmap='coolwarm')"
      ]
    },
    {
      "cell_type": "markdown",
      "id": "0425bcae",
      "metadata": {
        "id": "0425bcae"
      },
      "source": [
        "# Menentukan Label Data"
      ]
    },
    {
      "cell_type": "markdown",
      "id": "0e371f85",
      "metadata": {
        "id": "0e371f85"
      },
      "source": [
        "Proses melabeli data merupakan bagian integral dari alur kerja persiapan data dalam membangun model. Dalam case data BPJS Hackathon kedua kategori harus dibagi menjadi data training dan data validation berbeda, untuk Regression problem:\n",
        "\n",
        "- Kasus kunjungan(Case): MAE < 900, MAPE<90%\n",
        "- Biaya(Unit_cost): MAE<97000, MAPE<70%"
      ]
    },
    {
      "cell_type": "code",
      "execution_count": 31,
      "id": "418ab48a",
      "metadata": {
        "id": "418ab48a"
      },
      "outputs": [],
      "source": [
        "import pandas as pd\n",
        "import numpy as np\n",
        "import matplotlib.pyplot as plt\n",
        "import seaborn as sns\n",
        "%matplotlib inline"
      ]
    },
    {
      "cell_type": "code",
      "execution_count": 32,
      "id": "b96245df",
      "metadata": {
        "colab": {
          "base_uri": "https://localhost:8080/"
        },
        "id": "b96245df",
        "outputId": "e8812853-0a7b-46c2-dfde-27c38144672d"
      },
      "outputs": [
        {
          "output_type": "execute_result",
          "data": {
            "text/plain": [
              "<bound method DataFrame.corr of        tglpelayanan  kddati2  tkp  peserta   case     unit_cost\n",
              "0                 3      332   40   179530    266  3.597440e+06\n",
              "1                34       54   40   104782   2453  4.951008e+06\n",
              "2                28      323   30   280645   1690  1.984208e+05\n",
              "3                58      318   40   178685   1321  4.008756e+06\n",
              "4                69      150   30  1199321  73056  3.072272e+05\n",
              "...             ...      ...  ...      ...    ...           ...\n",
              "57966            62      241   40   157213    410  3.443332e+06\n",
              "57967            68      338   30   402173   8272  2.128621e+05\n",
              "57968            29      241   40    99401    294  3.028611e+06\n",
              "57969            48      147   40   509495   1983  3.629365e+06\n",
              "57970            32      204   30   770169  16679  2.956852e+05\n",
              "\n",
              "[57971 rows x 6 columns]>"
            ]
          },
          "metadata": {},
          "execution_count": 32
        }
      ],
      "source": [
        "casecostprediction.corr"
      ]
    },
    {
      "cell_type": "code",
      "execution_count": 33,
      "id": "190b2276",
      "metadata": {
        "id": "190b2276"
      },
      "outputs": [],
      "source": [
        "# melabeli data training dan data evaluation\n",
        "\n",
        "X = casecostprediction[['tglpelayanan', 'kddati2', 'tkp', 'unit_cost']]\n",
        "y = casecostprediction[['peserta', 'case']]\n"
      ]
    },
    {
      "cell_type": "markdown",
      "id": "d66aa6f3",
      "metadata": {
        "id": "d66aa6f3"
      },
      "source": [
        "# Mengintegrasikan Data"
      ]
    },
    {
      "cell_type": "code",
      "execution_count": 34,
      "id": "dd072bc9",
      "metadata": {
        "colab": {
          "base_uri": "https://localhost:8080/"
        },
        "id": "dd072bc9",
        "outputId": "4102e171-c543-40e6-913c-6cfb418d6d25"
      },
      "outputs": [
        {
          "output_type": "stream",
          "name": "stdout",
          "text": [
            "       tglpelayanan  kddati2  tkp  peserta   case     unit_cost\n",
            "0                 3      332   40   179530    266  3.597440e+06\n",
            "1                34       54   40   104782   2453  4.951008e+06\n",
            "2                28      323   30   280645   1690  1.984208e+05\n",
            "3                58      318   40   178685   1321  4.008756e+06\n",
            "4                69      150   30  1199321  73056  3.072272e+05\n",
            "...             ...      ...  ...      ...    ...           ...\n",
            "57966            62      241   40   157213    410  3.443332e+06\n",
            "57967            68      338   30   402173   8272  2.128621e+05\n",
            "57968            29      241   40    99401    294  3.028611e+06\n",
            "57969            48      147   40   509495   1983  3.629365e+06\n",
            "57970            32      204   30   770169  16679  2.956852e+05\n",
            "\n",
            "[57971 rows x 6 columns]\n"
          ]
        }
      ],
      "source": [
        "print(casecostprediction)"
      ]
    },
    {
      "cell_type": "code",
      "execution_count": 35,
      "id": "6b897eb0",
      "metadata": {
        "id": "6b897eb0"
      },
      "outputs": [],
      "source": [
        "row_concat = pd.concat([casecostprediction])"
      ]
    },
    {
      "cell_type": "code",
      "execution_count": 36,
      "id": "2971adf5",
      "metadata": {
        "colab": {
          "base_uri": "https://localhost:8080/"
        },
        "id": "2971adf5",
        "outputId": "0a42d3e8-dd67-4df1-b4a1-3b231e2e38de"
      },
      "outputs": [
        {
          "output_type": "stream",
          "name": "stdout",
          "text": [
            "tglpelayanan    5.800000e+01\n",
            "kddati2         3.180000e+02\n",
            "tkp             4.000000e+01\n",
            "peserta         1.786850e+05\n",
            "case            1.321000e+03\n",
            "unit_cost       4.008756e+06\n",
            "Name: 3, dtype: float64\n"
          ]
        }
      ],
      "source": [
        "print(row_concat.iloc[3,])"
      ]
    },
    {
      "cell_type": "code",
      "execution_count": 37,
      "id": "da67da56",
      "metadata": {
        "colab": {
          "base_uri": "https://localhost:8080/"
        },
        "id": "da67da56",
        "outputId": "44d14396-f26e-43a7-8cfe-27bd0dccac39"
      },
      "outputs": [
        {
          "output_type": "stream",
          "name": "stdout",
          "text": [
            "0    n1\n",
            "1    n2\n",
            "2    n3\n",
            "3    n4\n",
            "dtype: object\n"
          ]
        }
      ],
      "source": [
        "new_row_series = pd.Series(['n1', 'n2', 'n3', 'n4'])\n",
        "print(new_row_series)"
      ]
    },
    {
      "cell_type": "code",
      "execution_count": 38,
      "id": "9d3363d9",
      "metadata": {
        "colab": {
          "base_uri": "https://localhost:8080/"
        },
        "id": "9d3363d9",
        "outputId": "bbc73714-bbd6-42bc-e7bd-43816f049976"
      },
      "outputs": [
        {
          "output_type": "stream",
          "name": "stdout",
          "text": [
            "         0     case  kddati2    peserta  tglpelayanan   tkp     unit_cost\n",
            "0      NaN    266.0    332.0   179530.0           3.0  40.0  3.597440e+06\n",
            "1      NaN   2453.0     54.0   104782.0          34.0  40.0  4.951008e+06\n",
            "2      NaN   1690.0    323.0   280645.0          28.0  30.0  1.984208e+05\n",
            "3      NaN   1321.0    318.0   178685.0          58.0  40.0  4.008756e+06\n",
            "4      NaN  73056.0    150.0  1199321.0          69.0  30.0  3.072272e+05\n",
            "...    ...      ...      ...        ...           ...   ...           ...\n",
            "57970  NaN  16679.0    204.0   770169.0          32.0  30.0  2.956852e+05\n",
            "0       n1      NaN      NaN        NaN           NaN   NaN           NaN\n",
            "1       n2      NaN      NaN        NaN           NaN   NaN           NaN\n",
            "2       n3      NaN      NaN        NaN           NaN   NaN           NaN\n",
            "3       n4      NaN      NaN        NaN           NaN   NaN           NaN\n",
            "\n",
            "[57975 rows x 7 columns]\n"
          ]
        }
      ],
      "source": [
        "# attempt to add the new row to a dataframe\n",
        "print(pd.concat([casecostprediction, new_row_series]))"
      ]
    },
    {
      "cell_type": "code",
      "execution_count": 39,
      "id": "01bfebca",
      "metadata": {
        "colab": {
          "base_uri": "https://localhost:8080/"
        },
        "id": "01bfebca",
        "outputId": "e21ff780-9580-4de5-8ec8-1fb8363612b8"
      },
      "outputs": [
        {
          "output_type": "stream",
          "name": "stdout",
          "text": [
            "    A   B   C   D\n",
            "0  n1  n2  n3  n4\n"
          ]
        }
      ],
      "source": [
        "# note the double brackets\n",
        "new_row_df = pd.DataFrame([['n1', 'n2', 'n3', 'n4']], columns=['A', 'B', 'C', 'D'])\n",
        "print(new_row_df)"
      ]
    },
    {
      "cell_type": "code",
      "execution_count": 40,
      "id": "bc744e5a",
      "metadata": {
        "colab": {
          "base_uri": "https://localhost:8080/"
        },
        "id": "bc744e5a",
        "outputId": "1b3073ce-fd6f-44ba-bd97-3c8ea1361354"
      },
      "outputs": [
        {
          "output_type": "stream",
          "name": "stdout",
          "text": [
            "       tglpelayanan  kddati2   tkp    peserta     case     unit_cost    A  \\\n",
            "0               3.0    332.0  40.0   179530.0    266.0  3.597440e+06  NaN   \n",
            "1              34.0     54.0  40.0   104782.0   2453.0  4.951008e+06  NaN   \n",
            "2              28.0    323.0  30.0   280645.0   1690.0  1.984208e+05  NaN   \n",
            "3              58.0    318.0  40.0   178685.0   1321.0  4.008756e+06  NaN   \n",
            "4              69.0    150.0  30.0  1199321.0  73056.0  3.072272e+05  NaN   \n",
            "...             ...      ...   ...        ...      ...           ...  ...   \n",
            "57967          68.0    338.0  30.0   402173.0   8272.0  2.128621e+05  NaN   \n",
            "57968          29.0    241.0  40.0    99401.0    294.0  3.028611e+06  NaN   \n",
            "57969          48.0    147.0  40.0   509495.0   1983.0  3.629365e+06  NaN   \n",
            "57970          32.0    204.0  30.0   770169.0  16679.0  2.956852e+05  NaN   \n",
            "0               NaN      NaN   NaN        NaN      NaN           NaN   n1   \n",
            "\n",
            "         B    C    D  \n",
            "0      NaN  NaN  NaN  \n",
            "1      NaN  NaN  NaN  \n",
            "2      NaN  NaN  NaN  \n",
            "3      NaN  NaN  NaN  \n",
            "4      NaN  NaN  NaN  \n",
            "...    ...  ...  ...  \n",
            "57967  NaN  NaN  NaN  \n",
            "57968  NaN  NaN  NaN  \n",
            "57969  NaN  NaN  NaN  \n",
            "57970  NaN  NaN  NaN  \n",
            "0       n2   n3   n4  \n",
            "\n",
            "[57972 rows x 10 columns]\n"
          ]
        }
      ],
      "source": [
        "print(pd.concat([casecostprediction, new_row_df]))"
      ]
    },
    {
      "cell_type": "code",
      "execution_count": 41,
      "id": "874d61fd",
      "metadata": {
        "colab": {
          "base_uri": "https://localhost:8080/"
        },
        "id": "874d61fd",
        "outputId": "96353747-686c-45d9-bef9-a0022d621ecd"
      },
      "outputs": [
        {
          "output_type": "stream",
          "name": "stdout",
          "text": [
            "       tglpelayanan  kddati2   tkp    peserta     case     unit_cost    A  \\\n",
            "0               3.0    332.0  40.0   179530.0    266.0  3.597440e+06  NaN   \n",
            "1              34.0     54.0  40.0   104782.0   2453.0  4.951008e+06  NaN   \n",
            "2              28.0    323.0  30.0   280645.0   1690.0  1.984208e+05  NaN   \n",
            "3              58.0    318.0  40.0   178685.0   1321.0  4.008756e+06  NaN   \n",
            "4              69.0    150.0  30.0  1199321.0  73056.0  3.072272e+05  NaN   \n",
            "...             ...      ...   ...        ...      ...           ...  ...   \n",
            "57967          68.0    338.0  30.0   402173.0   8272.0  2.128621e+05  NaN   \n",
            "57968          29.0    241.0  40.0    99401.0    294.0  3.028611e+06  NaN   \n",
            "57969          48.0    147.0  40.0   509495.0   1983.0  3.629365e+06  NaN   \n",
            "57970          32.0    204.0  30.0   770169.0  16679.0  2.956852e+05  NaN   \n",
            "57971           NaN      NaN   NaN        NaN      NaN           NaN   n1   \n",
            "\n",
            "         B    C    D  \n",
            "0      NaN  NaN  NaN  \n",
            "1      NaN  NaN  NaN  \n",
            "2      NaN  NaN  NaN  \n",
            "3      NaN  NaN  NaN  \n",
            "4      NaN  NaN  NaN  \n",
            "...    ...  ...  ...  \n",
            "57967  NaN  NaN  NaN  \n",
            "57968  NaN  NaN  NaN  \n",
            "57969  NaN  NaN  NaN  \n",
            "57970  NaN  NaN  NaN  \n",
            "57971   n2   n3   n4  \n",
            "\n",
            "[57972 rows x 10 columns]\n"
          ]
        }
      ],
      "source": [
        "data_dict = {'A': 'n1',\n",
        "             'B': 'n2',\n",
        "             'C': 'n3',\n",
        "             'D': 'n4'}\n",
        "\n",
        "print(casecostprediction.append(data_dict, ignore_index=True))"
      ]
    },
    {
      "cell_type": "code",
      "execution_count": 42,
      "id": "693b87a4",
      "metadata": {
        "colab": {
          "base_uri": "https://localhost:8080/"
        },
        "id": "693b87a4",
        "outputId": "dc4361fc-0343-4f0b-ae19-dc03e195ccb9"
      },
      "outputs": [
        {
          "output_type": "stream",
          "name": "stdout",
          "text": [
            "       tglpelayanan  kddati2  tkp  peserta   case     unit_cost\n",
            "0                 3      332   40   179530    266  3.597440e+06\n",
            "1                34       54   40   104782   2453  4.951008e+06\n",
            "2                28      323   30   280645   1690  1.984208e+05\n",
            "3                58      318   40   178685   1321  4.008756e+06\n",
            "4                69      150   30  1199321  73056  3.072272e+05\n",
            "...             ...      ...  ...      ...    ...           ...\n",
            "57966            62      241   40   157213    410  3.443332e+06\n",
            "57967            68      338   30   402173   8272  2.128621e+05\n",
            "57968            29      241   40    99401    294  3.028611e+06\n",
            "57969            48      147   40   509495   1983  3.629365e+06\n",
            "57970            32      204   30   770169  16679  2.956852e+05\n",
            "\n",
            "[57971 rows x 6 columns]\n"
          ]
        }
      ],
      "source": [
        "row_concat_i = pd.concat([casecostprediction], ignore_index=True)\n",
        "print(row_concat_i)"
      ]
    },
    {
      "cell_type": "markdown",
      "id": "5882a7d4",
      "metadata": {
        "id": "5882a7d4"
      },
      "source": [
        "- Adding Columns"
      ]
    },
    {
      "cell_type": "code",
      "execution_count": 43,
      "id": "8ac3aa62",
      "metadata": {
        "colab": {
          "base_uri": "https://localhost:8080/"
        },
        "id": "8ac3aa62",
        "outputId": "7e09d65a-841a-43b6-f71d-bf83e7da8905"
      },
      "outputs": [
        {
          "output_type": "stream",
          "name": "stdout",
          "text": [
            "       tglpelayanan  kddati2  tkp  peserta   case     unit_cost\n",
            "0                 3      332   40   179530    266  3.597440e+06\n",
            "1                34       54   40   104782   2453  4.951008e+06\n",
            "2                28      323   30   280645   1690  1.984208e+05\n",
            "3                58      318   40   178685   1321  4.008756e+06\n",
            "4                69      150   30  1199321  73056  3.072272e+05\n",
            "...             ...      ...  ...      ...    ...           ...\n",
            "57966            62      241   40   157213    410  3.443332e+06\n",
            "57967            68      338   30   402173   8272  2.128621e+05\n",
            "57968            29      241   40    99401    294  3.028611e+06\n",
            "57969            48      147   40   509495   1983  3.629365e+06\n",
            "57970            32      204   30   770169  16679  2.956852e+05\n",
            "\n",
            "[57971 rows x 6 columns]\n"
          ]
        }
      ],
      "source": [
        "col_concat = pd.concat([casecostprediction], axis=1)\n",
        "print(col_concat)"
      ]
    },
    {
      "cell_type": "code",
      "execution_count": 44,
      "id": "d7dbe2d0",
      "metadata": {
        "colab": {
          "base_uri": "https://localhost:8080/"
        },
        "id": "d7dbe2d0",
        "outputId": "6614afec-76e6-48a0-cee2-a736afac52dd"
      },
      "outputs": [
        {
          "output_type": "stream",
          "name": "stdout",
          "text": [
            "        0    1   2        3      4             5\n",
            "0       3  332  40   179530    266  3.597440e+06\n",
            "1      34   54  40   104782   2453  4.951008e+06\n",
            "2      28  323  30   280645   1690  1.984208e+05\n",
            "3      58  318  40   178685   1321  4.008756e+06\n",
            "4      69  150  30  1199321  73056  3.072272e+05\n",
            "...    ..  ...  ..      ...    ...           ...\n",
            "57966  62  241  40   157213    410  3.443332e+06\n",
            "57967  68  338  30   402173   8272  2.128621e+05\n",
            "57968  29  241  40    99401    294  3.028611e+06\n",
            "57969  48  147  40   509495   1983  3.629365e+06\n",
            "57970  32  204  30   770169  16679  2.956852e+05\n",
            "\n",
            "[57971 rows x 6 columns]\n"
          ]
        }
      ],
      "source": [
        "print(pd.concat([casecostprediction], axis=1, ignore_index=True))"
      ]
    },
    {
      "cell_type": "markdown",
      "id": "4155e1c5",
      "metadata": {
        "id": "4155e1c5"
      },
      "source": [
        "- Adding Rows"
      ]
    },
    {
      "cell_type": "code",
      "execution_count": 45,
      "id": "4734d122",
      "metadata": {
        "colab": {
          "base_uri": "https://localhost:8080/"
        },
        "id": "4734d122",
        "outputId": "c3ee37a4-828a-4052-de5a-80ed2497341f"
      },
      "outputs": [
        {
          "output_type": "stream",
          "name": "stdout",
          "text": [
            "       tglpelayanan  kddati2  tkp  peserta   case     unit_cost\n",
            "0                 3      332   40   179530    266  3.597440e+06\n",
            "1                34       54   40   104782   2453  4.951008e+06\n",
            "2                28      323   30   280645   1690  1.984208e+05\n",
            "3                58      318   40   178685   1321  4.008756e+06\n",
            "4                69      150   30  1199321  73056  3.072272e+05\n",
            "...             ...      ...  ...      ...    ...           ...\n",
            "57966            62      241   40   157213    410  3.443332e+06\n",
            "57967            68      338   30   402173   8272  2.128621e+05\n",
            "57968            29      241   40    99401    294  3.028611e+06\n",
            "57969            48      147   40   509495   1983  3.629365e+06\n",
            "57970            32      204   30   770169  16679  2.956852e+05\n",
            "\n",
            "[57971 rows x 6 columns]\n"
          ]
        }
      ],
      "source": [
        "row_concat = pd.concat([casecostprediction], sort=False)\n",
        "print(row_concat)"
      ]
    },
    {
      "cell_type": "code",
      "execution_count": 46,
      "id": "84e9bad3",
      "metadata": {
        "colab": {
          "base_uri": "https://localhost:8080/"
        },
        "id": "84e9bad3",
        "outputId": "26fb9799-35f8-488d-befe-0787dc689ce6"
      },
      "outputs": [
        {
          "output_type": "stream",
          "name": "stdout",
          "text": [
            "       tglpelayanan  kddati2  tkp  peserta   case     unit_cost\n",
            "0                 3      332   40   179530    266  3.597440e+06\n",
            "1                34       54   40   104782   2453  4.951008e+06\n",
            "2                28      323   30   280645   1690  1.984208e+05\n",
            "3                58      318   40   178685   1321  4.008756e+06\n",
            "4                69      150   30  1199321  73056  3.072272e+05\n",
            "...             ...      ...  ...      ...    ...           ...\n",
            "57966            62      241   40   157213    410  3.443332e+06\n",
            "57967            68      338   30   402173   8272  2.128621e+05\n",
            "57968            29      241   40    99401    294  3.028611e+06\n",
            "57969            48      147   40   509495   1983  3.629365e+06\n",
            "57970            32      204   30   770169  16679  2.956852e+05\n",
            "\n",
            "[57971 rows x 6 columns]\n"
          ]
        }
      ],
      "source": [
        "print(pd.concat([casecostprediction], join='inner'))"
      ]
    },
    {
      "cell_type": "code",
      "execution_count": 47,
      "id": "102c1785",
      "metadata": {
        "colab": {
          "base_uri": "https://localhost:8080/"
        },
        "id": "102c1785",
        "outputId": "b9ed2260-9364-4cc7-8c7d-c67cfd38cdab"
      },
      "outputs": [
        {
          "output_type": "stream",
          "name": "stdout",
          "text": [
            "       tglpelayanan  kddati2  tkp  peserta   case     unit_cost\n",
            "0                 3      332   40   179530    266  3.597440e+06\n",
            "1                34       54   40   104782   2453  4.951008e+06\n",
            "2                28      323   30   280645   1690  1.984208e+05\n",
            "3                58      318   40   178685   1321  4.008756e+06\n",
            "4                69      150   30  1199321  73056  3.072272e+05\n",
            "...             ...      ...  ...      ...    ...           ...\n",
            "57966            62      241   40   157213    410  3.443332e+06\n",
            "57967            68      338   30   402173   8272  2.128621e+05\n",
            "57968            29      241   40    99401    294  3.028611e+06\n",
            "57969            48      147   40   509495   1983  3.629365e+06\n",
            "57970            32      204   30   770169  16679  2.956852e+05\n",
            "\n",
            "[57971 rows x 6 columns]\n"
          ]
        }
      ],
      "source": [
        "print(pd.concat([casecostprediction], ignore_index=False, join='inner'))"
      ]
    },
    {
      "cell_type": "markdown",
      "id": "69123025",
      "metadata": {
        "id": "69123025"
      },
      "source": [
        "# MODELING"
      ]
    },
    {
      "cell_type": "markdown",
      "id": "1e75c7bb",
      "metadata": {
        "id": "1e75c7bb"
      },
      "source": [
        "- skenario evaluasi dan modeling "
      ]
    },
    {
      "cell_type": "code",
      "execution_count": 48,
      "id": "6296dc04",
      "metadata": {
        "colab": {
          "base_uri": "https://localhost:8080/",
          "height": 300
        },
        "id": "6296dc04",
        "outputId": "d907c257-4cc8-49e3-ddf8-a1f8172b751a"
      },
      "outputs": [
        {
          "output_type": "execute_result",
          "data": {
            "text/plain": [
              "       tglpelayanan       kddati2           tkp       peserta           case  \\\n",
              "count  57971.000000  57971.000000  57971.000000  5.797100e+04   57971.000000   \n",
              "mean      44.872039    246.423125     34.990081  3.562209e+05    6539.418451   \n",
              "std       25.150138    143.447935      5.000033  4.120323e+05   17607.280021   \n",
              "min        0.000000      1.000000     30.000000  8.000000e+00       1.000000   \n",
              "25%       23.000000    125.000000     30.000000  1.127735e+05     424.000000   \n",
              "50%       45.000000    243.000000     30.000000  1.975800e+05    1359.000000   \n",
              "75%       67.000000    362.000000     40.000000  4.386935e+05    4583.000000   \n",
              "max       89.000000    528.000000     40.000000  3.328509e+06  333441.000000   \n",
              "\n",
              "          unit_cost  \n",
              "count  5.797100e+04  \n",
              "mean   1.961092e+06  \n",
              "std    1.889367e+06  \n",
              "min    1.000000e+05  \n",
              "25%    2.336742e+05  \n",
              "50%    6.547994e+05  \n",
              "75%    3.531702e+06  \n",
              "max    2.690550e+07  "
            ],
            "text/html": [
              "\n",
              "  <div id=\"df-f7af56a2-d10c-4b2b-90f9-521bea3b774c\">\n",
              "    <div class=\"colab-df-container\">\n",
              "      <div>\n",
              "<style scoped>\n",
              "    .dataframe tbody tr th:only-of-type {\n",
              "        vertical-align: middle;\n",
              "    }\n",
              "\n",
              "    .dataframe tbody tr th {\n",
              "        vertical-align: top;\n",
              "    }\n",
              "\n",
              "    .dataframe thead th {\n",
              "        text-align: right;\n",
              "    }\n",
              "</style>\n",
              "<table border=\"1\" class=\"dataframe\">\n",
              "  <thead>\n",
              "    <tr style=\"text-align: right;\">\n",
              "      <th></th>\n",
              "      <th>tglpelayanan</th>\n",
              "      <th>kddati2</th>\n",
              "      <th>tkp</th>\n",
              "      <th>peserta</th>\n",
              "      <th>case</th>\n",
              "      <th>unit_cost</th>\n",
              "    </tr>\n",
              "  </thead>\n",
              "  <tbody>\n",
              "    <tr>\n",
              "      <th>count</th>\n",
              "      <td>57971.000000</td>\n",
              "      <td>57971.000000</td>\n",
              "      <td>57971.000000</td>\n",
              "      <td>5.797100e+04</td>\n",
              "      <td>57971.000000</td>\n",
              "      <td>5.797100e+04</td>\n",
              "    </tr>\n",
              "    <tr>\n",
              "      <th>mean</th>\n",
              "      <td>44.872039</td>\n",
              "      <td>246.423125</td>\n",
              "      <td>34.990081</td>\n",
              "      <td>3.562209e+05</td>\n",
              "      <td>6539.418451</td>\n",
              "      <td>1.961092e+06</td>\n",
              "    </tr>\n",
              "    <tr>\n",
              "      <th>std</th>\n",
              "      <td>25.150138</td>\n",
              "      <td>143.447935</td>\n",
              "      <td>5.000033</td>\n",
              "      <td>4.120323e+05</td>\n",
              "      <td>17607.280021</td>\n",
              "      <td>1.889367e+06</td>\n",
              "    </tr>\n",
              "    <tr>\n",
              "      <th>min</th>\n",
              "      <td>0.000000</td>\n",
              "      <td>1.000000</td>\n",
              "      <td>30.000000</td>\n",
              "      <td>8.000000e+00</td>\n",
              "      <td>1.000000</td>\n",
              "      <td>1.000000e+05</td>\n",
              "    </tr>\n",
              "    <tr>\n",
              "      <th>25%</th>\n",
              "      <td>23.000000</td>\n",
              "      <td>125.000000</td>\n",
              "      <td>30.000000</td>\n",
              "      <td>1.127735e+05</td>\n",
              "      <td>424.000000</td>\n",
              "      <td>2.336742e+05</td>\n",
              "    </tr>\n",
              "    <tr>\n",
              "      <th>50%</th>\n",
              "      <td>45.000000</td>\n",
              "      <td>243.000000</td>\n",
              "      <td>30.000000</td>\n",
              "      <td>1.975800e+05</td>\n",
              "      <td>1359.000000</td>\n",
              "      <td>6.547994e+05</td>\n",
              "    </tr>\n",
              "    <tr>\n",
              "      <th>75%</th>\n",
              "      <td>67.000000</td>\n",
              "      <td>362.000000</td>\n",
              "      <td>40.000000</td>\n",
              "      <td>4.386935e+05</td>\n",
              "      <td>4583.000000</td>\n",
              "      <td>3.531702e+06</td>\n",
              "    </tr>\n",
              "    <tr>\n",
              "      <th>max</th>\n",
              "      <td>89.000000</td>\n",
              "      <td>528.000000</td>\n",
              "      <td>40.000000</td>\n",
              "      <td>3.328509e+06</td>\n",
              "      <td>333441.000000</td>\n",
              "      <td>2.690550e+07</td>\n",
              "    </tr>\n",
              "  </tbody>\n",
              "</table>\n",
              "</div>\n",
              "      <button class=\"colab-df-convert\" onclick=\"convertToInteractive('df-f7af56a2-d10c-4b2b-90f9-521bea3b774c')\"\n",
              "              title=\"Convert this dataframe to an interactive table.\"\n",
              "              style=\"display:none;\">\n",
              "        \n",
              "  <svg xmlns=\"http://www.w3.org/2000/svg\" height=\"24px\"viewBox=\"0 0 24 24\"\n",
              "       width=\"24px\">\n",
              "    <path d=\"M0 0h24v24H0V0z\" fill=\"none\"/>\n",
              "    <path d=\"M18.56 5.44l.94 2.06.94-2.06 2.06-.94-2.06-.94-.94-2.06-.94 2.06-2.06.94zm-11 1L8.5 8.5l.94-2.06 2.06-.94-2.06-.94L8.5 2.5l-.94 2.06-2.06.94zm10 10l.94 2.06.94-2.06 2.06-.94-2.06-.94-.94-2.06-.94 2.06-2.06.94z\"/><path d=\"M17.41 7.96l-1.37-1.37c-.4-.4-.92-.59-1.43-.59-.52 0-1.04.2-1.43.59L10.3 9.45l-7.72 7.72c-.78.78-.78 2.05 0 2.83L4 21.41c.39.39.9.59 1.41.59.51 0 1.02-.2 1.41-.59l7.78-7.78 2.81-2.81c.8-.78.8-2.07 0-2.86zM5.41 20L4 18.59l7.72-7.72 1.47 1.35L5.41 20z\"/>\n",
              "  </svg>\n",
              "      </button>\n",
              "      \n",
              "  <style>\n",
              "    .colab-df-container {\n",
              "      display:flex;\n",
              "      flex-wrap:wrap;\n",
              "      gap: 12px;\n",
              "    }\n",
              "\n",
              "    .colab-df-convert {\n",
              "      background-color: #E8F0FE;\n",
              "      border: none;\n",
              "      border-radius: 50%;\n",
              "      cursor: pointer;\n",
              "      display: none;\n",
              "      fill: #1967D2;\n",
              "      height: 32px;\n",
              "      padding: 0 0 0 0;\n",
              "      width: 32px;\n",
              "    }\n",
              "\n",
              "    .colab-df-convert:hover {\n",
              "      background-color: #E2EBFA;\n",
              "      box-shadow: 0px 1px 2px rgba(60, 64, 67, 0.3), 0px 1px 3px 1px rgba(60, 64, 67, 0.15);\n",
              "      fill: #174EA6;\n",
              "    }\n",
              "\n",
              "    [theme=dark] .colab-df-convert {\n",
              "      background-color: #3B4455;\n",
              "      fill: #D2E3FC;\n",
              "    }\n",
              "\n",
              "    [theme=dark] .colab-df-convert:hover {\n",
              "      background-color: #434B5C;\n",
              "      box-shadow: 0px 1px 3px 1px rgba(0, 0, 0, 0.15);\n",
              "      filter: drop-shadow(0px 1px 2px rgba(0, 0, 0, 0.3));\n",
              "      fill: #FFFFFF;\n",
              "    }\n",
              "  </style>\n",
              "\n",
              "      <script>\n",
              "        const buttonEl =\n",
              "          document.querySelector('#df-f7af56a2-d10c-4b2b-90f9-521bea3b774c button.colab-df-convert');\n",
              "        buttonEl.style.display =\n",
              "          google.colab.kernel.accessAllowed ? 'block' : 'none';\n",
              "\n",
              "        async function convertToInteractive(key) {\n",
              "          const element = document.querySelector('#df-f7af56a2-d10c-4b2b-90f9-521bea3b774c');\n",
              "          const dataTable =\n",
              "            await google.colab.kernel.invokeFunction('convertToInteractive',\n",
              "                                                     [key], {});\n",
              "          if (!dataTable) return;\n",
              "\n",
              "          const docLinkHtml = 'Like what you see? Visit the ' +\n",
              "            '<a target=\"_blank\" href=https://colab.research.google.com/notebooks/data_table.ipynb>data table notebook</a>'\n",
              "            + ' to learn more about interactive tables.';\n",
              "          element.innerHTML = '';\n",
              "          dataTable['output_type'] = 'display_data';\n",
              "          await google.colab.output.renderOutput(dataTable, element);\n",
              "          const docLink = document.createElement('div');\n",
              "          docLink.innerHTML = docLinkHtml;\n",
              "          element.appendChild(docLink);\n",
              "        }\n",
              "      </script>\n",
              "    </div>\n",
              "  </div>\n",
              "  "
            ]
          },
          "metadata": {},
          "execution_count": 48
        }
      ],
      "source": [
        "casecostprediction.describe()"
      ]
    },
    {
      "cell_type": "code",
      "execution_count": 49,
      "id": "3e2b8613",
      "metadata": {
        "colab": {
          "base_uri": "https://localhost:8080/"
        },
        "id": "3e2b8613",
        "outputId": "8f9a4bc3-76d6-4966-820d-af26b406352d"
      },
      "outputs": [
        {
          "output_type": "stream",
          "name": "stdout",
          "text": [
            "tglpelayanan    0\n",
            "kddati2         0\n",
            "tkp             0\n",
            "peserta         0\n",
            "case            0\n",
            "unit_cost       0\n",
            "dtype: int64\n"
          ]
        }
      ],
      "source": [
        "print(casecostprediction.isna().sum())"
      ]
    },
    {
      "cell_type": "code",
      "execution_count": 50,
      "id": "abc4ac73",
      "metadata": {
        "id": "abc4ac73"
      },
      "outputs": [],
      "source": [
        "#empty model\n",
        "from keras.models import Sequential\n",
        "classifier = Sequential()"
      ]
    },
    {
      "cell_type": "code",
      "execution_count": 51,
      "id": "6051f550",
      "metadata": {
        "id": "6051f550"
      },
      "outputs": [],
      "source": [
        "from sklearn.model_selection import train_test_split"
      ]
    },
    {
      "cell_type": "code",
      "execution_count": 52,
      "id": "2710f8f0",
      "metadata": {
        "id": "2710f8f0"
      },
      "outputs": [],
      "source": [
        "X = casecostprediction[['peserta', 'kddati2', 'tkp']]\n",
        "y = casecostprediction[['case', 'unit_cost']]"
      ]
    },
    {
      "cell_type": "code",
      "execution_count": 53,
      "id": "641d15c6",
      "metadata": {
        "id": "641d15c6"
      },
      "outputs": [],
      "source": [
        "X = casecostprediction.iloc[:, 0].values\n",
        "Y = casecostprediction.iloc[:, 3].values\n",
        "X = X.reshape(-1,1)\n",
        "Y = Y.reshape(-1,1)"
      ]
    },
    {
      "cell_type": "code",
      "execution_count": 54,
      "id": "9af1bf97",
      "metadata": {
        "id": "9af1bf97"
      },
      "outputs": [],
      "source": [
        "from sklearn.model_selection import train_test_split\n",
        "X_train, X_test, y_train, y_test = train_test_split(X,y, test_size = 0.2, random_state = 0)"
      ]
    },
    {
      "cell_type": "code",
      "execution_count": 55,
      "id": "03dd9fb3",
      "metadata": {
        "id": "03dd9fb3"
      },
      "outputs": [],
      "source": [
        "# Feature Scaling\n",
        "from sklearn.preprocessing import StandardScaler\n",
        "sc_X = StandardScaler()\n",
        "sc_y = StandardScaler()\n",
        "X = sc_X.fit_transform(X)\n",
        "y = sc_y.fit_transform(y)"
      ]
    },
    {
      "cell_type": "code",
      "execution_count": 56,
      "id": "e249e095",
      "metadata": {
        "colab": {
          "base_uri": "https://localhost:8080/"
        },
        "id": "e249e095",
        "outputId": "646171de-6bb0-4a1f-b826-22496fedfd1d"
      },
      "outputs": [
        {
          "output_type": "stream",
          "name": "stderr",
          "text": [
            "<ipython-input-56-b3de9d238584>:4: DataConversionWarning: A column-vector y was passed when a 1d array was expected. Please change the shape of y to (n_samples,), for example using ravel().\n",
            "  regressor.fit(X, Y)\n"
          ]
        },
        {
          "output_type": "execute_result",
          "data": {
            "text/plain": [
              "RandomForestRegressor()"
            ]
          },
          "metadata": {},
          "execution_count": 56
        }
      ],
      "source": [
        "# Fitting Random Forest Regression to the dataset\n",
        "from sklearn.ensemble import RandomForestRegressor\n",
        "regressor = RandomForestRegressor(n_estimators = 100)\n",
        "regressor.fit(X, Y)"
      ]
    },
    {
      "cell_type": "code",
      "execution_count": 57,
      "id": "74f822d2",
      "metadata": {
        "colab": {
          "base_uri": "https://localhost:8080/",
          "height": 575
        },
        "id": "74f822d2",
        "outputId": "b805a73e-12af-4796-cff2-3323b343f650"
      },
      "outputs": [
        {
          "output_type": "display_data",
          "data": {
            "text/plain": [
              "<Figure size 1440x720 with 1 Axes>"
            ],
            "image/png": "[encoded data removed]"
          },
          "metadata": {
            "needs_background": "light"
          }
        }
      ],
      "source": [
        "from sklearn import tree\n",
        "plt.figure(figsize=(20,10))\n",
        "graph = tree.plot_tree(regressor.estimators_[0], feature_names=['Engine Size'], filled=True)"
      ]
    },
    {
      "cell_type": "code",
      "execution_count": 58,
      "id": "7f04be6c",
      "metadata": {
        "colab": {
          "base_uri": "https://localhost:8080/",
          "height": 278
        },
        "id": "7f04be6c",
        "outputId": "5a1d4e94-2219-43f3-b381-9e4a07c2532a"
      },
      "outputs": [
        {
          "output_type": "display_data",
          "data": {
            "text/plain": [
              "<Figure size 432x288 with 1 Axes>"
            ],
            "image/png": "[encoded data removed]"
          },
          "metadata": {
            "needs_background": "light"
          }
        }
      ],
      "source": [
        "plt.hist(casecostprediction.unit_cost)\n",
        "plt.show()"
      ]
    },
    {
      "cell_type": "code",
      "execution_count": 59,
      "id": "dbfe8ae6",
      "metadata": {
        "colab": {
          "base_uri": "https://localhost:8080/",
          "height": 276
        },
        "id": "dbfe8ae6",
        "outputId": "9c770201-ab12-4d90-9c87-28f10ded64f7"
      },
      "outputs": [
        {
          "output_type": "display_data",
          "data": {
            "text/plain": [
              "<Figure size 432x288 with 1 Axes>"
            ],
            "image/png": "[encoded data removed]"
          },
          "metadata": {
            "needs_background": "light"
          }
        }
      ],
      "source": [
        "plt.boxplot(casecostprediction.unit_cost)\n",
        "plt.show()"
      ]
    },
    {
      "cell_type": "code",
      "execution_count": 60,
      "id": "e5f5abec",
      "metadata": {
        "colab": {
          "base_uri": "https://localhost:8080/",
          "height": 276
        },
        "id": "e5f5abec",
        "outputId": "30d03d7b-4c64-4f82-b489-bdb2e2ef3665"
      },
      "outputs": [
        {
          "output_type": "display_data",
          "data": {
            "text/plain": [
              "<Figure size 432x288 with 1 Axes>"
            ],
            "image/png": "[encoded data removed]"
          },
          "metadata": {
            "needs_background": "light"
          }
        }
      ],
      "source": [
        "plt.scatter(x=casecostprediction.case,y=casecostprediction.unit_cost,color='blue')\n",
        "plt.show()"
      ]
    },
    {
      "cell_type": "code",
      "execution_count": 61,
      "id": "9a088109",
      "metadata": {
        "colab": {
          "base_uri": "https://localhost:8080/",
          "height": 276
        },
        "id": "9a088109",
        "outputId": "cb4c3114-058f-4ec4-b545-f45d3c610922"
      },
      "outputs": [
        {
          "output_type": "display_data",
          "data": {
            "text/plain": [
              "<Figure size 432x288 with 1 Axes>"
            ],
            "image/png": "[encoded data removed]"
          },
          "metadata": {
            "needs_background": "light"
          }
        }
      ],
      "source": [
        "# Regression Line\n",
        "plt.scatter(np.log(casecostprediction.case), casecostprediction.unit_cost)\n",
        "plt.plot(np.log(casecostprediction.case), \"r\")\n",
        "plt.legend(['Predicted line', 'Observed data'])\n",
        "plt.show()"
      ]
    },
    {
      "cell_type": "code",
      "execution_count": 62,
      "id": "a5e5068d",
      "metadata": {
        "colab": {
          "base_uri": "https://localhost:8080/",
          "height": 282
        },
        "id": "a5e5068d",
        "outputId": "1480404e-375c-47a5-9e89-22c86394b26d"
      },
      "outputs": [
        {
          "output_type": "execute_result",
          "data": {
            "text/plain": [
              "<matplotlib.collections.PathCollection at 0x7f93e92265b0>"
            ]
          },
          "metadata": {},
          "execution_count": 62
        },
        {
          "output_type": "display_data",
          "data": {
            "text/plain": [
              "<Figure size 432x288 with 1 Axes>"
            ],
            "image/png": "[encoded data removed]"
          },
          "metadata": {
            "needs_background": "light"
          }
        }
      ],
      "source": [
        "#exponential transformation\n",
        "plt.scatter(x=casecostprediction.case,y=np.log(casecostprediction.unit_cost),color='green')"
      ]
    },
    {
      "cell_type": "code",
      "execution_count": 63,
      "id": "11094039",
      "metadata": {
        "colab": {
          "base_uri": "https://localhost:8080/"
        },
        "id": "11094039",
        "outputId": "6b39d015-7e93-42e4-fc5d-075124825f6c"
      },
      "outputs": [
        {
          "output_type": "execute_result",
          "data": {
            "text/plain": [
              "array([[ 1.        , -0.21865572],\n",
              "       [-0.21865572,  1.        ]])"
            ]
          },
          "metadata": {},
          "execution_count": 63
        }
      ],
      "source": [
        "np.corrcoef(casecostprediction.case,casecostprediction.unit_cost)"
      ]
    },
    {
      "cell_type": "code",
      "execution_count": 64,
      "id": "4d25d389",
      "metadata": {
        "id": "4d25d389"
      },
      "outputs": [],
      "source": [
        "import statsmodels.formula.api as smf\n",
        "import statsmodels.api as sm\n",
        "x1=sm.add_constant(X)\n",
        "regressor_OLS=sm.OLS(Y,x1).fit()"
      ]
    },
    {
      "cell_type": "code",
      "execution_count": 65,
      "id": "0fe9aa3d",
      "metadata": {
        "id": "0fe9aa3d"
      },
      "outputs": [],
      "source": [
        "model = smf.ols('case ~ unit_cost',data=casecostprediction).fit()"
      ]
    },
    {
      "cell_type": "code",
      "execution_count": 66,
      "id": "8e33214d",
      "metadata": {
        "colab": {
          "base_uri": "https://localhost:8080/",
          "height": 486
        },
        "id": "8e33214d",
        "outputId": "396cc153-3ac6-43c3-b2e1-e5d004c2ba33"
      },
      "outputs": [
        {
          "output_type": "execute_result",
          "data": {
            "text/plain": [
              "<class 'statsmodels.iolib.summary.Summary'>\n",
              "\"\"\"\n",
              "                            OLS Regression Results                            \n",
              "==============================================================================\n",
              "Dep. Variable:                   case   R-squared:                       0.048\n",
              "Model:                            OLS   Adj. R-squared:                  0.048\n",
              "Method:                 Least Squares   F-statistic:                     2911.\n",
              "Date:                Fri, 02 Dec 2022   Prob (F-statistic):               0.00\n",
              "Time:                        13:38:01   Log-Likelihood:            -6.4757e+05\n",
              "No. Observations:               57971   AIC:                         1.295e+06\n",
              "Df Residuals:                   57969   BIC:                         1.295e+06\n",
              "Df Model:                           1                                         \n",
              "Covariance Type:            nonrobust                                         \n",
              "==============================================================================\n",
              "                 coef    std err          t      P>|t|      [0.025      0.975]\n",
              "------------------------------------------------------------------------------\n",
              "Intercept   1.054e+04    102.852    102.434      0.000    1.03e+04    1.07e+04\n",
              "unit_cost     -0.0020   3.78e-05    -53.951      0.000      -0.002      -0.002\n",
              "==============================================================================\n",
              "Omnibus:                    67195.522   Durbin-Watson:                   1.998\n",
              "Prob(Omnibus):                  0.000   Jarque-Bera (JB):          7318488.313\n",
              "Skew:                           6.167   Prob(JB):                         0.00\n",
              "Kurtosis:                      56.645   Cond. No.                     3.92e+06\n",
              "==============================================================================\n",
              "\n",
              "Notes:\n",
              "[1] Standard Errors assume that the covariance matrix of the errors is correctly specified.\n",
              "[2] The condition number is large, 3.92e+06. This might indicate that there are\n",
              "strong multicollinearity or other numerical problems.\n",
              "\"\"\""
            ],
            "text/html": [
              "<table class=\"simpletable\">\n",
              "<caption>OLS Regression Results</caption>\n",
              "<tr>\n",
              "  <th>Dep. Variable:</th>          <td>case</td>       <th>  R-squared:         </th>  <td>   0.048</td>  \n",
              "</tr>\n",
              "<tr>\n",
              "  <th>Model:</th>                   <td>OLS</td>       <th>  Adj. R-squared:    </th>  <td>   0.048</td>  \n",
              "</tr>\n",
              "<tr>\n",
              "  <th>Method:</th>             <td>Least Squares</td>  <th>  F-statistic:       </th>  <td>   2911.</td>  \n",
              "</tr>\n",
              "<tr>\n",
              "  <th>Date:</th>             <td>Fri, 02 Dec 2022</td> <th>  Prob (F-statistic):</th>   <td>  0.00</td>   \n",
              "</tr>\n",
              "<tr>\n",
              "  <th>Time:</th>                 <td>13:38:01</td>     <th>  Log-Likelihood:    </th> <td>-6.4757e+05</td>\n",
              "</tr>\n",
              "<tr>\n",
              "  <th>No. Observations:</th>      <td> 57971</td>      <th>  AIC:               </th>  <td>1.295e+06</td> \n",
              "</tr>\n",
              "<tr>\n",
              "  <th>Df Residuals:</th>          <td> 57969</td>      <th>  BIC:               </th>  <td>1.295e+06</td> \n",
              "</tr>\n",
              "<tr>\n",
              "  <th>Df Model:</th>              <td>     1</td>      <th>                     </th>      <td> </td>     \n",
              "</tr>\n",
              "<tr>\n",
              "  <th>Covariance Type:</th>      <td>nonrobust</td>    <th>                     </th>      <td> </td>     \n",
              "</tr>\n",
              "</table>\n",
              "<table class=\"simpletable\">\n",
              "<tr>\n",
              "      <td></td>         <th>coef</th>     <th>std err</th>      <th>t</th>      <th>P>|t|</th>  <th>[0.025</th>    <th>0.975]</th>  \n",
              "</tr>\n",
              "<tr>\n",
              "  <th>Intercept</th> <td> 1.054e+04</td> <td>  102.852</td> <td>  102.434</td> <td> 0.000</td> <td> 1.03e+04</td> <td> 1.07e+04</td>\n",
              "</tr>\n",
              "<tr>\n",
              "  <th>unit_cost</th> <td>   -0.0020</td> <td> 3.78e-05</td> <td>  -53.951</td> <td> 0.000</td> <td>   -0.002</td> <td>   -0.002</td>\n",
              "</tr>\n",
              "</table>\n",
              "<table class=\"simpletable\">\n",
              "<tr>\n",
              "  <th>Omnibus:</th>       <td>67195.522</td> <th>  Durbin-Watson:     </th>  <td>   1.998</td>  \n",
              "</tr>\n",
              "<tr>\n",
              "  <th>Prob(Omnibus):</th>  <td> 0.000</td>   <th>  Jarque-Bera (JB):  </th> <td>7318488.313</td>\n",
              "</tr>\n",
              "<tr>\n",
              "  <th>Skew:</th>           <td> 6.167</td>   <th>  Prob(JB):          </th>  <td>    0.00</td>  \n",
              "</tr>\n",
              "<tr>\n",
              "  <th>Kurtosis:</th>       <td>56.645</td>   <th>  Cond. No.          </th>  <td>3.92e+06</td>  \n",
              "</tr>\n",
              "</table><br/><br/>Notes:<br/>[1] Standard Errors assume that the covariance matrix of the errors is correctly specified.<br/>[2] The condition number is large, 3.92e+06. This might indicate that there are<br/>strong multicollinearity or other numerical problems."
            ]
          },
          "metadata": {},
          "execution_count": 66
        }
      ],
      "source": [
        "model.summary()"
      ]
    },
    {
      "cell_type": "markdown",
      "id": "92335967",
      "metadata": {
        "id": "92335967"
      },
      "source": [
        "# Evaluation"
      ]
    },
    {
      "cell_type": "code",
      "execution_count": 67,
      "id": "3699a94c",
      "metadata": {
        "id": "3699a94c"
      },
      "outputs": [],
      "source": [
        "import sklearn.metrics as metrics"
      ]
    },
    {
      "cell_type": "code",
      "execution_count": 68,
      "id": "ae82b3a0",
      "metadata": {
        "id": "ae82b3a0"
      },
      "outputs": [],
      "source": [
        "from sklearn.preprocessing import StandardScaler  #normalizing the values \n",
        "scaler=StandardScaler()\n",
        "X_scaled=scaler.fit_transform(X)"
      ]
    },
    {
      "cell_type": "code",
      "execution_count": 69,
      "id": "bb086208",
      "metadata": {
        "id": "bb086208"
      },
      "outputs": [],
      "source": [
        "from sklearn.model_selection import train_test_split  #splitting the values into train & test\n",
        "X_train,X_test,Y_train,Y_test=train_test_split(X_scaled,Y,test_size=0.3)"
      ]
    },
    {
      "cell_type": "code",
      "execution_count": 70,
      "id": "dcc3c64d",
      "metadata": {
        "id": "dcc3c64d"
      },
      "outputs": [],
      "source": [
        "from sklearn.metrics import r2_score  #choosing the models kpis\n",
        "from sklearn.metrics import mean_absolute_error"
      ]
    },
    {
      "cell_type": "code",
      "execution_count": 71,
      "id": "efd61164",
      "metadata": {
        "colab": {
          "base_uri": "https://localhost:8080/"
        },
        "id": "efd61164",
        "outputId": "6948a614-1481-4eee-951f-7ccc0b39ebf0"
      },
      "outputs": [
        {
          "output_type": "stream",
          "name": "stderr",
          "text": [
            "<ipython-input-71-5357ecbcc11d>:3: DataConversionWarning: A column-vector y was passed when a 1d array was expected. Please change the shape of y to (n_samples,), for example using ravel().\n",
            "  Forest_regressor.fit(X_train,Y_train)\n"
          ]
        }
      ],
      "source": [
        "from sklearn.ensemble import RandomForestRegressor\n",
        "Forest_regressor=RandomForestRegressor()\n",
        "Forest_regressor.fit(X_train,Y_train)\n",
        "Forest_predictions=Forest_regressor.predict(X_test)"
      ]
    },
    {
      "cell_type": "code",
      "execution_count": 72,
      "id": "dff8db7e",
      "metadata": {
        "colab": {
          "base_uri": "https://localhost:8080/"
        },
        "id": "dff8db7e",
        "outputId": "209625a7-6aea-4f01-e570-23915b576f64"
      },
      "outputs": [
        {
          "output_type": "stream",
          "name": "stdout",
          "text": [
            "For the Random Forest Model \n",
            " The r_squared=0.018079127946538875 \n",
            " The Mean squared error=282036.1723164108\n"
          ]
        }
      ],
      "source": [
        "r2_score_Forest=r2_score(Y_test,Forest_predictions)\n",
        "MAE_forest=mean_absolute_error(Y_test,Forest_predictions)\n",
        "print('For the Random Forest Model \\n The r_squared={} \\n The Mean squared error={}'.format(r2_score_Forest,MAE_forest))"
      ]
    },
    {
      "cell_type": "code",
      "execution_count": 73,
      "id": "e84af774",
      "metadata": {
        "id": "e84af774"
      },
      "outputs": [],
      "source": [
        "#Calculate the mean absolute percentage error\n",
        "def MAPE(y_true, y_pred): \n",
        "    mape = np.mean(np.abs((np.array(y_true) - np.array(y_pred)) / np.array(y_true))) * 100\n",
        "    return mape"
      ]
    },
    {
      "cell_type": "code",
      "execution_count": 74,
      "id": "5d7fbc31",
      "metadata": {
        "colab": {
          "base_uri": "https://localhost:8080/"
        },
        "id": "5d7fbc31",
        "outputId": "8c24eedf-8de0-49b6-91e5-4a323c23ba67"
      },
      "outputs": [
        {
          "output_type": "stream",
          "name": "stderr",
          "text": [
            "<ipython-input-74-35b318302fa7>:3: DataConversionWarning: A column-vector y was passed when a 1d array was expected. Please change the shape of y to (n_samples,), for example using ravel().\n",
            "  clf.fit(X_train, Y_train)\n"
          ]
        },
        {
          "output_type": "stream",
          "name": "stdout",
          "text": [
            "MAE\n",
            "282075.64249265793\n",
            "MSE\n",
            "168673377277.5687\n",
            "RMSE\n",
            "410698.645332035\n",
            "MAPE\n",
            "4.162977079071182\n"
          ]
        }
      ],
      "source": [
        "clf = RandomForestRegressor()\n",
        " \n",
        "clf.fit(X_train, Y_train)\n",
        "\n",
        "pred = clf.predict(X_test)\n",
        "\n",
        "# calculate MAE, MSE, RMSE\n",
        "print(\"MAE\")\n",
        "print(metrics.mean_absolute_error(Y_test, pred))\n",
        "print(\"MSE\")\n",
        "print(metrics.mean_squared_error(Y_test, pred))\n",
        "print(\"RMSE\")\n",
        "print(np.sqrt(metrics.mean_squared_error(Y_test, pred)))\n",
        "print(\"MAPE\")\n",
        "print(metrics.mean_absolute_percentage_error(Y_test, pred))"
      ]
    },
    {
      "cell_type": "markdown",
      "id": "930ce64d",
      "metadata": {
        "id": "930ce64d"
      },
      "source": [
        "# Deployment"
      ]
    },
    {
      "cell_type": "code",
      "execution_count": 74,
      "id": "346bb828",
      "metadata": {
        "id": "346bb828"
      },
      "outputs": [],
      "source": []
    }
  ],
  "metadata": {
    "kernelspec": {
      "display_name": "Python 3 (ipykernel)",
      "language": "python",
      "name": "python3"
    },
    "language_info": {
      "codemirror_mode": {
        "name": "ipython",
        "version": 3
      },
      "file_extension": ".py",
      "mimetype": "text/x-python",
      "name": "python",
      "nbconvert_exporter": "python",
      "pygments_lexer": "ipython3",
      "version": "3.9.7"
    },
    "colab": {
      "provenance": []
    }
  },
  "nbformat": 4,
  "nbformat_minor": 5
}