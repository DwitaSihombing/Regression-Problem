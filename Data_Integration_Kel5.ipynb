{
  "nbformat": 4,
  "nbformat_minor": 0,
  "metadata": {
    "colab": {
      "provenance": []
    },
    "kernelspec": {
      "name": "python3",
      "display_name": "Python 3"
    },
    "language_info": {
      "name": "python"
    }
  },
  "cells": [
    {
      "cell_type": "markdown",
      "source": [
        "## Kelompok 5"
      ],
      "metadata": {
        "id": "rAueh8j-muqF"
      }
    },
    {
      "cell_type": "markdown",
      "source": [
        "* Ignatia Hutagalung\t\t\t12S19043\n",
        "* Dwita Sihombing\t\t\t12S19055\n",
        "* Putri Yohana Rajagukguk\t\t12S19056"
      ],
      "metadata": {
        "id": "8NFThKIOm3xx"
      }
    },
    {
      "cell_type": "code",
      "source": [
        "import pandas as pd"
      ],
      "metadata": {
        "id": "0X2l0TEhmy03"
      },
      "execution_count": 1,
      "outputs": []
    },
    {
      "cell_type": "code",
      "source": [
        "from google.colab import files\n",
        "uploaded = files.upload()"
      ],
      "metadata": {
        "colab": {
          "base_uri": "https://localhost:8080/",
          "height": 74
        },
        "id": "jiOmX6LrorPO",
        "outputId": "dea988f6-33be-4629-bcc0-09a143f2a06f"
      },
      "execution_count": 3,
      "outputs": [
        {
          "output_type": "display_data",
          "data": {
            "text/plain": [
              "<IPython.core.display.HTML object>"
            ],
            "text/html": [
              "\n",
              "     <input type=\"file\" id=\"files-87a4a270-1af5-4759-9999-53f31bdec600\" name=\"files[]\" multiple disabled\n",
              "        style=\"border:none\" />\n",
              "     <output id=\"result-87a4a270-1af5-4759-9999-53f31bdec600\">\n",
              "      Upload widget is only available when the cell has been executed in the\n",
              "      current browser session. Please rerun this cell to enable.\n",
              "      </output>\n",
              "      <script>// Copyright 2017 Google LLC\n",
              "//\n",
              "// Licensed under the Apache License, Version 2.0 (the \"License\");\n",
              "// you may not use this file except in compliance with the License.\n",
              "// You may obtain a copy of the License at\n",
              "//\n",
              "//      http://www.apache.org/licenses/LICENSE-2.0\n",
              "//\n",
              "// Unless required by applicable law or agreed to in writing, software\n",
              "// distributed under the License is distributed on an \"AS IS\" BASIS,\n",
              "// WITHOUT WARRANTIES OR CONDITIONS OF ANY KIND, either express or implied.\n",
              "// See the License for the specific language governing permissions and\n",
              "// limitations under the License.\n",
              "\n",
              "/**\n",
              " * @fileoverview Helpers for google.colab Python module.\n",
              " */\n",
              "(function(scope) {\n",
              "function span(text, styleAttributes = {}) {\n",
              "  const element = document.createElement('span');\n",
              "  element.textContent = text;\n",
              "  for (const key of Object.keys(styleAttributes)) {\n",
              "    element.style[key] = styleAttributes[key];\n",
              "  }\n",
              "  return element;\n",
              "}\n",
              "\n",
              "// Max number of bytes which will be uploaded at a time.\n",
              "const MAX_PAYLOAD_SIZE = 100 * 1024;\n",
              "\n",
              "function _uploadFiles(inputId, outputId) {\n",
              "  const steps = uploadFilesStep(inputId, outputId);\n",
              "  const outputElement = document.getElementById(outputId);\n",
              "  // Cache steps on the outputElement to make it available for the next call\n",
              "  // to uploadFilesContinue from Python.\n",
              "  outputElement.steps = steps;\n",
              "\n",
              "  return _uploadFilesContinue(outputId);\n",
              "}\n",
              "\n",
              "// This is roughly an async generator (not supported in the browser yet),\n",
              "// where there are multiple asynchronous steps and the Python side is going\n",
              "// to poll for completion of each step.\n",
              "// This uses a Promise to block the python side on completion of each step,\n",
              "// then passes the result of the previous step as the input to the next step.\n",
              "function _uploadFilesContinue(outputId) {\n",
              "  const outputElement = document.getElementById(outputId);\n",
              "  const steps = outputElement.steps;\n",
              "\n",
              "  const next = steps.next(outputElement.lastPromiseValue);\n",
              "  return Promise.resolve(next.value.promise).then((value) => {\n",
              "    // Cache the last promise value to make it available to the next\n",
              "    // step of the generator.\n",
              "    outputElement.lastPromiseValue = value;\n",
              "    return next.value.response;\n",
              "  });\n",
              "}\n",
              "\n",
              "/**\n",
              " * Generator function which is called between each async step of the upload\n",
              " * process.\n",
              " * @param {string} inputId Element ID of the input file picker element.\n",
              " * @param {string} outputId Element ID of the output display.\n",
              " * @return {!Iterable<!Object>} Iterable of next steps.\n",
              " */\n",
              "function* uploadFilesStep(inputId, outputId) {\n",
              "  const inputElement = document.getElementById(inputId);\n",
              "  inputElement.disabled = false;\n",
              "\n",
              "  const outputElement = document.getElementById(outputId);\n",
              "  outputElement.innerHTML = '';\n",
              "\n",
              "  const pickedPromise = new Promise((resolve) => {\n",
              "    inputElement.addEventListener('change', (e) => {\n",
              "      resolve(e.target.files);\n",
              "    });\n",
              "  });\n",
              "\n",
              "  const cancel = document.createElement('button');\n",
              "  inputElement.parentElement.appendChild(cancel);\n",
              "  cancel.textContent = 'Cancel upload';\n",
              "  const cancelPromise = new Promise((resolve) => {\n",
              "    cancel.onclick = () => {\n",
              "      resolve(null);\n",
              "    };\n",
              "  });\n",
              "\n",
              "  // Wait for the user to pick the files.\n",
              "  const files = yield {\n",
              "    promise: Promise.race([pickedPromise, cancelPromise]),\n",
              "    response: {\n",
              "      action: 'starting',\n",
              "    }\n",
              "  };\n",
              "\n",
              "  cancel.remove();\n",
              "\n",
              "  // Disable the input element since further picks are not allowed.\n",
              "  inputElement.disabled = true;\n",
              "\n",
              "  if (!files) {\n",
              "    return {\n",
              "      response: {\n",
              "        action: 'complete',\n",
              "      }\n",
              "    };\n",
              "  }\n",
              "\n",
              "  for (const file of files) {\n",
              "    const li = document.createElement('li');\n",
              "    li.append(span(file.name, {fontWeight: 'bold'}));\n",
              "    li.append(span(\n",
              "        `(${file.type || 'n/a'}) - ${file.size} bytes, ` +\n",
              "        `last modified: ${\n",
              "            file.lastModifiedDate ? file.lastModifiedDate.toLocaleDateString() :\n",
              "                                    'n/a'} - `));\n",
              "    const percent = span('0% done');\n",
              "    li.appendChild(percent);\n",
              "\n",
              "    outputElement.appendChild(li);\n",
              "\n",
              "    const fileDataPromise = new Promise((resolve) => {\n",
              "      const reader = new FileReader();\n",
              "      reader.onload = (e) => {\n",
              "        resolve(e.target.result);\n",
              "      };\n",
              "      reader.readAsArrayBuffer(file);\n",
              "    });\n",
              "    // Wait for the data to be ready.\n",
              "    let fileData = yield {\n",
              "      promise: fileDataPromise,\n",
              "      response: {\n",
              "        action: 'continue',\n",
              "      }\n",
              "    };\n",
              "\n",
              "    // Use a chunked sending to avoid message size limits. See b/62115660.\n",
              "    let position = 0;\n",
              "    do {\n",
              "      const length = Math.min(fileData.byteLength - position, MAX_PAYLOAD_SIZE);\n",
              "      const chunk = new Uint8Array(fileData, position, length);\n",
              "      position += length;\n",
              "\n",
              "      const base64 = btoa(String.fromCharCode.apply(null, chunk));\n",
              "      yield {\n",
              "        response: {\n",
              "          action: 'append',\n",
              "          file: file.name,\n",
              "          data: base64,\n",
              "        },\n",
              "      };\n",
              "\n",
              "      let percentDone = fileData.byteLength === 0 ?\n",
              "          100 :\n",
              "          Math.round((position / fileData.byteLength) * 100);\n",
              "      percent.textContent = `${percentDone}% done`;\n",
              "\n",
              "    } while (position < fileData.byteLength);\n",
              "  }\n",
              "\n",
              "  // All done.\n",
              "  yield {\n",
              "    response: {\n",
              "      action: 'complete',\n",
              "    }\n",
              "  };\n",
              "}\n",
              "\n",
              "scope.google = scope.google || {};\n",
              "scope.google.colab = scope.google.colab || {};\n",
              "scope.google.colab._files = {\n",
              "  _uploadFiles,\n",
              "  _uploadFilesContinue,\n",
              "};\n",
              "})(self);\n",
              "</script> "
            ]
          },
          "metadata": {}
        },
        {
          "output_type": "stream",
          "name": "stdout",
          "text": [
            "Saving case_cost_prediction_train.csv to case_cost_prediction_train (1).csv\n"
          ]
        }
      ]
    },
    {
      "cell_type": "code",
      "source": [
        "casecostprediction = pd.read_csv(\"./case_cost_prediction_train.csv\")"
      ],
      "metadata": {
        "id": "gYTSShGem6nI"
      },
      "execution_count": 4,
      "outputs": []
    },
    {
      "cell_type": "code",
      "source": [
        "print(casecostprediction)"
      ],
      "metadata": {
        "colab": {
          "base_uri": "https://localhost:8080/"
        },
        "id": "_4JhHIO-m6pg",
        "outputId": "1479cb31-9d35-4977-d8d3-ef0eba13bb0a"
      },
      "execution_count": 5,
      "outputs": [
        {
          "output_type": "stream",
          "name": "stdout",
          "text": [
            "       row_id         tglpelayanan  kddati2  tkp  peserta  a  b  c  cb  d  \\\n",
            "0           1  2014-04-01 00:00:00      332   40   179530  0  0  1   0  1   \n",
            "1           2  2016-11-01 00:00:00       54   40   104782  0  1  0   0  0   \n",
            "2           3  2016-05-01 00:00:00      323   30   280645  0  0  1   0  0   \n",
            "3           4  2018-11-01 00:00:00      318   40   178685  0  1  0   0  0   \n",
            "4           5  2019-10-01 00:00:00      150   30  1199321  1  0  1   0  0   \n",
            "...       ...                  ...      ...  ...      ... .. .. ..  .. ..   \n",
            "57966   57967  2019-03-01 00:00:00      241   40   157213  0  0  1   0  0   \n",
            "57967   57968  2019-09-01 00:00:00      338   30   402173  0  0  1   0  0   \n",
            "57968   57969  2016-06-01 00:00:00      241   40    99401  0  0  1   0  0   \n",
            "57969   57970  2018-01-01 00:00:00      147   40   509495  0  0  1   0  0   \n",
            "57970   57971  2016-09-01 00:00:00      204   30   770169  0  1  1   0  0   \n",
            "\n",
            "       ...  kp  kt  ku  s  sa  sb  sc  sd   case     unit_cost  \n",
            "0      ...   0   0   0  0   0   0   0   0    266  3.597440e+06  \n",
            "1      ...   0   0   1  0   0   0   1   1   2453  4.951008e+06  \n",
            "2      ...   0   0   0  0   0   0   0   0   1690  1.984208e+05  \n",
            "3      ...   0   0   0  0   0   0   0   3   1321  4.008756e+06  \n",
            "4      ...   1   0   0  0   0   1   0   5  73056  3.072272e+05  \n",
            "...    ...  ..  ..  .. ..  ..  ..  ..  ..    ...           ...  \n",
            "57966  ...   0   0   0  0   0   0   0   0    410  3.443332e+06  \n",
            "57967  ...   0   0   0  0   0   0   0   0   8272  2.128621e+05  \n",
            "57968  ...   0   0   0  0   0   0   0   0    294  3.028611e+06  \n",
            "57969  ...   0   0   0  0   0   0   2   0   1983  3.629365e+06  \n",
            "57970  ...   0   0   0  0   0   1   2   1  16679  2.956852e+05  \n",
            "\n",
            "[57971 rows x 36 columns]\n"
          ]
        }
      ]
    },
    {
      "cell_type": "code",
      "source": [
        "row_concat = pd.concat([casecostprediction])\n",
        "print(row_concat)"
      ],
      "metadata": {
        "colab": {
          "base_uri": "https://localhost:8080/"
        },
        "id": "_mjuoxAcm6r2",
        "outputId": "a26f9bf3-392a-4c02-d5d3-ba5e08fadf7e"
      },
      "execution_count": 6,
      "outputs": [
        {
          "output_type": "stream",
          "name": "stdout",
          "text": [
            "       row_id         tglpelayanan  kddati2  tkp  peserta  a  b  c  cb  d  \\\n",
            "0           1  2014-04-01 00:00:00      332   40   179530  0  0  1   0  1   \n",
            "1           2  2016-11-01 00:00:00       54   40   104782  0  1  0   0  0   \n",
            "2           3  2016-05-01 00:00:00      323   30   280645  0  0  1   0  0   \n",
            "3           4  2018-11-01 00:00:00      318   40   178685  0  1  0   0  0   \n",
            "4           5  2019-10-01 00:00:00      150   30  1199321  1  0  1   0  0   \n",
            "...       ...                  ...      ...  ...      ... .. .. ..  .. ..   \n",
            "57966   57967  2019-03-01 00:00:00      241   40   157213  0  0  1   0  0   \n",
            "57967   57968  2019-09-01 00:00:00      338   30   402173  0  0  1   0  0   \n",
            "57968   57969  2016-06-01 00:00:00      241   40    99401  0  0  1   0  0   \n",
            "57969   57970  2018-01-01 00:00:00      147   40   509495  0  0  1   0  0   \n",
            "57970   57971  2016-09-01 00:00:00      204   30   770169  0  1  1   0  0   \n",
            "\n",
            "       ...  kp  kt  ku  s  sa  sb  sc  sd   case     unit_cost  \n",
            "0      ...   0   0   0  0   0   0   0   0    266  3.597440e+06  \n",
            "1      ...   0   0   1  0   0   0   1   1   2453  4.951008e+06  \n",
            "2      ...   0   0   0  0   0   0   0   0   1690  1.984208e+05  \n",
            "3      ...   0   0   0  0   0   0   0   3   1321  4.008756e+06  \n",
            "4      ...   1   0   0  0   0   1   0   5  73056  3.072272e+05  \n",
            "...    ...  ..  ..  .. ..  ..  ..  ..  ..    ...           ...  \n",
            "57966  ...   0   0   0  0   0   0   0   0    410  3.443332e+06  \n",
            "57967  ...   0   0   0  0   0   0   0   0   8272  2.128621e+05  \n",
            "57968  ...   0   0   0  0   0   0   0   0    294  3.028611e+06  \n",
            "57969  ...   0   0   0  0   0   0   2   0   1983  3.629365e+06  \n",
            "57970  ...   0   0   0  0   0   1   2   1  16679  2.956852e+05  \n",
            "\n",
            "[57971 rows x 36 columns]\n"
          ]
        }
      ]
    },
    {
      "cell_type": "code",
      "source": [
        "print(row_concat.iloc[3,])"
      ],
      "metadata": {
        "colab": {
          "base_uri": "https://localhost:8080/"
        },
        "id": "tOO2E1-um6uG",
        "outputId": "311c075d-ea37-43a4-de22-4ea46b9380f6"
      },
      "execution_count": 7,
      "outputs": [
        {
          "output_type": "stream",
          "name": "stdout",
          "text": [
            "row_id                            4\n",
            "tglpelayanan    2018-11-01 00:00:00\n",
            "kddati2                         318\n",
            "tkp                              40\n",
            "peserta                      178685\n",
            "a                                 0\n",
            "b                                 1\n",
            "c                                 0\n",
            "cb                                0\n",
            "d                                 0\n",
            "ds                                0\n",
            "gd                                0\n",
            "hd                                0\n",
            "i1                                0\n",
            "i2                                0\n",
            "i3                                0\n",
            "i4                                1\n",
            "kb                                0\n",
            "kc                                0\n",
            "kg                                0\n",
            "ki                                0\n",
            "kj                                0\n",
            "kk                                0\n",
            "kl                                0\n",
            "km                                0\n",
            "ko                                0\n",
            "kp                                0\n",
            "kt                                0\n",
            "ku                                0\n",
            "s                                 0\n",
            "sa                                0\n",
            "sb                                0\n",
            "sc                                0\n",
            "sd                                3\n",
            "case                           1321\n",
            "unit_cost            4008756.093868\n",
            "Name: 3, dtype: object\n"
          ]
        }
      ]
    },
    {
      "cell_type": "code",
      "source": [
        "new_row_series = pd.Series(['n1', 'n2', 'n3', 'n4'])\n",
        "print(new_row_series)"
      ],
      "metadata": {
        "colab": {
          "base_uri": "https://localhost:8080/"
        },
        "id": "A9NqZosnm6wd",
        "outputId": "4b070889-129e-495f-bde6-25178c66058e"
      },
      "execution_count": 8,
      "outputs": [
        {
          "output_type": "stream",
          "name": "stdout",
          "text": [
            "0    n1\n",
            "1    n2\n",
            "2    n3\n",
            "3    n4\n",
            "dtype: object\n"
          ]
        }
      ]
    },
    {
      "cell_type": "code",
      "source": [
        "print(pd.concat([casecostprediction, new_row_series]))"
      ],
      "metadata": {
        "colab": {
          "base_uri": "https://localhost:8080/"
        },
        "id": "16A-P-Ycm6yn",
        "outputId": "6846cd31-8983-4c14-945c-503c3369913b"
      },
      "execution_count": 9,
      "outputs": [
        {
          "output_type": "stream",
          "name": "stdout",
          "text": [
            "         0    a    b    c     case   cb    d   ds   gd   hd  ...    peserta  \\\n",
            "0      NaN  0.0  0.0  1.0    266.0  0.0  1.0  0.0  0.0  0.0  ...   179530.0   \n",
            "1      NaN  0.0  1.0  0.0   2453.0  0.0  0.0  0.0  0.0  0.0  ...   104782.0   \n",
            "2      NaN  0.0  0.0  1.0   1690.0  0.0  0.0  0.0  0.0  0.0  ...   280645.0   \n",
            "3      NaN  0.0  1.0  0.0   1321.0  0.0  0.0  0.0  0.0  0.0  ...   178685.0   \n",
            "4      NaN  1.0  0.0  1.0  73056.0  0.0  0.0  0.0  0.0  0.0  ...  1199321.0   \n",
            "...    ...  ...  ...  ...      ...  ...  ...  ...  ...  ...  ...        ...   \n",
            "57970  NaN  0.0  1.0  1.0  16679.0  0.0  0.0  0.0  0.0  0.0  ...   770169.0   \n",
            "0       n1  NaN  NaN  NaN      NaN  NaN  NaN  NaN  NaN  NaN  ...        NaN   \n",
            "1       n2  NaN  NaN  NaN      NaN  NaN  NaN  NaN  NaN  NaN  ...        NaN   \n",
            "2       n3  NaN  NaN  NaN      NaN  NaN  NaN  NaN  NaN  NaN  ...        NaN   \n",
            "3       n4  NaN  NaN  NaN      NaN  NaN  NaN  NaN  NaN  NaN  ...        NaN   \n",
            "\n",
            "        row_id    s   sa   sb   sc   sd         tglpelayanan   tkp  \\\n",
            "0          1.0  0.0  0.0  0.0  0.0  0.0  2014-04-01 00:00:00  40.0   \n",
            "1          2.0  0.0  0.0  0.0  1.0  1.0  2016-11-01 00:00:00  40.0   \n",
            "2          3.0  0.0  0.0  0.0  0.0  0.0  2016-05-01 00:00:00  30.0   \n",
            "3          4.0  0.0  0.0  0.0  0.0  3.0  2018-11-01 00:00:00  40.0   \n",
            "4          5.0  0.0  0.0  1.0  0.0  5.0  2019-10-01 00:00:00  30.0   \n",
            "...        ...  ...  ...  ...  ...  ...                  ...   ...   \n",
            "57970  57971.0  0.0  0.0  1.0  2.0  1.0  2016-09-01 00:00:00  30.0   \n",
            "0          NaN  NaN  NaN  NaN  NaN  NaN                  NaN   NaN   \n",
            "1          NaN  NaN  NaN  NaN  NaN  NaN                  NaN   NaN   \n",
            "2          NaN  NaN  NaN  NaN  NaN  NaN                  NaN   NaN   \n",
            "3          NaN  NaN  NaN  NaN  NaN  NaN                  NaN   NaN   \n",
            "\n",
            "          unit_cost  \n",
            "0      3.597440e+06  \n",
            "1      4.951008e+06  \n",
            "2      1.984208e+05  \n",
            "3      4.008756e+06  \n",
            "4      3.072272e+05  \n",
            "...             ...  \n",
            "57970  2.956852e+05  \n",
            "0               NaN  \n",
            "1               NaN  \n",
            "2               NaN  \n",
            "3               NaN  \n",
            "\n",
            "[57975 rows x 37 columns]\n"
          ]
        }
      ]
    },
    {
      "cell_type": "code",
      "source": [
        "new_row_df = pd.DataFrame([['n1', 'n2', 'n3', 'n4']], columns=['A', 'B', 'C', 'D'])\n",
        "print(new_row_df)\n",
        "     "
      ],
      "metadata": {
        "colab": {
          "base_uri": "https://localhost:8080/"
        },
        "id": "pzeSwJkwm60i",
        "outputId": "3c77bd09-101c-4abb-e19f-b4a20dd3c6ed"
      },
      "execution_count": 10,
      "outputs": [
        {
          "output_type": "stream",
          "name": "stdout",
          "text": [
            "    A   B   C   D\n",
            "0  n1  n2  n3  n4\n"
          ]
        }
      ]
    },
    {
      "cell_type": "code",
      "source": [
        "print(pd.concat([casecostprediction, new_row_df]))"
      ],
      "metadata": {
        "colab": {
          "base_uri": "https://localhost:8080/"
        },
        "id": "VUxJBHQjnaHQ",
        "outputId": "29c395f9-0b3f-41f3-c261-147723ac7343"
      },
      "execution_count": 11,
      "outputs": [
        {
          "output_type": "stream",
          "name": "stdout",
          "text": [
            "        row_id         tglpelayanan  kddati2   tkp    peserta    a    b    c  \\\n",
            "0          1.0  2014-04-01 00:00:00    332.0  40.0   179530.0  0.0  0.0  1.0   \n",
            "1          2.0  2016-11-01 00:00:00     54.0  40.0   104782.0  0.0  1.0  0.0   \n",
            "2          3.0  2016-05-01 00:00:00    323.0  30.0   280645.0  0.0  0.0  1.0   \n",
            "3          4.0  2018-11-01 00:00:00    318.0  40.0   178685.0  0.0  1.0  0.0   \n",
            "4          5.0  2019-10-01 00:00:00    150.0  30.0  1199321.0  1.0  0.0  1.0   \n",
            "...        ...                  ...      ...   ...        ...  ...  ...  ...   \n",
            "57967  57968.0  2019-09-01 00:00:00    338.0  30.0   402173.0  0.0  0.0  1.0   \n",
            "57968  57969.0  2016-06-01 00:00:00    241.0  40.0    99401.0  0.0  0.0  1.0   \n",
            "57969  57970.0  2018-01-01 00:00:00    147.0  40.0   509495.0  0.0  0.0  1.0   \n",
            "57970  57971.0  2016-09-01 00:00:00    204.0  30.0   770169.0  0.0  1.0  1.0   \n",
            "0          NaN                  NaN      NaN   NaN        NaN  NaN  NaN  NaN   \n",
            "\n",
            "        cb    d  ...   sa   sb   sc   sd     case     unit_cost    A    B  \\\n",
            "0      0.0  1.0  ...  0.0  0.0  0.0  0.0    266.0  3.597440e+06  NaN  NaN   \n",
            "1      0.0  0.0  ...  0.0  0.0  1.0  1.0   2453.0  4.951008e+06  NaN  NaN   \n",
            "2      0.0  0.0  ...  0.0  0.0  0.0  0.0   1690.0  1.984208e+05  NaN  NaN   \n",
            "3      0.0  0.0  ...  0.0  0.0  0.0  3.0   1321.0  4.008756e+06  NaN  NaN   \n",
            "4      0.0  0.0  ...  0.0  1.0  0.0  5.0  73056.0  3.072272e+05  NaN  NaN   \n",
            "...    ...  ...  ...  ...  ...  ...  ...      ...           ...  ...  ...   \n",
            "57967  0.0  0.0  ...  0.0  0.0  0.0  0.0   8272.0  2.128621e+05  NaN  NaN   \n",
            "57968  0.0  0.0  ...  0.0  0.0  0.0  0.0    294.0  3.028611e+06  NaN  NaN   \n",
            "57969  0.0  0.0  ...  0.0  0.0  2.0  0.0   1983.0  3.629365e+06  NaN  NaN   \n",
            "57970  0.0  0.0  ...  0.0  1.0  2.0  1.0  16679.0  2.956852e+05  NaN  NaN   \n",
            "0      NaN  NaN  ...  NaN  NaN  NaN  NaN      NaN           NaN   n1   n2   \n",
            "\n",
            "         C    D  \n",
            "0      NaN  NaN  \n",
            "1      NaN  NaN  \n",
            "2      NaN  NaN  \n",
            "3      NaN  NaN  \n",
            "4      NaN  NaN  \n",
            "...    ...  ...  \n",
            "57967  NaN  NaN  \n",
            "57968  NaN  NaN  \n",
            "57969  NaN  NaN  \n",
            "57970  NaN  NaN  \n",
            "0       n3   n4  \n",
            "\n",
            "[57972 rows x 40 columns]\n"
          ]
        }
      ]
    },
    {
      "cell_type": "code",
      "source": [
        "data_dict = {'A': 'n1',\n",
        "             'B': 'n2',\n",
        "             'C': 'n3',\n",
        "             'D': 'n4'}\n",
        "\n",
        "print(casecostprediction.append(data_dict, ignore_index=True))"
      ],
      "metadata": {
        "colab": {
          "base_uri": "https://localhost:8080/"
        },
        "id": "20uG_YlnnaJa",
        "outputId": "edd1aaa2-b400-443b-c339-4aa220f1cc42"
      },
      "execution_count": 12,
      "outputs": [
        {
          "output_type": "stream",
          "name": "stdout",
          "text": [
            "        row_id         tglpelayanan  kddati2   tkp    peserta    a    b    c  \\\n",
            "0          1.0  2014-04-01 00:00:00    332.0  40.0   179530.0  0.0  0.0  1.0   \n",
            "1          2.0  2016-11-01 00:00:00     54.0  40.0   104782.0  0.0  1.0  0.0   \n",
            "2          3.0  2016-05-01 00:00:00    323.0  30.0   280645.0  0.0  0.0  1.0   \n",
            "3          4.0  2018-11-01 00:00:00    318.0  40.0   178685.0  0.0  1.0  0.0   \n",
            "4          5.0  2019-10-01 00:00:00    150.0  30.0  1199321.0  1.0  0.0  1.0   \n",
            "...        ...                  ...      ...   ...        ...  ...  ...  ...   \n",
            "57967  57968.0  2019-09-01 00:00:00    338.0  30.0   402173.0  0.0  0.0  1.0   \n",
            "57968  57969.0  2016-06-01 00:00:00    241.0  40.0    99401.0  0.0  0.0  1.0   \n",
            "57969  57970.0  2018-01-01 00:00:00    147.0  40.0   509495.0  0.0  0.0  1.0   \n",
            "57970  57971.0  2016-09-01 00:00:00    204.0  30.0   770169.0  0.0  1.0  1.0   \n",
            "57971      NaN                  NaN      NaN   NaN        NaN  NaN  NaN  NaN   \n",
            "\n",
            "        cb    d  ...   sa   sb   sc   sd     case     unit_cost    A    B  \\\n",
            "0      0.0  1.0  ...  0.0  0.0  0.0  0.0    266.0  3.597440e+06  NaN  NaN   \n",
            "1      0.0  0.0  ...  0.0  0.0  1.0  1.0   2453.0  4.951008e+06  NaN  NaN   \n",
            "2      0.0  0.0  ...  0.0  0.0  0.0  0.0   1690.0  1.984208e+05  NaN  NaN   \n",
            "3      0.0  0.0  ...  0.0  0.0  0.0  3.0   1321.0  4.008756e+06  NaN  NaN   \n",
            "4      0.0  0.0  ...  0.0  1.0  0.0  5.0  73056.0  3.072272e+05  NaN  NaN   \n",
            "...    ...  ...  ...  ...  ...  ...  ...      ...           ...  ...  ...   \n",
            "57967  0.0  0.0  ...  0.0  0.0  0.0  0.0   8272.0  2.128621e+05  NaN  NaN   \n",
            "57968  0.0  0.0  ...  0.0  0.0  0.0  0.0    294.0  3.028611e+06  NaN  NaN   \n",
            "57969  0.0  0.0  ...  0.0  0.0  2.0  0.0   1983.0  3.629365e+06  NaN  NaN   \n",
            "57970  0.0  0.0  ...  0.0  1.0  2.0  1.0  16679.0  2.956852e+05  NaN  NaN   \n",
            "57971  NaN  NaN  ...  NaN  NaN  NaN  NaN      NaN           NaN   n1   n2   \n",
            "\n",
            "         C    D  \n",
            "0      NaN  NaN  \n",
            "1      NaN  NaN  \n",
            "2      NaN  NaN  \n",
            "3      NaN  NaN  \n",
            "4      NaN  NaN  \n",
            "...    ...  ...  \n",
            "57967  NaN  NaN  \n",
            "57968  NaN  NaN  \n",
            "57969  NaN  NaN  \n",
            "57970  NaN  NaN  \n",
            "57971   n3   n4  \n",
            "\n",
            "[57972 rows x 40 columns]\n"
          ]
        }
      ]
    },
    {
      "cell_type": "code",
      "source": [
        "row_concat_i = pd.concat([casecostprediction], ignore_index=True)\n",
        "print(row_concat_i)"
      ],
      "metadata": {
        "colab": {
          "base_uri": "https://localhost:8080/"
        },
        "id": "ukQmvI5YnaMn",
        "outputId": "b9bbe07d-1688-4e8d-98e0-b7e45413424e"
      },
      "execution_count": 13,
      "outputs": [
        {
          "output_type": "stream",
          "name": "stdout",
          "text": [
            "       row_id         tglpelayanan  kddati2  tkp  peserta  a  b  c  cb  d  \\\n",
            "0           1  2014-04-01 00:00:00      332   40   179530  0  0  1   0  1   \n",
            "1           2  2016-11-01 00:00:00       54   40   104782  0  1  0   0  0   \n",
            "2           3  2016-05-01 00:00:00      323   30   280645  0  0  1   0  0   \n",
            "3           4  2018-11-01 00:00:00      318   40   178685  0  1  0   0  0   \n",
            "4           5  2019-10-01 00:00:00      150   30  1199321  1  0  1   0  0   \n",
            "...       ...                  ...      ...  ...      ... .. .. ..  .. ..   \n",
            "57966   57967  2019-03-01 00:00:00      241   40   157213  0  0  1   0  0   \n",
            "57967   57968  2019-09-01 00:00:00      338   30   402173  0  0  1   0  0   \n",
            "57968   57969  2016-06-01 00:00:00      241   40    99401  0  0  1   0  0   \n",
            "57969   57970  2018-01-01 00:00:00      147   40   509495  0  0  1   0  0   \n",
            "57970   57971  2016-09-01 00:00:00      204   30   770169  0  1  1   0  0   \n",
            "\n",
            "       ...  kp  kt  ku  s  sa  sb  sc  sd   case     unit_cost  \n",
            "0      ...   0   0   0  0   0   0   0   0    266  3.597440e+06  \n",
            "1      ...   0   0   1  0   0   0   1   1   2453  4.951008e+06  \n",
            "2      ...   0   0   0  0   0   0   0   0   1690  1.984208e+05  \n",
            "3      ...   0   0   0  0   0   0   0   3   1321  4.008756e+06  \n",
            "4      ...   1   0   0  0   0   1   0   5  73056  3.072272e+05  \n",
            "...    ...  ..  ..  .. ..  ..  ..  ..  ..    ...           ...  \n",
            "57966  ...   0   0   0  0   0   0   0   0    410  3.443332e+06  \n",
            "57967  ...   0   0   0  0   0   0   0   0   8272  2.128621e+05  \n",
            "57968  ...   0   0   0  0   0   0   0   0    294  3.028611e+06  \n",
            "57969  ...   0   0   0  0   0   0   2   0   1983  3.629365e+06  \n",
            "57970  ...   0   0   0  0   0   1   2   1  16679  2.956852e+05  \n",
            "\n",
            "[57971 rows x 36 columns]\n"
          ]
        }
      ]
    },
    {
      "cell_type": "markdown",
      "source": [
        "## Adding Columns"
      ],
      "metadata": {
        "id": "_V-H_lTKnf_0"
      }
    },
    {
      "cell_type": "code",
      "source": [
        "col_concat = pd.concat([casecostprediction], axis=1)\n",
        "print(col_concat)"
      ],
      "metadata": {
        "colab": {
          "base_uri": "https://localhost:8080/"
        },
        "id": "smU9sgyQm636",
        "outputId": "eaacdfc5-c76a-4746-d966-5ca913a83e66"
      },
      "execution_count": 14,
      "outputs": [
        {
          "output_type": "stream",
          "name": "stdout",
          "text": [
            "       row_id         tglpelayanan  kddati2  tkp  peserta  a  b  c  cb  d  \\\n",
            "0           1  2014-04-01 00:00:00      332   40   179530  0  0  1   0  1   \n",
            "1           2  2016-11-01 00:00:00       54   40   104782  0  1  0   0  0   \n",
            "2           3  2016-05-01 00:00:00      323   30   280645  0  0  1   0  0   \n",
            "3           4  2018-11-01 00:00:00      318   40   178685  0  1  0   0  0   \n",
            "4           5  2019-10-01 00:00:00      150   30  1199321  1  0  1   0  0   \n",
            "...       ...                  ...      ...  ...      ... .. .. ..  .. ..   \n",
            "57966   57967  2019-03-01 00:00:00      241   40   157213  0  0  1   0  0   \n",
            "57967   57968  2019-09-01 00:00:00      338   30   402173  0  0  1   0  0   \n",
            "57968   57969  2016-06-01 00:00:00      241   40    99401  0  0  1   0  0   \n",
            "57969   57970  2018-01-01 00:00:00      147   40   509495  0  0  1   0  0   \n",
            "57970   57971  2016-09-01 00:00:00      204   30   770169  0  1  1   0  0   \n",
            "\n",
            "       ...  kp  kt  ku  s  sa  sb  sc  sd   case     unit_cost  \n",
            "0      ...   0   0   0  0   0   0   0   0    266  3.597440e+06  \n",
            "1      ...   0   0   1  0   0   0   1   1   2453  4.951008e+06  \n",
            "2      ...   0   0   0  0   0   0   0   0   1690  1.984208e+05  \n",
            "3      ...   0   0   0  0   0   0   0   3   1321  4.008756e+06  \n",
            "4      ...   1   0   0  0   0   1   0   5  73056  3.072272e+05  \n",
            "...    ...  ..  ..  .. ..  ..  ..  ..  ..    ...           ...  \n",
            "57966  ...   0   0   0  0   0   0   0   0    410  3.443332e+06  \n",
            "57967  ...   0   0   0  0   0   0   0   0   8272  2.128621e+05  \n",
            "57968  ...   0   0   0  0   0   0   0   0    294  3.028611e+06  \n",
            "57969  ...   0   0   0  0   0   0   2   0   1983  3.629365e+06  \n",
            "57970  ...   0   0   0  0   0   1   2   1  16679  2.956852e+05  \n",
            "\n",
            "[57971 rows x 36 columns]\n"
          ]
        }
      ]
    },
    {
      "cell_type": "code",
      "source": [
        "print(pd.concat([casecostprediction], axis=1, ignore_index=True))"
      ],
      "metadata": {
        "colab": {
          "base_uri": "https://localhost:8080/"
        },
        "id": "aQxGWrGfnkKK",
        "outputId": "e44bb28e-cff7-4bc9-8121-4f5da85e2246"
      },
      "execution_count": 15,
      "outputs": [
        {
          "output_type": "stream",
          "name": "stdout",
          "text": [
            "          0                    1    2   3        4   5   6   7   8   9   ...  \\\n",
            "0          1  2014-04-01 00:00:00  332  40   179530   0   0   1   0   1  ...   \n",
            "1          2  2016-11-01 00:00:00   54  40   104782   0   1   0   0   0  ...   \n",
            "2          3  2016-05-01 00:00:00  323  30   280645   0   0   1   0   0  ...   \n",
            "3          4  2018-11-01 00:00:00  318  40   178685   0   1   0   0   0  ...   \n",
            "4          5  2019-10-01 00:00:00  150  30  1199321   1   0   1   0   0  ...   \n",
            "...      ...                  ...  ...  ..      ...  ..  ..  ..  ..  ..  ...   \n",
            "57966  57967  2019-03-01 00:00:00  241  40   157213   0   0   1   0   0  ...   \n",
            "57967  57968  2019-09-01 00:00:00  338  30   402173   0   0   1   0   0  ...   \n",
            "57968  57969  2016-06-01 00:00:00  241  40    99401   0   0   1   0   0  ...   \n",
            "57969  57970  2018-01-01 00:00:00  147  40   509495   0   0   1   0   0  ...   \n",
            "57970  57971  2016-09-01 00:00:00  204  30   770169   0   1   1   0   0  ...   \n",
            "\n",
            "       26  27  28  29  30  31  32  33     34            35  \n",
            "0       0   0   0   0   0   0   0   0    266  3.597440e+06  \n",
            "1       0   0   1   0   0   0   1   1   2453  4.951008e+06  \n",
            "2       0   0   0   0   0   0   0   0   1690  1.984208e+05  \n",
            "3       0   0   0   0   0   0   0   3   1321  4.008756e+06  \n",
            "4       1   0   0   0   0   1   0   5  73056  3.072272e+05  \n",
            "...    ..  ..  ..  ..  ..  ..  ..  ..    ...           ...  \n",
            "57966   0   0   0   0   0   0   0   0    410  3.443332e+06  \n",
            "57967   0   0   0   0   0   0   0   0   8272  2.128621e+05  \n",
            "57968   0   0   0   0   0   0   0   0    294  3.028611e+06  \n",
            "57969   0   0   0   0   0   0   2   0   1983  3.629365e+06  \n",
            "57970   0   0   0   0   0   1   2   1  16679  2.956852e+05  \n",
            "\n",
            "[57971 rows x 36 columns]\n"
          ]
        }
      ]
    },
    {
      "cell_type": "markdown",
      "source": [
        "## Adding Rows"
      ],
      "metadata": {
        "id": "7jW_ml56nm3s"
      }
    },
    {
      "cell_type": "code",
      "source": [
        "row_concat = pd.concat([casecostprediction], sort=False)\n",
        "print(row_concat)"
      ],
      "metadata": {
        "colab": {
          "base_uri": "https://localhost:8080/"
        },
        "id": "w_m81hUunkMU",
        "outputId": "4eae4966-31e7-43ab-ea49-48cea709676c"
      },
      "execution_count": 16,
      "outputs": [
        {
          "output_type": "stream",
          "name": "stdout",
          "text": [
            "       row_id         tglpelayanan  kddati2  tkp  peserta  a  b  c  cb  d  \\\n",
            "0           1  2014-04-01 00:00:00      332   40   179530  0  0  1   0  1   \n",
            "1           2  2016-11-01 00:00:00       54   40   104782  0  1  0   0  0   \n",
            "2           3  2016-05-01 00:00:00      323   30   280645  0  0  1   0  0   \n",
            "3           4  2018-11-01 00:00:00      318   40   178685  0  1  0   0  0   \n",
            "4           5  2019-10-01 00:00:00      150   30  1199321  1  0  1   0  0   \n",
            "...       ...                  ...      ...  ...      ... .. .. ..  .. ..   \n",
            "57966   57967  2019-03-01 00:00:00      241   40   157213  0  0  1   0  0   \n",
            "57967   57968  2019-09-01 00:00:00      338   30   402173  0  0  1   0  0   \n",
            "57968   57969  2016-06-01 00:00:00      241   40    99401  0  0  1   0  0   \n",
            "57969   57970  2018-01-01 00:00:00      147   40   509495  0  0  1   0  0   \n",
            "57970   57971  2016-09-01 00:00:00      204   30   770169  0  1  1   0  0   \n",
            "\n",
            "       ...  kp  kt  ku  s  sa  sb  sc  sd   case     unit_cost  \n",
            "0      ...   0   0   0  0   0   0   0   0    266  3.597440e+06  \n",
            "1      ...   0   0   1  0   0   0   1   1   2453  4.951008e+06  \n",
            "2      ...   0   0   0  0   0   0   0   0   1690  1.984208e+05  \n",
            "3      ...   0   0   0  0   0   0   0   3   1321  4.008756e+06  \n",
            "4      ...   1   0   0  0   0   1   0   5  73056  3.072272e+05  \n",
            "...    ...  ..  ..  .. ..  ..  ..  ..  ..    ...           ...  \n",
            "57966  ...   0   0   0  0   0   0   0   0    410  3.443332e+06  \n",
            "57967  ...   0   0   0  0   0   0   0   0   8272  2.128621e+05  \n",
            "57968  ...   0   0   0  0   0   0   0   0    294  3.028611e+06  \n",
            "57969  ...   0   0   0  0   0   0   2   0   1983  3.629365e+06  \n",
            "57970  ...   0   0   0  0   0   1   2   1  16679  2.956852e+05  \n",
            "\n",
            "[57971 rows x 36 columns]\n"
          ]
        }
      ]
    },
    {
      "cell_type": "code",
      "source": [
        "print(pd.concat([casecostprediction], join='inner'))"
      ],
      "metadata": {
        "colab": {
          "base_uri": "https://localhost:8080/"
        },
        "id": "sKBUZ-mbnkQO",
        "outputId": "e0190869-dc79-453f-c408-a942f368dcf9"
      },
      "execution_count": 17,
      "outputs": [
        {
          "output_type": "stream",
          "name": "stdout",
          "text": [
            "       row_id         tglpelayanan  kddati2  tkp  peserta  a  b  c  cb  d  \\\n",
            "0           1  2014-04-01 00:00:00      332   40   179530  0  0  1   0  1   \n",
            "1           2  2016-11-01 00:00:00       54   40   104782  0  1  0   0  0   \n",
            "2           3  2016-05-01 00:00:00      323   30   280645  0  0  1   0  0   \n",
            "3           4  2018-11-01 00:00:00      318   40   178685  0  1  0   0  0   \n",
            "4           5  2019-10-01 00:00:00      150   30  1199321  1  0  1   0  0   \n",
            "...       ...                  ...      ...  ...      ... .. .. ..  .. ..   \n",
            "57966   57967  2019-03-01 00:00:00      241   40   157213  0  0  1   0  0   \n",
            "57967   57968  2019-09-01 00:00:00      338   30   402173  0  0  1   0  0   \n",
            "57968   57969  2016-06-01 00:00:00      241   40    99401  0  0  1   0  0   \n",
            "57969   57970  2018-01-01 00:00:00      147   40   509495  0  0  1   0  0   \n",
            "57970   57971  2016-09-01 00:00:00      204   30   770169  0  1  1   0  0   \n",
            "\n",
            "       ...  kp  kt  ku  s  sa  sb  sc  sd   case     unit_cost  \n",
            "0      ...   0   0   0  0   0   0   0   0    266  3.597440e+06  \n",
            "1      ...   0   0   1  0   0   0   1   1   2453  4.951008e+06  \n",
            "2      ...   0   0   0  0   0   0   0   0   1690  1.984208e+05  \n",
            "3      ...   0   0   0  0   0   0   0   3   1321  4.008756e+06  \n",
            "4      ...   1   0   0  0   0   1   0   5  73056  3.072272e+05  \n",
            "...    ...  ..  ..  .. ..  ..  ..  ..  ..    ...           ...  \n",
            "57966  ...   0   0   0  0   0   0   0   0    410  3.443332e+06  \n",
            "57967  ...   0   0   0  0   0   0   0   0   8272  2.128621e+05  \n",
            "57968  ...   0   0   0  0   0   0   0   0    294  3.028611e+06  \n",
            "57969  ...   0   0   0  0   0   0   2   0   1983  3.629365e+06  \n",
            "57970  ...   0   0   0  0   0   1   2   1  16679  2.956852e+05  \n",
            "\n",
            "[57971 rows x 36 columns]\n"
          ]
        }
      ]
    },
    {
      "cell_type": "code",
      "source": [
        "print(pd.concat([casecostprediction], ignore_index=False, join='inner'))"
      ],
      "metadata": {
        "colab": {
          "base_uri": "https://localhost:8080/"
        },
        "id": "nmLH-AnHnk02",
        "outputId": "94345218-2580-4fde-af53-121a312aee40"
      },
      "execution_count": 18,
      "outputs": [
        {
          "output_type": "stream",
          "name": "stdout",
          "text": [
            "       row_id         tglpelayanan  kddati2  tkp  peserta  a  b  c  cb  d  \\\n",
            "0           1  2014-04-01 00:00:00      332   40   179530  0  0  1   0  1   \n",
            "1           2  2016-11-01 00:00:00       54   40   104782  0  1  0   0  0   \n",
            "2           3  2016-05-01 00:00:00      323   30   280645  0  0  1   0  0   \n",
            "3           4  2018-11-01 00:00:00      318   40   178685  0  1  0   0  0   \n",
            "4           5  2019-10-01 00:00:00      150   30  1199321  1  0  1   0  0   \n",
            "...       ...                  ...      ...  ...      ... .. .. ..  .. ..   \n",
            "57966   57967  2019-03-01 00:00:00      241   40   157213  0  0  1   0  0   \n",
            "57967   57968  2019-09-01 00:00:00      338   30   402173  0  0  1   0  0   \n",
            "57968   57969  2016-06-01 00:00:00      241   40    99401  0  0  1   0  0   \n",
            "57969   57970  2018-01-01 00:00:00      147   40   509495  0  0  1   0  0   \n",
            "57970   57971  2016-09-01 00:00:00      204   30   770169  0  1  1   0  0   \n",
            "\n",
            "       ...  kp  kt  ku  s  sa  sb  sc  sd   case     unit_cost  \n",
            "0      ...   0   0   0  0   0   0   0   0    266  3.597440e+06  \n",
            "1      ...   0   0   1  0   0   0   1   1   2453  4.951008e+06  \n",
            "2      ...   0   0   0  0   0   0   0   0   1690  1.984208e+05  \n",
            "3      ...   0   0   0  0   0   0   0   3   1321  4.008756e+06  \n",
            "4      ...   1   0   0  0   0   1   0   5  73056  3.072272e+05  \n",
            "...    ...  ..  ..  .. ..  ..  ..  ..  ..    ...           ...  \n",
            "57966  ...   0   0   0  0   0   0   0   0    410  3.443332e+06  \n",
            "57967  ...   0   0   0  0   0   0   0   0   8272  2.128621e+05  \n",
            "57968  ...   0   0   0  0   0   0   0   0    294  3.028611e+06  \n",
            "57969  ...   0   0   0  0   0   0   2   0   1983  3.629365e+06  \n",
            "57970  ...   0   0   0  0   0   1   2   1  16679  2.956852e+05  \n",
            "\n",
            "[57971 rows x 36 columns]\n"
          ]
        }
      ]
    },
    {
      "cell_type": "markdown",
      "source": [
        "## Concatenate Columns with Different Rows"
      ],
      "metadata": {
        "id": "QOfzBf5HnxMu"
      }
    },
    {
      "cell_type": "code",
      "source": [
        "col_concat = pd.concat([casecostprediction], axis=1)\n",
        "print(col_concat)"
      ],
      "metadata": {
        "colab": {
          "base_uri": "https://localhost:8080/"
        },
        "id": "lU4n2Cgnnk4T",
        "outputId": "dc4da384-fba9-4d4b-b3d8-0fea514eff75"
      },
      "execution_count": 19,
      "outputs": [
        {
          "output_type": "stream",
          "name": "stdout",
          "text": [
            "       row_id         tglpelayanan  kddati2  tkp  peserta  a  b  c  cb  d  \\\n",
            "0           1  2014-04-01 00:00:00      332   40   179530  0  0  1   0  1   \n",
            "1           2  2016-11-01 00:00:00       54   40   104782  0  1  0   0  0   \n",
            "2           3  2016-05-01 00:00:00      323   30   280645  0  0  1   0  0   \n",
            "3           4  2018-11-01 00:00:00      318   40   178685  0  1  0   0  0   \n",
            "4           5  2019-10-01 00:00:00      150   30  1199321  1  0  1   0  0   \n",
            "...       ...                  ...      ...  ...      ... .. .. ..  .. ..   \n",
            "57966   57967  2019-03-01 00:00:00      241   40   157213  0  0  1   0  0   \n",
            "57967   57968  2019-09-01 00:00:00      338   30   402173  0  0  1   0  0   \n",
            "57968   57969  2016-06-01 00:00:00      241   40    99401  0  0  1   0  0   \n",
            "57969   57970  2018-01-01 00:00:00      147   40   509495  0  0  1   0  0   \n",
            "57970   57971  2016-09-01 00:00:00      204   30   770169  0  1  1   0  0   \n",
            "\n",
            "       ...  kp  kt  ku  s  sa  sb  sc  sd   case     unit_cost  \n",
            "0      ...   0   0   0  0   0   0   0   0    266  3.597440e+06  \n",
            "1      ...   0   0   1  0   0   0   1   1   2453  4.951008e+06  \n",
            "2      ...   0   0   0  0   0   0   0   0   1690  1.984208e+05  \n",
            "3      ...   0   0   0  0   0   0   0   3   1321  4.008756e+06  \n",
            "4      ...   1   0   0  0   0   1   0   5  73056  3.072272e+05  \n",
            "...    ...  ..  ..  .. ..  ..  ..  ..  ..    ...           ...  \n",
            "57966  ...   0   0   0  0   0   0   0   0    410  3.443332e+06  \n",
            "57967  ...   0   0   0  0   0   0   0   0   8272  2.128621e+05  \n",
            "57968  ...   0   0   0  0   0   0   0   0    294  3.028611e+06  \n",
            "57969  ...   0   0   0  0   0   0   2   0   1983  3.629365e+06  \n",
            "57970  ...   0   0   0  0   0   1   2   1  16679  2.956852e+05  \n",
            "\n",
            "[57971 rows x 36 columns]\n"
          ]
        }
      ]
    },
    {
      "cell_type": "code",
      "source": [
        "print(pd.concat([casecostprediction], axis=1, join='inner'))"
      ],
      "metadata": {
        "colab": {
          "base_uri": "https://localhost:8080/"
        },
        "id": "lg2fu7rdn4v6",
        "outputId": "8c83c7df-a378-4625-e4b2-30142958fd1a"
      },
      "execution_count": 20,
      "outputs": [
        {
          "output_type": "stream",
          "name": "stdout",
          "text": [
            "       row_id         tglpelayanan  kddati2  tkp  peserta  a  b  c  cb  d  \\\n",
            "0           1  2014-04-01 00:00:00      332   40   179530  0  0  1   0  1   \n",
            "1           2  2016-11-01 00:00:00       54   40   104782  0  1  0   0  0   \n",
            "2           3  2016-05-01 00:00:00      323   30   280645  0  0  1   0  0   \n",
            "3           4  2018-11-01 00:00:00      318   40   178685  0  1  0   0  0   \n",
            "4           5  2019-10-01 00:00:00      150   30  1199321  1  0  1   0  0   \n",
            "...       ...                  ...      ...  ...      ... .. .. ..  .. ..   \n",
            "57966   57967  2019-03-01 00:00:00      241   40   157213  0  0  1   0  0   \n",
            "57967   57968  2019-09-01 00:00:00      338   30   402173  0  0  1   0  0   \n",
            "57968   57969  2016-06-01 00:00:00      241   40    99401  0  0  1   0  0   \n",
            "57969   57970  2018-01-01 00:00:00      147   40   509495  0  0  1   0  0   \n",
            "57970   57971  2016-09-01 00:00:00      204   30   770169  0  1  1   0  0   \n",
            "\n",
            "       ...  kp  kt  ku  s  sa  sb  sc  sd   case     unit_cost  \n",
            "0      ...   0   0   0  0   0   0   0   0    266  3.597440e+06  \n",
            "1      ...   0   0   1  0   0   0   1   1   2453  4.951008e+06  \n",
            "2      ...   0   0   0  0   0   0   0   0   1690  1.984208e+05  \n",
            "3      ...   0   0   0  0   0   0   0   3   1321  4.008756e+06  \n",
            "4      ...   1   0   0  0   0   1   0   5  73056  3.072272e+05  \n",
            "...    ...  ..  ..  .. ..  ..  ..  ..  ..    ...           ...  \n",
            "57966  ...   0   0   0  0   0   0   0   0    410  3.443332e+06  \n",
            "57967  ...   0   0   0  0   0   0   0   0   8272  2.128621e+05  \n",
            "57968  ...   0   0   0  0   0   0   0   0    294  3.028611e+06  \n",
            "57969  ...   0   0   0  0   0   0   2   0   1983  3.629365e+06  \n",
            "57970  ...   0   0   0  0   0   1   2   1  16679  2.956852e+05  \n",
            "\n",
            "[57971 rows x 36 columns]\n"
          ]
        }
      ]
    }
  ]
}